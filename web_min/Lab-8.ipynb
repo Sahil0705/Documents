{
 "cells": [
  {
   "cell_type": "markdown",
   "id": "1da9f0cb",
   "metadata": {},
   "source": [
    "# Web Mining Lab - 8, Sahil Sachin Donde - 19BCE1353"
   ]
  },
  {
   "cell_type": "markdown",
   "id": "34a7c533",
   "metadata": {},
   "source": [
    "### Page Rank Algorithm"
   ]
  },
  {
   "cell_type": "code",
   "execution_count": 1,
   "id": "a83ea6c3",
   "metadata": {},
   "outputs": [
    {
     "name": "stdout",
     "output_type": "stream",
     "text": [
      "Enter the total no edges in the graph: 11\n",
      "\n",
      "Enter the nodes for edge- 0\n",
      "Enter the source node: a\n",
      "Enter the destination node: d\n",
      "\n",
      "Enter the nodes for edge- 1\n",
      "Enter the source node: d\n",
      "Enter the destination node: a\n",
      "\n",
      "Enter the nodes for edge- 2\n",
      "Enter the source node: b\n",
      "Enter the destination node: a\n",
      "\n",
      "Enter the nodes for edge- 3\n",
      "Enter the source node: c\n",
      "Enter the destination node: b\n",
      "\n",
      "Enter the nodes for edge- 4\n",
      "Enter the source node: e\n",
      "Enter the destination node: d\n",
      "\n",
      "Enter the nodes for edge- 5\n",
      "Enter the source node: e\n",
      "Enter the destination node: a\n",
      "\n",
      "Enter the nodes for edge- 6\n",
      "Enter the source node: e\n",
      "Enter the destination node: c\n",
      "\n",
      "Enter the nodes for edge- 7\n",
      "Enter the source node: c\n",
      "Enter the destination node: e\n",
      "\n",
      "Enter the nodes for edge- 8\n",
      "Enter the source node: d\n",
      "Enter the destination node: c\n",
      "\n",
      "Enter the nodes for edge- 9\n",
      "Enter the source node: d\n",
      "Enter the destination node: f\n",
      "\n",
      "Enter the nodes for edge- 10\n",
      "Enter the source node: f\n",
      "Enter the destination node: c\n",
      "\n",
      "[('a', 'd'), ('d', 'a'), ('d', 'c'), ('d', 'f'), ('b', 'a'), ('c', 'b'), ('c', 'e'), ('e', 'd'), ('e', 'a'), ('e', 'c'), ('f', 'c')]\n"
     ]
    }
   ],
   "source": [
    "\n",
    "from collections import defaultdict\n",
    "\n",
    "graph = defaultdict(list)\n",
    "def addEdge(graph,u,v):\n",
    "    graph[u].append(v)\n",
    "\n",
    "def generate_edges(graph):\n",
    "    edges = []\n",
    "\n",
    "    for node in graph:\n",
    "        for neighbour in graph[node]:\n",
    "            edges.append((node, neighbour))\n",
    "    return edges\n",
    "\n",
    "vertices = []\n",
    "\n",
    "n = int(input(\"Enter the total no edges in the graph: \"))\n",
    "print()\n",
    "for i in range(0,n):\n",
    "    print(\"Enter the nodes for edge-\",i)\n",
    "    u = input(\"Enter the source node: \")\n",
    "    v = input(\"Enter the destination node: \")\n",
    "    addEdge(graph,u,v)\n",
    "    if(u not in vertices):\n",
    "        vertices.append(u)\n",
    "    if(v not in vertices):\n",
    "        vertices.append(v)\n",
    "    print()\n",
    "\n",
    "dir_graph = generate_edges(graph)\n",
    "print(dir_graph)\n",
    "vertices.sort()"
   ]
  },
  {
   "cell_type": "code",
   "execution_count": 2,
   "id": "29e3279c",
   "metadata": {},
   "outputs": [
    {
     "name": "stdout",
     "output_type": "stream",
     "text": [
      "Enter the damping factor: 0.85\n"
     ]
    }
   ],
   "source": [
    "d = float(input(\"Enter the damping factor: \"))"
   ]
  },
  {
   "cell_type": "code",
   "execution_count": 10,
   "id": "a6be3a61",
   "metadata": {},
   "outputs": [
    {
     "name": "stdout",
     "output_type": "stream",
     "text": [
      "Enter the number of iterations: 25\n"
     ]
    }
   ],
   "source": [
    "no_of_iterations = int(input(\"Enter the number of iterations: \"))"
   ]
  },
  {
   "cell_type": "code",
   "execution_count": 3,
   "id": "6c9ffe10",
   "metadata": {},
   "outputs": [
    {
     "data": {
      "text/plain": [
       "['a', 'b', 'c', 'd', 'e', 'f']"
      ]
     },
     "execution_count": 3,
     "metadata": {},
     "output_type": "execute_result"
    }
   ],
   "source": [
    "vertices"
   ]
  },
  {
   "cell_type": "code",
   "execution_count": 4,
   "id": "f7f782da",
   "metadata": {},
   "outputs": [
    {
     "name": "stdout",
     "output_type": "stream",
     "text": [
      "{'d': 3, 'b': 1, 'e': 3}\n",
      "{'c': 2}\n",
      "{'d': 3, 'e': 3, 'f': 1}\n",
      "{'a': 1, 'e': 3}\n",
      "{'c': 2}\n",
      "{'d': 3}\n",
      "[[0, 1, 0, 3, 3, 0], [0, 0, 2, 0, 0, 0], [0, 0, 0, 3, 3, 1], [1, 0, 0, 0, 3, 0], [0, 0, 2, 0, 0, 0], [0, 0, 0, 3, 0, 0]]\n"
     ]
    }
   ],
   "source": [
    "l3=[]\n",
    "for i in vertices:\n",
    "    #print(i)\n",
    "    temp = {}\n",
    "    for j in dir_graph:\n",
    "        if(i == j[1]):\n",
    "            c = 0\n",
    "            for k in dir_graph:\n",
    "                if(k[0]==j[0]):\n",
    "                    c=c+1\n",
    "            temp[j[0]]=c\n",
    "    print(temp)\n",
    "    l1=[]\n",
    "    for l in temp:\n",
    "        l1.append(l)\n",
    "    #print(l1)\n",
    "    l2=[]\n",
    "    if('a' in l1):\n",
    "        l2.append(temp['a'])\n",
    "    else:\n",
    "        l2.append(0)\n",
    "    if('b' in l1):\n",
    "        l2.append(temp['b'])\n",
    "    else:\n",
    "        l2.append(0)\n",
    "    if('c' in l1):\n",
    "        l2.append(temp['c'])\n",
    "    else:\n",
    "        l2.append(0)\n",
    "    if('d' in l1):\n",
    "        l2.append(temp['d'])\n",
    "    else:\n",
    "        l2.append(0)\n",
    "    if('e' in l1):\n",
    "        l2.append(temp['e'])\n",
    "    else:\n",
    "        l2.append(0)\n",
    "    if('f' in l1):\n",
    "        l2.append(temp['f'])\n",
    "    else:\n",
    "        l2.append(0)\n",
    "    l3.append(l2)\n",
    "print(l3)"
   ]
  },
  {
   "cell_type": "code",
   "execution_count": 5,
   "id": "a39fa3c6",
   "metadata": {},
   "outputs": [
    {
     "name": "stdout",
     "output_type": "stream",
     "text": [
      "[[1, -0.85, 0, -0.283, -0.283, 0], [0, 1, -0.425, 0, 0, 0], [0, 0, 1, -0.283, -0.283, -0.85], [-0.85, 0, 0, 1, -0.283, 0], [0, 0, -0.425, 0, 1, 0], [0, 0, 0, -0.283, 0, 1]]\n"
     ]
    }
   ],
   "source": [
    "for i in range(len(l3)):\n",
    "    for j in range(len(l3[i])):\n",
    "        if(l3[i][j]!=0):\n",
    "            l3[i][j]=round(-(1-d)/l3[i][j],3)\n",
    "        if(j==i):\n",
    "            l3[i][j]=1\n",
    "print(l3)"
   ]
  },
  {
   "cell_type": "code",
   "execution_count": 26,
   "id": "6703e7d6",
   "metadata": {},
   "outputs": [],
   "source": [
    "# Solving using simulataneous equations"
   ]
  },
  {
   "cell_type": "code",
   "execution_count": 6,
   "id": "0660afca",
   "metadata": {},
   "outputs": [
    {
     "name": "stdout",
     "output_type": "stream",
     "text": [
      "[1.337354   0.67860107 1.24376723 1.478795   0.67860107 0.56849899]\n"
     ]
    }
   ],
   "source": [
    "import numpy as np\n",
    "\n",
    "A = [l3[0], l3[1], l3[2], l3[3], l3[4], l3[5]]\n",
    "B = [0.15,0.15,0.15,0.15,0.15,0.15]\n",
    "res = np.linalg.solve(A,B)\n",
    "#print(A)\n",
    "#print(B)\n",
    "print(res)"
   ]
  },
  {
   "cell_type": "code",
   "execution_count": null,
   "id": "54a807a6",
   "metadata": {},
   "outputs": [],
   "source": [
    "# Solving using no of iterations = 25"
   ]
  },
  {
   "cell_type": "code",
   "execution_count": 7,
   "id": "05d60f0d",
   "metadata": {},
   "outputs": [
    {
     "name": "stdout",
     "output_type": "stream",
     "text": [
      "{'d': 3, 'b': 1, 'e': 3}\n",
      "{'c': 2}\n",
      "{'d': 3, 'e': 3, 'f': 1}\n",
      "{'a': 1, 'e': 3}\n",
      "{'c': 2}\n",
      "{'d': 3}\n",
      "[[0, 1, 0, 3, 3, 0], [0, 0, 2, 0, 0, 0], [0, 0, 0, 3, 3, 1], [1, 0, 0, 0, 3, 0], [0, 0, 2, 0, 0, 0], [0, 0, 0, 3, 0, 0]]\n"
     ]
    }
   ],
   "source": [
    "l3=[]\n",
    "for i in vertices:\n",
    "    #print(i)\n",
    "    temp = {}\n",
    "    for j in dir_graph:\n",
    "        if(i == j[1]):\n",
    "            c = 0\n",
    "            for k in dir_graph:\n",
    "                if(k[0]==j[0]):\n",
    "                    c=c+1\n",
    "            temp[j[0]]=c\n",
    "    print(temp)\n",
    "    l1=[]\n",
    "    for l in temp:\n",
    "        l1.append(l)\n",
    "    #print(l1)\n",
    "    l2=[]\n",
    "    if('a' in l1):\n",
    "        l2.append(temp['a'])\n",
    "    else:\n",
    "        l2.append(0)\n",
    "    if('b' in l1):\n",
    "        l2.append(temp['b'])\n",
    "    else:\n",
    "        l2.append(0)\n",
    "    if('c' in l1):\n",
    "        l2.append(temp['c'])\n",
    "    else:\n",
    "        l2.append(0)\n",
    "    if('d' in l1):\n",
    "        l2.append(temp['d'])\n",
    "    else:\n",
    "        l2.append(0)\n",
    "    if('e' in l1):\n",
    "        l2.append(temp['e'])\n",
    "    else:\n",
    "        l2.append(0)\n",
    "    if('f' in l1):\n",
    "        l2.append(temp['f'])\n",
    "    else:\n",
    "        l2.append(0)\n",
    "    l3.append(l2)\n",
    "print(l3)"
   ]
  },
  {
   "cell_type": "code",
   "execution_count": 8,
   "id": "b1f89d2a",
   "metadata": {},
   "outputs": [
    {
     "name": "stdout",
     "output_type": "stream",
     "text": [
      "[[0, 0.85, 0, 0.283, 0.283, 0], [0, 0, 0.425, 0, 0, 0], [0, 0, 0, 0.283, 0.283, 0.85], [0.85, 0, 0, 0, 0.283, 0], [0, 0, 0.425, 0, 0, 0], [0, 0, 0, 0.283, 0, 0]]\n"
     ]
    }
   ],
   "source": [
    "for i in range(len(l3)):\n",
    "    for j in range(len(l3[i])):\n",
    "        if(l3[i][j]!=0):\n",
    "            l3[i][j]=round(0.85/l3[i][j],3)\n",
    "print(l3)"
   ]
  },
  {
   "cell_type": "code",
   "execution_count": 9,
   "id": "d918a543",
   "metadata": {},
   "outputs": [],
   "source": [
    "pg_rank=[1,1,1,1,1,1]"
   ]
  },
  {
   "cell_type": "code",
   "execution_count": 11,
   "id": "378cf476",
   "metadata": {},
   "outputs": [
    {
     "name": "stdout",
     "output_type": "stream",
     "text": [
      "Iteration No  1  ->  [1, 1, 1, 1, 1, 1]\n",
      "Iteration No  2  ->  [1.3536, 0.51125, 1.3536, 1.36853, 0.63899, 0.4792]\n",
      "Iteration No  3  ->  [1.00228, 0.63899, 0.97912, 1.02785, 0.50371, 0.39725]\n",
      "Iteration No  4  ->  [0.98008, 0.50371, 0.80543, 0.97928, 0.44096, 0.38557]\n",
      "Iteration No  5  ->  [0.85557, 0.44096, 0.77021, 0.87422, 0.42824, 0.36029]\n",
      "Iteration No  6  ->  [0.7819, 0.42824, 0.72361, 0.81794, 0.4114, 0.34676]\n",
      "Iteration No  7  ->  [0.75512, 0.4114, 0.69626, 0.79454, 0.40152, 0.34112]\n",
      "Iteration No  8  ->  [0.73494, 0.40152, 0.68417, 0.77758, 0.39715, 0.33705]\n",
      "Iteration No  9  ->  [0.72268, 0.39715, 0.6761, 0.76767, 0.39424, 0.33466]\n",
      "Iteration No  10  ->  [0.71644, 0.39424, 0.67129, 0.76246, 0.3925, 0.33341]\n",
      "Iteration No  11  ->  [0.71267, 0.3925, 0.66872, 0.75932, 0.39158, 0.33266]\n",
      "Iteration No  12  ->  [0.71044, 0.39158, 0.6672, 0.75749, 0.39103, 0.33221]\n",
      "Iteration No  13  ->  [0.70919, 0.39103, 0.6663, 0.75645, 0.3907, 0.33197]\n",
      "Iteration No  14  ->  [0.70848, 0.3907, 0.6658, 0.75586, 0.39052, 0.33182]\n",
      "Iteration No  15  ->  [0.70804, 0.39052, 0.66551, 0.7555, 0.39041, 0.33174]\n",
      "Iteration No  16  ->  [0.7078, 0.39041, 0.66534, 0.7553, 0.39035, 0.33169]\n",
      "Iteration No  17  ->  [0.70766, 0.39035, 0.66524, 0.75518, 0.39032, 0.33166]\n",
      "Iteration No  18  ->  [0.70758, 0.39032, 0.66518, 0.75511, 0.3903, 0.33164]\n",
      "Iteration No  19  ->  [0.70753, 0.3903, 0.66513, 0.75507, 0.39028, 0.33163]\n",
      "Iteration No  20  ->  [0.7075, 0.39028, 0.66512, 0.75505, 0.39028, 0.33163]\n",
      "Iteration No  21  ->  [0.70749, 0.39028, 0.66512, 0.75505, 0.39028, 0.33163]\n",
      "Iteration No  22  ->  [0.70749, 0.39028, 0.66512, 0.75505, 0.39028, 0.33163]\n",
      "Iteration No  23  ->  [0.70749, 0.39028, 0.66512, 0.75505, 0.39028, 0.33163]\n",
      "Iteration No  24  ->  [0.70749, 0.39028, 0.66512, 0.75505, 0.39028, 0.33163]\n",
      "Iteration No  25  ->  [0.70749, 0.39028, 0.66512, 0.75505, 0.39028, 0.33163]\n"
     ]
    }
   ],
   "source": [
    "for k in range(no_of_iterations):\n",
    "    print(\"Iteration No \",k+1,\" -> \",pg_rank)\n",
    "    for i in range(len(l3)):\n",
    "        tot = 0\n",
    "        for j in range(len(l3[i])):\n",
    "            if(l3[i][j]!=0):\n",
    "                tot = round(tot + (pg_rank[j]*l3[i][j]),5)\n",
    "        pg_rank[i] = round(0.15 + 0.85*(tot),5)"
   ]
  },
  {
   "cell_type": "code",
   "execution_count": null,
   "id": "ff054dbe",
   "metadata": {},
   "outputs": [],
   "source": []
  },
  {
   "cell_type": "code",
   "execution_count": null,
   "id": "8c6e4be7",
   "metadata": {},
   "outputs": [],
   "source": []
  },
  {
   "cell_type": "code",
   "execution_count": 12,
   "id": "4449cb5b",
   "metadata": {},
   "outputs": [],
   "source": [
    "def In(p):\n",
    "    In_p = 0\n",
    "    for i in dir_graph:\n",
    "        if(i[1]==p):\n",
    "            In_p = In_p + 1\n",
    "    return(In_p)"
   ]
  },
  {
   "cell_type": "code",
   "execution_count": 13,
   "id": "b1aec470",
   "metadata": {},
   "outputs": [],
   "source": [
    "def Out(p):\n",
    "    Out_p = 0\n",
    "    for i in dir_graph:\n",
    "        if(i[0]==p):\n",
    "            Out_p = Out_p + 1\n",
    "    return(Out_p)"
   ]
  },
  {
   "cell_type": "code",
   "execution_count": 14,
   "id": "0f9b2eb4",
   "metadata": {},
   "outputs": [],
   "source": [
    "def Ref(p):\n",
    "    ref = []\n",
    "    for i in dir_graph:\n",
    "        if(i[0]==p):\n",
    "            ref.append(i[1])\n",
    "    return(ref)"
   ]
  },
  {
   "cell_type": "code",
   "execution_count": 16,
   "id": "d8ebde03",
   "metadata": {},
   "outputs": [],
   "source": [
    "def Win(u,v):\n",
    "    ref_u = Ref(u)\n",
    "    sum_p = 0\n",
    "    for i in ref_u:\n",
    "        sum_p = sum_p + In(i)\n",
    "    return(round((In(v)/sum_p),3))"
   ]
  },
  {
   "cell_type": "code",
   "execution_count": 17,
   "id": "b98afad3",
   "metadata": {},
   "outputs": [],
   "source": [
    "def Wout(u,v):\n",
    "    ref_u = Ref(u)\n",
    "    sum_p = 0\n",
    "    for i in ref_u:\n",
    "        sum_p = sum_p + Out(i)\n",
    "    return(round((Out(v)/sum_p),3))"
   ]
  },
  {
   "cell_type": "code",
   "execution_count": 18,
   "id": "235aff3c",
   "metadata": {},
   "outputs": [
    {
     "name": "stdout",
     "output_type": "stream",
     "text": [
      "{'a': [['d', 0.1072], ['b', 1.0], ['e', 0.0626]], 'b': [['c', 0.125]], 'c': [['d', 0.2145], ['e', 0.1249], ['f', 1.0]], 'd': [['a', 1.0], ['e', 0.125]], 'e': [['c', 0.375]], 'f': [['d', 0.0357]]}\n"
     ]
    }
   ],
   "source": [
    "temp={}\n",
    "for u in vertices:\n",
    "    l3=[]\n",
    "    tot = 0\n",
    "    for v in dir_graph:\n",
    "        if(u==v[1]):\n",
    "            l3.append([v[0],round(Win(v[0],u)*Wout(v[0],u),4)])\n",
    "    temp[u] = l3\n",
    "print(temp)"
   ]
  },
  {
   "cell_type": "code",
   "execution_count": 19,
   "id": "1accf173",
   "metadata": {},
   "outputs": [
    {
     "name": "stdout",
     "output_type": "stream",
     "text": [
      "[[0, 1.0, 0, 0.1072, 0.0626, 0], [0, 0, 0.125, 0, 0, 0], [0, 0, 0, 0.2145, 0.1249, 1.0], [1.0, 0, 0, 0, 0.125, 0], [0, 0, 0.375, 0, 0, 0], [0, 0, 0, 0.0357, 0, 0]]\n"
     ]
    }
   ],
   "source": [
    "l1=[]\n",
    "for i in temp:\n",
    "    l2={}\n",
    "    l3=[]\n",
    "    for j in temp[i]:\n",
    "        l2[j[0]]=j[1]\n",
    "    #print(l2)\n",
    "    if('a' in l2):\n",
    "        l3.append(l2['a'])\n",
    "    else:\n",
    "        l3.append(0)\n",
    "    if('b' in l2):\n",
    "        l3.append(l2['b'])\n",
    "    else:\n",
    "        l3.append(0)\n",
    "    if('c' in l2):\n",
    "        l3.append(l2['c'])\n",
    "    else:\n",
    "        l3.append(0)\n",
    "    if('d' in l2):\n",
    "        l3.append(l2['d'])\n",
    "    else:\n",
    "        l3.append(0)\n",
    "    if('e' in l2):\n",
    "        l3.append(l2['e'])\n",
    "    else:\n",
    "        l3.append(0)\n",
    "    if('f' in l2):\n",
    "        l3.append(l2['f'])\n",
    "    else:\n",
    "        l3.append(0)\n",
    "    l1.append(l3)\n",
    "print(l1)"
   ]
  },
  {
   "cell_type": "code",
   "execution_count": 20,
   "id": "b04154f3",
   "metadata": {},
   "outputs": [
    {
     "name": "stdout",
     "output_type": "stream",
     "text": [
      "[[1, -0.85, 0, -0.09112, -0.05321, 0], [0, 1, -0.10625, 0, 0, 0], [0, 0, 1, -0.18232, -0.10616, -0.85], [-0.85, 0, 0, 1, -0.10625, 0], [0, 0, -0.31875, 0, 1, 0], [0, 0, 0, -0.03035, 0, 1]]\n"
     ]
    }
   ],
   "source": [
    "for i in range(len(l1)):\n",
    "    for j in range(len(l1[i])):\n",
    "        if(l1[i][j]!=0):\n",
    "            l1[i][j]=round(-0.85*l1[i][j],5)\n",
    "        if(j==i):\n",
    "            l1[i][j]=1\n",
    "print(l1)"
   ]
  },
  {
   "cell_type": "code",
   "execution_count": 27,
   "id": "904b54f6",
   "metadata": {},
   "outputs": [],
   "source": [
    "# Solving using simulataneous equations"
   ]
  },
  {
   "cell_type": "code",
   "execution_count": 21,
   "id": "fbff0957",
   "metadata": {},
   "outputs": [
    {
     "name": "stdout",
     "output_type": "stream",
     "text": [
      "[0.37501707 0.19368021 0.41110788 0.49862508 0.28104064 0.16513327]\n"
     ]
    }
   ],
   "source": [
    "import numpy as np\n",
    "\n",
    "A = [l1[0], l1[1], l1[2], l1[3], l1[4], l1[5]]\n",
    "B = [0.15,0.15,0.15,0.15,0.15,0.15]\n",
    "res = np.linalg.solve(A,B)\n",
    "#print(A)\n",
    "#print(B)\n",
    "print(res)"
   ]
  },
  {
   "cell_type": "code",
   "execution_count": 28,
   "id": "38f0ba9b",
   "metadata": {},
   "outputs": [],
   "source": [
    "# Solving using no of iterations = 25"
   ]
  },
  {
   "cell_type": "code",
   "execution_count": 22,
   "id": "1d617d15",
   "metadata": {},
   "outputs": [
    {
     "name": "stdout",
     "output_type": "stream",
     "text": [
      "[[0, 1.0, 0, 0.1072, 0.0626, 0], [0, 0, 0.125, 0, 0, 0], [0, 0, 0, 0.2145, 0.1249, 1.0], [1.0, 0, 0, 0, 0.125, 0], [0, 0, 0.375, 0, 0, 0], [0, 0, 0, 0.0357, 0, 0]]\n"
     ]
    }
   ],
   "source": [
    "l1=[]\n",
    "for i in temp:\n",
    "    l2={}\n",
    "    l3=[]\n",
    "    for j in temp[i]:\n",
    "        l2[j[0]]=j[1]\n",
    "    #print(l2)\n",
    "    if('a' in l2):\n",
    "        l3.append(l2['a'])\n",
    "    else:\n",
    "        l3.append(0)\n",
    "    if('b' in l2):\n",
    "        l3.append(l2['b'])\n",
    "    else:\n",
    "        l3.append(0)\n",
    "    if('c' in l2):\n",
    "        l3.append(l2['c'])\n",
    "    else:\n",
    "        l3.append(0)\n",
    "    if('d' in l2):\n",
    "        l3.append(l2['d'])\n",
    "    else:\n",
    "        l3.append(0)\n",
    "    if('e' in l2):\n",
    "        l3.append(l2['e'])\n",
    "    else:\n",
    "        l3.append(0)\n",
    "    if('f' in l2):\n",
    "        l3.append(l2['f'])\n",
    "    else:\n",
    "        l3.append(0)\n",
    "    l1.append(l3)\n",
    "print(l1)"
   ]
  },
  {
   "cell_type": "code",
   "execution_count": 23,
   "id": "645e33ad",
   "metadata": {},
   "outputs": [
    {
     "name": "stdout",
     "output_type": "stream",
     "text": [
      "[[0, 0.85, 0, 0.09112, 0.05321, 0], [0, 0, 0.10625, 0, 0, 0], [0, 0, 0, 0.182325, 0.106165, 0.85], [0.85, 0, 0, 0, 0.10625, 0], [0, 0, 0.31875, 0, 0, 0], [0, 0, 0, 0.030345, 0, 0]]\n"
     ]
    }
   ],
   "source": [
    "for i in range(len(l1)):\n",
    "    for j in range(len(l1[i])):\n",
    "        if(l1[i][j]!=0):\n",
    "            l1[i][j]=round(0.85*l1[i][j],9)\n",
    "print(l1)"
   ]
  },
  {
   "cell_type": "code",
   "execution_count": 24,
   "id": "3858b066",
   "metadata": {},
   "outputs": [],
   "source": [
    "pg_rank=[1,1,1,1,1,1]"
   ]
  },
  {
   "cell_type": "code",
   "execution_count": 25,
   "id": "58741ced",
   "metadata": {},
   "outputs": [
    {
     "name": "stdout",
     "output_type": "stream",
     "text": [
      "Iteration No  1  ->  [1, 1, 1, 1, 1, 1]\n",
      "Iteration No  2  ->  [0.99518, 0.24031, 1.11771, 0.95933, 0.45283, 0.17474]\n",
      "Iteration No  3  ->  [0.4184, 0.25095, 0.46578, 0.49319, 0.2762, 0.16272]\n",
      "Iteration No  4  ->  [0.38201, 0.19207, 0.36892, 0.45095, 0.24995, 0.16163]\n",
      "Iteration No  5  ->  [0.335, 0.18332, 0.35923, 0.41461, 0.24732, 0.16069]\n",
      "Iteration No  6  ->  [0.32575, 0.18244, 0.35267, 0.40769, 0.24555, 0.16051]\n",
      "Iteration No  7  ->  [0.3245, 0.18185, 0.35131, 0.40662, 0.24518, 0.16049]\n",
      "Iteration No  8  ->  [0.32397, 0.18173, 0.3511, 0.40621, 0.24512, 0.16048]\n",
      "Iteration No  9  ->  [0.32384, 0.18171, 0.35102, 0.40611, 0.24511, 0.16047]\n",
      "Iteration No  10  ->  [0.32382, 0.18171, 0.35099, 0.4061, 0.2451, 0.16047]\n",
      "Iteration No  11  ->  [0.32382, 0.1817, 0.35099, 0.4061, 0.2451, 0.16047]\n",
      "Iteration No  12  ->  [0.32381, 0.1817, 0.35099, 0.40609, 0.2451, 0.16047]\n",
      "Iteration No  13  ->  [0.32381, 0.1817, 0.35099, 0.40609, 0.2451, 0.16047]\n",
      "Iteration No  14  ->  [0.32381, 0.1817, 0.35099, 0.40609, 0.2451, 0.16047]\n",
      "Iteration No  15  ->  [0.32381, 0.1817, 0.35099, 0.40609, 0.2451, 0.16047]\n",
      "Iteration No  16  ->  [0.32381, 0.1817, 0.35099, 0.40609, 0.2451, 0.16047]\n",
      "Iteration No  17  ->  [0.32381, 0.1817, 0.35099, 0.40609, 0.2451, 0.16047]\n",
      "Iteration No  18  ->  [0.32381, 0.1817, 0.35099, 0.40609, 0.2451, 0.16047]\n",
      "Iteration No  19  ->  [0.32381, 0.1817, 0.35099, 0.40609, 0.2451, 0.16047]\n",
      "Iteration No  20  ->  [0.32381, 0.1817, 0.35099, 0.40609, 0.2451, 0.16047]\n",
      "Iteration No  21  ->  [0.32381, 0.1817, 0.35099, 0.40609, 0.2451, 0.16047]\n",
      "Iteration No  22  ->  [0.32381, 0.1817, 0.35099, 0.40609, 0.2451, 0.16047]\n",
      "Iteration No  23  ->  [0.32381, 0.1817, 0.35099, 0.40609, 0.2451, 0.16047]\n",
      "Iteration No  24  ->  [0.32381, 0.1817, 0.35099, 0.40609, 0.2451, 0.16047]\n",
      "Iteration No  25  ->  [0.32381, 0.1817, 0.35099, 0.40609, 0.2451, 0.16047]\n"
     ]
    }
   ],
   "source": [
    "for k in range(25):\n",
    "    print(\"Iteration No \",k+1,\" -> \",pg_rank)\n",
    "    for i in range(len(l1)):\n",
    "        tot = 0\n",
    "        for j in range(len(l1[i])):\n",
    "            if(l1[i][j]!=0):\n",
    "                tot = round(tot + (pg_rank[j]*l1[i][j]),5)\n",
    "        pg_rank[i] = round(0.15 + 0.85*(tot),5)"
   ]
  },
  {
   "cell_type": "code",
   "execution_count": null,
   "id": "2fc5563a",
   "metadata": {},
   "outputs": [],
   "source": []
  }
 ],
 "metadata": {
  "kernelspec": {
   "display_name": "Python 3",
   "language": "python",
   "name": "python3"
  },
  "language_info": {
   "codemirror_mode": {
    "name": "ipython",
    "version": 3
   },
   "file_extension": ".py",
   "mimetype": "text/x-python",
   "name": "python",
   "nbconvert_exporter": "python",
   "pygments_lexer": "ipython3",
   "version": "3.8.8"
  }
 },
 "nbformat": 4,
 "nbformat_minor": 5
}
