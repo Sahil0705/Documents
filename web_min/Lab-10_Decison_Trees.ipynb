{
 "cells": [
  {
   "cell_type": "markdown",
   "id": "3fb5e986",
   "metadata": {},
   "source": [
    "# Sahil Sachin Donde - 19BCE1353 Web Mining Lab 10 - Decision Tree"
   ]
  },
  {
   "cell_type": "markdown",
   "id": "df62064b",
   "metadata": {},
   "source": [
    "### Q.1 Implement the algorithm and show the output for “play golf problem”. - Without in-built functions"
   ]
  },
  {
   "cell_type": "code",
   "execution_count": 133,
   "id": "788a0358",
   "metadata": {},
   "outputs": [],
   "source": [
    "import pandas as pd"
   ]
  },
  {
   "cell_type": "code",
   "execution_count": 134,
   "id": "37c0535f",
   "metadata": {},
   "outputs": [
    {
     "data": {
      "text/html": [
       "<div>\n",
       "<style scoped>\n",
       "    .dataframe tbody tr th:only-of-type {\n",
       "        vertical-align: middle;\n",
       "    }\n",
       "\n",
       "    .dataframe tbody tr th {\n",
       "        vertical-align: top;\n",
       "    }\n",
       "\n",
       "    .dataframe thead th {\n",
       "        text-align: right;\n",
       "    }\n",
       "</style>\n",
       "<table border=\"1\" class=\"dataframe\">\n",
       "  <thead>\n",
       "    <tr style=\"text-align: right;\">\n",
       "      <th></th>\n",
       "      <th>Outlook</th>\n",
       "      <th>Temperature</th>\n",
       "      <th>Humidity</th>\n",
       "      <th>Wind</th>\n",
       "      <th>Play Golf</th>\n",
       "    </tr>\n",
       "  </thead>\n",
       "  <tbody>\n",
       "    <tr>\n",
       "      <th>0</th>\n",
       "      <td>Rainy</td>\n",
       "      <td>Hot</td>\n",
       "      <td>High</td>\n",
       "      <td>False</td>\n",
       "      <td>No</td>\n",
       "    </tr>\n",
       "    <tr>\n",
       "      <th>1</th>\n",
       "      <td>Rainy</td>\n",
       "      <td>Hot</td>\n",
       "      <td>High</td>\n",
       "      <td>True</td>\n",
       "      <td>No</td>\n",
       "    </tr>\n",
       "    <tr>\n",
       "      <th>2</th>\n",
       "      <td>Overcast</td>\n",
       "      <td>Hot</td>\n",
       "      <td>High</td>\n",
       "      <td>False</td>\n",
       "      <td>Yes</td>\n",
       "    </tr>\n",
       "    <tr>\n",
       "      <th>3</th>\n",
       "      <td>Sunny</td>\n",
       "      <td>Mild</td>\n",
       "      <td>High</td>\n",
       "      <td>False</td>\n",
       "      <td>Yes</td>\n",
       "    </tr>\n",
       "    <tr>\n",
       "      <th>4</th>\n",
       "      <td>Sunny</td>\n",
       "      <td>Cool</td>\n",
       "      <td>Normal</td>\n",
       "      <td>False</td>\n",
       "      <td>Yes</td>\n",
       "    </tr>\n",
       "    <tr>\n",
       "      <th>5</th>\n",
       "      <td>Sunny</td>\n",
       "      <td>Cool</td>\n",
       "      <td>Normal</td>\n",
       "      <td>True</td>\n",
       "      <td>No</td>\n",
       "    </tr>\n",
       "    <tr>\n",
       "      <th>6</th>\n",
       "      <td>Overcast</td>\n",
       "      <td>Cool</td>\n",
       "      <td>Normal</td>\n",
       "      <td>True</td>\n",
       "      <td>Yes</td>\n",
       "    </tr>\n",
       "    <tr>\n",
       "      <th>7</th>\n",
       "      <td>Rainy</td>\n",
       "      <td>Mild</td>\n",
       "      <td>High</td>\n",
       "      <td>False</td>\n",
       "      <td>No</td>\n",
       "    </tr>\n",
       "    <tr>\n",
       "      <th>8</th>\n",
       "      <td>Rainy</td>\n",
       "      <td>Cool</td>\n",
       "      <td>Normal</td>\n",
       "      <td>False</td>\n",
       "      <td>Yes</td>\n",
       "    </tr>\n",
       "    <tr>\n",
       "      <th>9</th>\n",
       "      <td>Sunny</td>\n",
       "      <td>Mild</td>\n",
       "      <td>Normal</td>\n",
       "      <td>False</td>\n",
       "      <td>Yes</td>\n",
       "    </tr>\n",
       "    <tr>\n",
       "      <th>10</th>\n",
       "      <td>Rainy</td>\n",
       "      <td>Mild</td>\n",
       "      <td>Normal</td>\n",
       "      <td>True</td>\n",
       "      <td>Yes</td>\n",
       "    </tr>\n",
       "    <tr>\n",
       "      <th>11</th>\n",
       "      <td>Overcast</td>\n",
       "      <td>Mild</td>\n",
       "      <td>High</td>\n",
       "      <td>True</td>\n",
       "      <td>Yes</td>\n",
       "    </tr>\n",
       "    <tr>\n",
       "      <th>12</th>\n",
       "      <td>Overcast</td>\n",
       "      <td>Hot</td>\n",
       "      <td>Normal</td>\n",
       "      <td>False</td>\n",
       "      <td>Yes</td>\n",
       "    </tr>\n",
       "    <tr>\n",
       "      <th>13</th>\n",
       "      <td>Sunny</td>\n",
       "      <td>Mild</td>\n",
       "      <td>High</td>\n",
       "      <td>True</td>\n",
       "      <td>No</td>\n",
       "    </tr>\n",
       "  </tbody>\n",
       "</table>\n",
       "</div>"
      ],
      "text/plain": [
       "     Outlook Temperature Humidity   Wind Play Golf\n",
       "0      Rainy         Hot     High  False        No\n",
       "1      Rainy         Hot     High   True        No\n",
       "2   Overcast         Hot     High  False       Yes\n",
       "3      Sunny        Mild     High  False       Yes\n",
       "4      Sunny        Cool   Normal  False       Yes\n",
       "5      Sunny        Cool   Normal   True        No\n",
       "6   Overcast        Cool   Normal   True       Yes\n",
       "7      Rainy        Mild     High  False        No\n",
       "8      Rainy        Cool   Normal  False       Yes\n",
       "9      Sunny        Mild   Normal  False       Yes\n",
       "10     Rainy        Mild   Normal   True       Yes\n",
       "11  Overcast        Mild     High   True       Yes\n",
       "12  Overcast         Hot   Normal  False       Yes\n",
       "13     Sunny        Mild     High   True        No"
      ]
     },
     "execution_count": 134,
     "metadata": {},
     "output_type": "execute_result"
    }
   ],
   "source": [
    "golf_df = pd.read_excel(\"Golf.xlsx\")\n",
    "golf_df"
   ]
  },
  {
   "cell_type": "code",
   "execution_count": 135,
   "id": "0a65e384",
   "metadata": {},
   "outputs": [
    {
     "data": {
      "text/plain": [
       "'Play Golf'"
      ]
     },
     "execution_count": 135,
     "metadata": {},
     "output_type": "execute_result"
    }
   ],
   "source": [
    "tar_var = golf_df.columns[golf_df.shape[1]-1]\n",
    "tar_var"
   ]
  },
  {
   "cell_type": "code",
   "execution_count": 136,
   "id": "ae82e218",
   "metadata": {},
   "outputs": [],
   "source": [
    "main_dic = {}"
   ]
  },
  {
   "cell_type": "code",
   "execution_count": 137,
   "id": "3fd3b5f0",
   "metadata": {},
   "outputs": [
    {
     "data": {
      "text/plain": [
       "'Hot'"
      ]
     },
     "execution_count": 137,
     "metadata": {},
     "output_type": "execute_result"
    }
   ],
   "source": [
    "golf_df.shape[0]\n",
    "golf_df.iloc[0,1]"
   ]
  },
  {
   "cell_type": "code",
   "execution_count": 138,
   "id": "bbf9ea59",
   "metadata": {},
   "outputs": [
    {
     "name": "stdout",
     "output_type": "stream",
     "text": [
      "Outlook  ->  [{'Rainy': [5, 0.3571]}, {'Overcast': [4, 0.2857]}, {'Sunny': [5, 0.3571]}]\n",
      "Temperature  ->  [{'Hot': [4, 0.2857]}, {'Mild': [6, 0.4286]}, {'Cool': [4, 0.2857]}]\n",
      "Humidity  ->  [{'High': [7, 0.5]}, {'Normal': [7, 0.5]}]\n",
      "Wind  ->  [{False: [8, 0.5714]}, {True: [6, 0.4286]}]\n",
      "Play Golf  ->  [{'No': [5, 0.3571]}, {'Yes': [9, 0.6429]}]\n"
     ]
    }
   ],
   "source": [
    "for i in range(golf_df.shape[1]):\n",
    "    l = []\n",
    "    df_uniq = list(golf_df.iloc[:,i].unique())\n",
    "    df_list = golf_df.iloc[:,i].tolist()\n",
    "    for j in df_uniq:\n",
    "        d = {}\n",
    "        d[j] = [df_list.count(j),round(df_list.count(j)/golf_df.shape[0],4)]\n",
    "        l.append(d)\n",
    "    main_dic[list(golf_df.columns)[i]] = l\n",
    "for i in main_dic:\n",
    "    print(i,\" -> \",main_dic[i])"
   ]
  },
  {
   "cell_type": "code",
   "execution_count": 139,
   "id": "347eedb8",
   "metadata": {},
   "outputs": [],
   "source": [
    "import math"
   ]
  },
  {
   "cell_type": "code",
   "execution_count": 140,
   "id": "498cb99a",
   "metadata": {},
   "outputs": [
    {
     "name": "stdout",
     "output_type": "stream",
     "text": [
      "['No', 'Yes']\n"
     ]
    }
   ],
   "source": [
    "def target_val(feature_name):\n",
    "    l = []\n",
    "    for i in main_dic[feature_name]:\n",
    "        for j in i:\n",
    "            l.append(j)\n",
    "    return(l)\n",
    "print(target_val(\"Play Golf\"))"
   ]
  },
  {
   "cell_type": "code",
   "execution_count": 141,
   "id": "2c579c9e",
   "metadata": {},
   "outputs": [
    {
     "name": "stdout",
     "output_type": "stream",
     "text": [
      "0.9402\n"
     ]
    }
   ],
   "source": [
    "def Entropy(feature):\n",
    "    #print(main_dic[feature])\n",
    "    l = target_val(feature)\n",
    "    #print(l)\n",
    "    entropy_feature = 0\n",
    "    for i in range(len(l)):\n",
    "        a = main_dic[feature][i][l[i]][1]\n",
    "        entropy_feature = round(entropy_feature + (-1)*(a)*(math.log(a,2)),4)\n",
    "    return(entropy_feature)\n",
    "print(Entropy(\"Play Golf\"))"
   ]
  },
  {
   "cell_type": "code",
   "execution_count": 148,
   "id": "06feb656",
   "metadata": {},
   "outputs": [
    {
     "name": "stdout",
     "output_type": "stream",
     "text": [
      "Entropy(\"Play Golf\") :  0.9402 \n",
      "\n",
      "Entropy(\"Outlook\") :  1.5774 \n",
      "\n",
      "Entropy(\"Temperature\") :  1.5567 \n",
      "\n",
      "Entropy(\"Humidity\") :  1.0 \n",
      "\n",
      "Entropy(\"Wind\") :  0.9853\n"
     ]
    }
   ],
   "source": [
    "print(\"Entropy(\\\"Play Golf\\\") : \",Entropy(\"Play Golf\"),\"\\n\")\n",
    "\n",
    "print(\"Entropy(\\\"Outlook\\\") : \",Entropy(\"Outlook\"),\"\\n\")\n",
    "\n",
    "print(\"Entropy(\\\"Temperature\\\") : \",Entropy(\"Temperature\"),\"\\n\")\n",
    "\n",
    "print(\"Entropy(\\\"Humidity\\\") : \",Entropy(\"Humidity\"),\"\\n\")\n",
    "\n",
    "print(\"Entropy(\\\"Wind\\\") : \",Entropy(\"Wind\"))"
   ]
  },
  {
   "cell_type": "code",
   "execution_count": 142,
   "id": "32ae95a3",
   "metadata": {},
   "outputs": [
    {
     "name": "stdout",
     "output_type": "stream",
     "text": [
      "0.3468\n"
     ]
    }
   ],
   "source": [
    "def Entropy_val_x_Prob(value, feature):\n",
    "    l = target_val(tar_var)\n",
    "    tem = golf_df.loc[:,feature].tolist()\n",
    "    #print(tem)\n",
    "    tar = golf_df.loc[:,tar_var].tolist()\n",
    "    #print(tar)\n",
    "    dic = {}\n",
    "    feature_uniq = list(golf_df.loc[:,feature].unique())\n",
    "    for i in range(len(tem)):\n",
    "        dic[tar[i]] = 0\n",
    "    #print(dic)\n",
    "    tot = 0\n",
    "    for i in range(len(tem)):\n",
    "        if(tem[i]==value):\n",
    "            #print(tem[i],tar[i])\n",
    "            dic[tar[i]] = dic[tar[i]] + 1\n",
    "            tot = tot + 1\n",
    "    #print(dic)\n",
    "    #print(tot)\n",
    "    entropy_prob = 0\n",
    "    for i in dic:\n",
    "        #print(i)\n",
    "        a = dic[i]/tot\n",
    "        if(a==0):\n",
    "            return(0.0)\n",
    "        entropy_prob = round(entropy_prob + (-1)*(a)*(math.log(a,2)),4)\n",
    "    return(round(entropy_prob*(tot/golf_df.shape[0]),4))\n",
    "print(Entropy_val_x_Prob('Sunny','Outlook'))"
   ]
  },
  {
   "cell_type": "code",
   "execution_count": 167,
   "id": "5c422e0e",
   "metadata": {},
   "outputs": [
    {
     "name": "stdout",
     "output_type": "stream",
     "text": [
      "Entropy(\"Sunny\",\"Outlook\") :  0.3468 \n",
      "\n",
      "Entropy(\"Overcast\",\"Outlook\") :  0.0 \n",
      "\n",
      "Entropy(\"Rainy\",\"Outlook\") :  0.3468\n"
     ]
    }
   ],
   "source": [
    "print(\"Entropy(\\\"Sunny\\\",\\\"Outlook\\\") : \",Entropy_val_x_Prob('Sunny','Outlook'),\"\\n\")\n",
    "\n",
    "print(\"Entropy(\\\"Overcast\\\",\\\"Outlook\\\") : \",Entropy_val_x_Prob('Overcast','Outlook'),\"\\n\")\n",
    "\n",
    "print(\"Entropy(\\\"Rainy\\\",\\\"Outlook\\\") : \",Entropy_val_x_Prob('Rainy','Outlook'))"
   ]
  },
  {
   "cell_type": "code",
   "execution_count": 168,
   "id": "b3895470",
   "metadata": {},
   "outputs": [
    {
     "name": "stdout",
     "output_type": "stream",
     "text": [
      "Entropy(\"Hot\",\"Temperature\") :  0.2857 \n",
      "\n",
      "Entropy(\"Mild\",\"Temperature\") :  0.3936 \n",
      "\n",
      "Entropy(\"Cool\",\"Temperature\") :  0.2318\n"
     ]
    }
   ],
   "source": [
    "print(\"Entropy(\\\"Hot\\\",\\\"Temperature\\\") : \",Entropy_val_x_Prob('Hot','Temperature'),\"\\n\")\n",
    "\n",
    "print(\"Entropy(\\\"Mild\\\",\\\"Temperature\\\") : \",Entropy_val_x_Prob('Mild','Temperature'),\"\\n\")\n",
    "\n",
    "print(\"Entropy(\\\"Cool\\\",\\\"Temperature\\\") : \",Entropy_val_x_Prob('Cool','Temperature'))"
   ]
  },
  {
   "cell_type": "code",
   "execution_count": 169,
   "id": "a04c0182",
   "metadata": {},
   "outputs": [
    {
     "name": "stdout",
     "output_type": "stream",
     "text": [
      "Entropy(\"High\",\"Humidity\") :  0.4926 \n",
      "\n",
      "Entropy(\"Normal\",\"Humidity\") :  0.2959\n"
     ]
    }
   ],
   "source": [
    "print(\"Entropy(\\\"High\\\",\\\"Humidity\\\") : \",Entropy_val_x_Prob('High','Humidity'),\"\\n\")\n",
    "\n",
    "print(\"Entropy(\\\"Normal\\\",\\\"Humidity\\\") : \",Entropy_val_x_Prob('Normal','Humidity'))"
   ]
  },
  {
   "cell_type": "code",
   "execution_count": 176,
   "id": "97a8ca17",
   "metadata": {},
   "outputs": [],
   "source": [
    "print(\"Entropy(\\\"False\\\",\\\"Wind\\\")\",Entropy_val_x_Prob('False','Wind'),\"\\n\")\n",
    "\n",
    "print(\"Entropy(\\\"True\\\",\\\"Wind\\\")\",Entropy_val_x_Prob('True','Wind'))"
   ]
  },
  {
   "cell_type": "code",
   "execution_count": 55,
   "id": "a7d2b877",
   "metadata": {},
   "outputs": [
    {
     "data": {
      "text/plain": [
       "0.6936"
      ]
     },
     "execution_count": 55,
     "metadata": {},
     "output_type": "execute_result"
    }
   ],
   "source": [
    "def Entropy_tar_feature(feature1, feature2):\n",
    "    gain = 0\n",
    "    feature_uniq = list(golf_df.loc[:,feature2].unique())\n",
    "    #print(feature_uniq)\n",
    "    for value in feature_uniq:\n",
    "        gain = gain + Entropy_val_x_Prob(value, feature2)\n",
    "    return(gain)\n",
    "Entropy_tar_feature(\"Play Golf\",\"Outlook\")"
   ]
  },
  {
   "cell_type": "code",
   "execution_count": 150,
   "id": "de531690",
   "metadata": {},
   "outputs": [
    {
     "name": "stdout",
     "output_type": "stream",
     "text": [
      "Entropy(\"Playgolf\",\"Outlook\") :  0.6936 \n",
      "\n",
      "Entropy(\"Playgolf\",\"Outlook\") :  0.9111 \n",
      "\n",
      "Entropy(\"Playgolf\",\"Outlook\") :  0.7885 \n",
      "\n",
      "Entropy(\"Playgolf\",\"Outlook\") :  0.8922\n"
     ]
    }
   ],
   "source": [
    "print(\"Entropy(\\\"Playgolf\\\",\\\"Outlook\\\") : \",Entropy_tar_feature(\"Play Golf\",\"Outlook\"),\"\\n\")\n",
    "\n",
    "print(\"Entropy(\\\"Playgolf\\\",\\\"Outlook\\\") : \",Entropy_tar_feature(\"Play Golf\",\"Temperature\"),\"\\n\")\n",
    "\n",
    "print(\"Entropy(\\\"Playgolf\\\",\\\"Outlook\\\") : \",Entropy_tar_feature(\"Play Golf\",\"Humidity\"),\"\\n\")\n",
    "\n",
    "print(\"Entropy(\\\"Playgolf\\\",\\\"Outlook\\\") : \",Entropy_tar_feature(\"Play Golf\",\"Wind\"))"
   ]
  },
  {
   "cell_type": "code",
   "execution_count": 152,
   "id": "928e362e",
   "metadata": {},
   "outputs": [
    {
     "data": {
      "text/plain": [
       "0.048"
      ]
     },
     "execution_count": 152,
     "metadata": {},
     "output_type": "execute_result"
    }
   ],
   "source": [
    "def Gain(feature1, feature2):\n",
    "    return(round(Entropy(feature1)-Entropy_tar_feature(feature1, feature2),3))\n",
    "Gain(\"Play Golf\",\"Wind\")"
   ]
  },
  {
   "cell_type": "code",
   "execution_count": 177,
   "id": "02740b22",
   "metadata": {},
   "outputs": [
    {
     "name": "stdout",
     "output_type": "stream",
     "text": [
      "Gain(\"Playgolf\",\"Outlook\") :  0.247 \n",
      "\n",
      "Gain(\"Playgolf\",\"Temperature\") :  0.029 \n",
      "\n",
      "Gain(\"Playgolf\",\"Humidity\") :  0.152 \n",
      "\n",
      "Gain(\"Playgolf\",\"Wind\") :  0.048\n"
     ]
    }
   ],
   "source": [
    "print(\"Gain(\\\"Playgolf\\\",\\\"Outlook\\\") : \",Gain(\"Play Golf\",\"Outlook\"),\"\\n\")\n",
    "\n",
    "print(\"Gain(\\\"Playgolf\\\",\\\"Temperature\\\") : \",Gain(\"Play Golf\",\"Temperature\"),\"\\n\")\n",
    "\n",
    "print(\"Gain(\\\"Playgolf\\\",\\\"Humidity\\\") : \",Gain(\"Play Golf\",\"Humidity\"),\"\\n\")\n",
    "\n",
    "print(\"Gain(\\\"Playgolf\\\",\\\"Wind\\\") : \",Gain(\"Play Golf\",\"Wind\"))"
   ]
  },
  {
   "cell_type": "code",
   "execution_count": 57,
   "id": "61bf6362",
   "metadata": {},
   "outputs": [
    {
     "name": "stdout",
     "output_type": "stream",
     "text": [
      "0.2466 Outlook\n"
     ]
    }
   ],
   "source": [
    "root_feature = 0\n",
    "param = None\n",
    "for i in range(golf_df.shape[1]-1):\n",
    "    if(root_feature < Gain(tar_var, golf_df.columns[i])):\n",
    "        root_feature = Gain(tar_var, golf_df.columns[i])\n",
    "        param = golf_df.columns[i]\n",
    "print(root_feature,param)"
   ]
  },
  {
   "cell_type": "code",
   "execution_count": 178,
   "id": "d0d4390d",
   "metadata": {},
   "outputs": [],
   "source": [
    "golf_df_Outlook_Sunny = golf_df[golf_df['Outlook']=='Sunny']\n",
    "golf_df_Outlook_Rainy = golf_df[golf_df['Outlook']=='Rainy']\n",
    "golf_df_Outlook_Overcast = golf_df[golf_df['Outlook']=='Overcast']"
   ]
  },
  {
   "cell_type": "code",
   "execution_count": 179,
   "id": "290fc1d0",
   "metadata": {},
   "outputs": [
    {
     "data": {
      "text/html": [
       "<div>\n",
       "<style scoped>\n",
       "    .dataframe tbody tr th:only-of-type {\n",
       "        vertical-align: middle;\n",
       "    }\n",
       "\n",
       "    .dataframe tbody tr th {\n",
       "        vertical-align: top;\n",
       "    }\n",
       "\n",
       "    .dataframe thead th {\n",
       "        text-align: right;\n",
       "    }\n",
       "</style>\n",
       "<table border=\"1\" class=\"dataframe\">\n",
       "  <thead>\n",
       "    <tr style=\"text-align: right;\">\n",
       "      <th></th>\n",
       "      <th>index</th>\n",
       "      <th>Outlook</th>\n",
       "      <th>Temperature</th>\n",
       "      <th>Humidity</th>\n",
       "      <th>Wind</th>\n",
       "      <th>Play Golf</th>\n",
       "    </tr>\n",
       "  </thead>\n",
       "  <tbody>\n",
       "    <tr>\n",
       "      <th>0</th>\n",
       "      <td>3</td>\n",
       "      <td>Sunny</td>\n",
       "      <td>Mild</td>\n",
       "      <td>High</td>\n",
       "      <td>False</td>\n",
       "      <td>Yes</td>\n",
       "    </tr>\n",
       "    <tr>\n",
       "      <th>1</th>\n",
       "      <td>4</td>\n",
       "      <td>Sunny</td>\n",
       "      <td>Cool</td>\n",
       "      <td>Normal</td>\n",
       "      <td>False</td>\n",
       "      <td>Yes</td>\n",
       "    </tr>\n",
       "    <tr>\n",
       "      <th>2</th>\n",
       "      <td>5</td>\n",
       "      <td>Sunny</td>\n",
       "      <td>Cool</td>\n",
       "      <td>Normal</td>\n",
       "      <td>True</td>\n",
       "      <td>No</td>\n",
       "    </tr>\n",
       "    <tr>\n",
       "      <th>3</th>\n",
       "      <td>9</td>\n",
       "      <td>Sunny</td>\n",
       "      <td>Mild</td>\n",
       "      <td>Normal</td>\n",
       "      <td>False</td>\n",
       "      <td>Yes</td>\n",
       "    </tr>\n",
       "    <tr>\n",
       "      <th>4</th>\n",
       "      <td>13</td>\n",
       "      <td>Sunny</td>\n",
       "      <td>Mild</td>\n",
       "      <td>High</td>\n",
       "      <td>True</td>\n",
       "      <td>No</td>\n",
       "    </tr>\n",
       "  </tbody>\n",
       "</table>\n",
       "</div>"
      ],
      "text/plain": [
       "   index Outlook Temperature Humidity   Wind Play Golf\n",
       "0      3   Sunny        Mild     High  False       Yes\n",
       "1      4   Sunny        Cool   Normal  False       Yes\n",
       "2      5   Sunny        Cool   Normal   True        No\n",
       "3      9   Sunny        Mild   Normal  False       Yes\n",
       "4     13   Sunny        Mild     High   True        No"
      ]
     },
     "execution_count": 179,
     "metadata": {},
     "output_type": "execute_result"
    }
   ],
   "source": [
    "golf_df_Outlook_Sunny = golf_df_Outlook_Sunny.reset_index()\n",
    "golf_df_Outlook_Sunny"
   ]
  },
  {
   "cell_type": "code",
   "execution_count": 180,
   "id": "8aeda109",
   "metadata": {},
   "outputs": [
    {
     "data": {
      "text/html": [
       "<div>\n",
       "<style scoped>\n",
       "    .dataframe tbody tr th:only-of-type {\n",
       "        vertical-align: middle;\n",
       "    }\n",
       "\n",
       "    .dataframe tbody tr th {\n",
       "        vertical-align: top;\n",
       "    }\n",
       "\n",
       "    .dataframe thead th {\n",
       "        text-align: right;\n",
       "    }\n",
       "</style>\n",
       "<table border=\"1\" class=\"dataframe\">\n",
       "  <thead>\n",
       "    <tr style=\"text-align: right;\">\n",
       "      <th></th>\n",
       "      <th>index</th>\n",
       "      <th>Outlook</th>\n",
       "      <th>Temperature</th>\n",
       "      <th>Humidity</th>\n",
       "      <th>Wind</th>\n",
       "      <th>Play Golf</th>\n",
       "    </tr>\n",
       "  </thead>\n",
       "  <tbody>\n",
       "    <tr>\n",
       "      <th>0</th>\n",
       "      <td>2</td>\n",
       "      <td>Overcast</td>\n",
       "      <td>Hot</td>\n",
       "      <td>High</td>\n",
       "      <td>False</td>\n",
       "      <td>Yes</td>\n",
       "    </tr>\n",
       "    <tr>\n",
       "      <th>1</th>\n",
       "      <td>6</td>\n",
       "      <td>Overcast</td>\n",
       "      <td>Cool</td>\n",
       "      <td>Normal</td>\n",
       "      <td>True</td>\n",
       "      <td>Yes</td>\n",
       "    </tr>\n",
       "    <tr>\n",
       "      <th>2</th>\n",
       "      <td>11</td>\n",
       "      <td>Overcast</td>\n",
       "      <td>Mild</td>\n",
       "      <td>High</td>\n",
       "      <td>True</td>\n",
       "      <td>Yes</td>\n",
       "    </tr>\n",
       "    <tr>\n",
       "      <th>3</th>\n",
       "      <td>12</td>\n",
       "      <td>Overcast</td>\n",
       "      <td>Hot</td>\n",
       "      <td>Normal</td>\n",
       "      <td>False</td>\n",
       "      <td>Yes</td>\n",
       "    </tr>\n",
       "  </tbody>\n",
       "</table>\n",
       "</div>"
      ],
      "text/plain": [
       "   index   Outlook Temperature Humidity   Wind Play Golf\n",
       "0      2  Overcast         Hot     High  False       Yes\n",
       "1      6  Overcast        Cool   Normal   True       Yes\n",
       "2     11  Overcast        Mild     High   True       Yes\n",
       "3     12  Overcast         Hot   Normal  False       Yes"
      ]
     },
     "execution_count": 180,
     "metadata": {},
     "output_type": "execute_result"
    }
   ],
   "source": [
    "golf_df_Outlook_Overcast = golf_df_Outlook_Overcast.reset_index()\n",
    "golf_df_Outlook_Overcast"
   ]
  },
  {
   "cell_type": "code",
   "execution_count": 181,
   "id": "bb06bd69",
   "metadata": {},
   "outputs": [
    {
     "data": {
      "text/html": [
       "<div>\n",
       "<style scoped>\n",
       "    .dataframe tbody tr th:only-of-type {\n",
       "        vertical-align: middle;\n",
       "    }\n",
       "\n",
       "    .dataframe tbody tr th {\n",
       "        vertical-align: top;\n",
       "    }\n",
       "\n",
       "    .dataframe thead th {\n",
       "        text-align: right;\n",
       "    }\n",
       "</style>\n",
       "<table border=\"1\" class=\"dataframe\">\n",
       "  <thead>\n",
       "    <tr style=\"text-align: right;\">\n",
       "      <th></th>\n",
       "      <th>index</th>\n",
       "      <th>Outlook</th>\n",
       "      <th>Temperature</th>\n",
       "      <th>Humidity</th>\n",
       "      <th>Wind</th>\n",
       "      <th>Play Golf</th>\n",
       "    </tr>\n",
       "  </thead>\n",
       "  <tbody>\n",
       "    <tr>\n",
       "      <th>0</th>\n",
       "      <td>0</td>\n",
       "      <td>Rainy</td>\n",
       "      <td>Hot</td>\n",
       "      <td>High</td>\n",
       "      <td>False</td>\n",
       "      <td>No</td>\n",
       "    </tr>\n",
       "    <tr>\n",
       "      <th>1</th>\n",
       "      <td>1</td>\n",
       "      <td>Rainy</td>\n",
       "      <td>Hot</td>\n",
       "      <td>High</td>\n",
       "      <td>True</td>\n",
       "      <td>No</td>\n",
       "    </tr>\n",
       "    <tr>\n",
       "      <th>2</th>\n",
       "      <td>7</td>\n",
       "      <td>Rainy</td>\n",
       "      <td>Mild</td>\n",
       "      <td>High</td>\n",
       "      <td>False</td>\n",
       "      <td>No</td>\n",
       "    </tr>\n",
       "    <tr>\n",
       "      <th>3</th>\n",
       "      <td>8</td>\n",
       "      <td>Rainy</td>\n",
       "      <td>Cool</td>\n",
       "      <td>Normal</td>\n",
       "      <td>False</td>\n",
       "      <td>Yes</td>\n",
       "    </tr>\n",
       "    <tr>\n",
       "      <th>4</th>\n",
       "      <td>10</td>\n",
       "      <td>Rainy</td>\n",
       "      <td>Mild</td>\n",
       "      <td>Normal</td>\n",
       "      <td>True</td>\n",
       "      <td>Yes</td>\n",
       "    </tr>\n",
       "  </tbody>\n",
       "</table>\n",
       "</div>"
      ],
      "text/plain": [
       "   index Outlook Temperature Humidity   Wind Play Golf\n",
       "0      0   Rainy         Hot     High  False        No\n",
       "1      1   Rainy         Hot     High   True        No\n",
       "2      7   Rainy        Mild     High  False        No\n",
       "3      8   Rainy        Cool   Normal  False       Yes\n",
       "4     10   Rainy        Mild   Normal   True       Yes"
      ]
     },
     "execution_count": 181,
     "metadata": {},
     "output_type": "execute_result"
    }
   ],
   "source": [
    "golf_df_Outlook_Rainy = golf_df_Outlook_Rainy.reset_index()\n",
    "golf_df_Outlook_Rainy"
   ]
  },
  {
   "cell_type": "code",
   "execution_count": null,
   "id": "225fe7d8",
   "metadata": {},
   "outputs": [],
   "source": []
  },
  {
   "cell_type": "code",
   "execution_count": null,
   "id": "5f26a0b3",
   "metadata": {},
   "outputs": [],
   "source": []
  },
  {
   "cell_type": "markdown",
   "id": "4697494b",
   "metadata": {},
   "source": [
    "### Q.1 Implement the algorithm and show the output for “play golf problem”. - With in-built functions"
   ]
  },
  {
   "cell_type": "code",
   "execution_count": 79,
   "id": "e0ca2559",
   "metadata": {},
   "outputs": [],
   "source": [
    "# Load libraries\n",
    "import pandas as pd\n",
    "from sklearn.tree import DecisionTreeClassifier # Import Decision Tree Classifier\n",
    "from sklearn.model_selection import train_test_split # Import train_test_split function\n",
    "from sklearn import metrics #Import scikit-learn metrics module for accuracy calculation"
   ]
  },
  {
   "cell_type": "code",
   "execution_count": 80,
   "id": "982ce945",
   "metadata": {},
   "outputs": [
    {
     "data": {
      "text/html": [
       "<div>\n",
       "<style scoped>\n",
       "    .dataframe tbody tr th:only-of-type {\n",
       "        vertical-align: middle;\n",
       "    }\n",
       "\n",
       "    .dataframe tbody tr th {\n",
       "        vertical-align: top;\n",
       "    }\n",
       "\n",
       "    .dataframe thead th {\n",
       "        text-align: right;\n",
       "    }\n",
       "</style>\n",
       "<table border=\"1\" class=\"dataframe\">\n",
       "  <thead>\n",
       "    <tr style=\"text-align: right;\">\n",
       "      <th></th>\n",
       "      <th>Outlook</th>\n",
       "      <th>Temperature</th>\n",
       "      <th>Humidity</th>\n",
       "      <th>Wind</th>\n",
       "      <th>Play Golf</th>\n",
       "    </tr>\n",
       "  </thead>\n",
       "  <tbody>\n",
       "    <tr>\n",
       "      <th>0</th>\n",
       "      <td>Rainy</td>\n",
       "      <td>Hot</td>\n",
       "      <td>High</td>\n",
       "      <td>False</td>\n",
       "      <td>No</td>\n",
       "    </tr>\n",
       "    <tr>\n",
       "      <th>1</th>\n",
       "      <td>Rainy</td>\n",
       "      <td>Hot</td>\n",
       "      <td>High</td>\n",
       "      <td>True</td>\n",
       "      <td>No</td>\n",
       "    </tr>\n",
       "    <tr>\n",
       "      <th>2</th>\n",
       "      <td>Overcast</td>\n",
       "      <td>Hot</td>\n",
       "      <td>High</td>\n",
       "      <td>False</td>\n",
       "      <td>Yes</td>\n",
       "    </tr>\n",
       "    <tr>\n",
       "      <th>3</th>\n",
       "      <td>Sunny</td>\n",
       "      <td>Mild</td>\n",
       "      <td>High</td>\n",
       "      <td>False</td>\n",
       "      <td>Yes</td>\n",
       "    </tr>\n",
       "    <tr>\n",
       "      <th>4</th>\n",
       "      <td>Sunny</td>\n",
       "      <td>Cool</td>\n",
       "      <td>Normal</td>\n",
       "      <td>False</td>\n",
       "      <td>Yes</td>\n",
       "    </tr>\n",
       "    <tr>\n",
       "      <th>5</th>\n",
       "      <td>Sunny</td>\n",
       "      <td>Cool</td>\n",
       "      <td>Normal</td>\n",
       "      <td>True</td>\n",
       "      <td>No</td>\n",
       "    </tr>\n",
       "    <tr>\n",
       "      <th>6</th>\n",
       "      <td>Overcast</td>\n",
       "      <td>Cool</td>\n",
       "      <td>Normal</td>\n",
       "      <td>True</td>\n",
       "      <td>Yes</td>\n",
       "    </tr>\n",
       "    <tr>\n",
       "      <th>7</th>\n",
       "      <td>Rainy</td>\n",
       "      <td>Mild</td>\n",
       "      <td>High</td>\n",
       "      <td>False</td>\n",
       "      <td>No</td>\n",
       "    </tr>\n",
       "    <tr>\n",
       "      <th>8</th>\n",
       "      <td>Rainy</td>\n",
       "      <td>Cool</td>\n",
       "      <td>Normal</td>\n",
       "      <td>False</td>\n",
       "      <td>Yes</td>\n",
       "    </tr>\n",
       "    <tr>\n",
       "      <th>9</th>\n",
       "      <td>Sunny</td>\n",
       "      <td>Mild</td>\n",
       "      <td>Normal</td>\n",
       "      <td>False</td>\n",
       "      <td>Yes</td>\n",
       "    </tr>\n",
       "    <tr>\n",
       "      <th>10</th>\n",
       "      <td>Rainy</td>\n",
       "      <td>Mild</td>\n",
       "      <td>Normal</td>\n",
       "      <td>True</td>\n",
       "      <td>Yes</td>\n",
       "    </tr>\n",
       "    <tr>\n",
       "      <th>11</th>\n",
       "      <td>Overcast</td>\n",
       "      <td>Mild</td>\n",
       "      <td>High</td>\n",
       "      <td>True</td>\n",
       "      <td>Yes</td>\n",
       "    </tr>\n",
       "    <tr>\n",
       "      <th>12</th>\n",
       "      <td>Overcast</td>\n",
       "      <td>Hot</td>\n",
       "      <td>Normal</td>\n",
       "      <td>False</td>\n",
       "      <td>Yes</td>\n",
       "    </tr>\n",
       "    <tr>\n",
       "      <th>13</th>\n",
       "      <td>Sunny</td>\n",
       "      <td>Mild</td>\n",
       "      <td>High</td>\n",
       "      <td>True</td>\n",
       "      <td>No</td>\n",
       "    </tr>\n",
       "  </tbody>\n",
       "</table>\n",
       "</div>"
      ],
      "text/plain": [
       "     Outlook Temperature Humidity   Wind Play Golf\n",
       "0      Rainy         Hot     High  False        No\n",
       "1      Rainy         Hot     High   True        No\n",
       "2   Overcast         Hot     High  False       Yes\n",
       "3      Sunny        Mild     High  False       Yes\n",
       "4      Sunny        Cool   Normal  False       Yes\n",
       "5      Sunny        Cool   Normal   True        No\n",
       "6   Overcast        Cool   Normal   True       Yes\n",
       "7      Rainy        Mild     High  False        No\n",
       "8      Rainy        Cool   Normal  False       Yes\n",
       "9      Sunny        Mild   Normal  False       Yes\n",
       "10     Rainy        Mild   Normal   True       Yes\n",
       "11  Overcast        Mild     High   True       Yes\n",
       "12  Overcast         Hot   Normal  False       Yes\n",
       "13     Sunny        Mild     High   True        No"
      ]
     },
     "execution_count": 80,
     "metadata": {},
     "output_type": "execute_result"
    }
   ],
   "source": [
    "golf_df = pd.read_excel(\"Golf.xlsx\")\n",
    "golf_df"
   ]
  },
  {
   "cell_type": "code",
   "execution_count": 81,
   "id": "99ae0d0a",
   "metadata": {},
   "outputs": [
    {
     "data": {
      "text/plain": [
       "0      No\n",
       "1      No\n",
       "2     Yes\n",
       "3     Yes\n",
       "4     Yes\n",
       "5      No\n",
       "6     Yes\n",
       "7      No\n",
       "8     Yes\n",
       "9     Yes\n",
       "10    Yes\n",
       "11    Yes\n",
       "12    Yes\n",
       "13     No\n",
       "Name: Play Golf, dtype: object"
      ]
     },
     "execution_count": 81,
     "metadata": {},
     "output_type": "execute_result"
    }
   ],
   "source": [
    "from sklearn import preprocessing\n",
    " \n",
    "# label_encoder object knows how to understand word labels.\n",
    "label_encoder = preprocessing.LabelEncoder()\n",
    " \n",
    "# Encode labels in column 'species'.\n",
    "golf_df['Outlook']= label_encoder.fit_transform(golf_df['Outlook'])\n",
    "golf_df['Temperature']= label_encoder.fit_transform(golf_df['Temperature'])\n",
    "golf_df['Humidity']= label_encoder.fit_transform(golf_df['Humidity'])\n",
    "golf_df['Wind']= label_encoder.fit_transform(golf_df['Wind'])\n",
    "golf_df.iloc[:,0:4]\n",
    "golf_df.iloc[:,4]"
   ]
  },
  {
   "cell_type": "code",
   "execution_count": 82,
   "id": "f72f8c57",
   "metadata": {},
   "outputs": [],
   "source": [
    "# Split dataset into training set and test set\n",
    "X_train, X_test, y_train, y_test = train_test_split(golf_df.iloc[:,0:4], golf_df.iloc[:,4], test_size=0.3, random_state=1) # 70% training and 30% test"
   ]
  },
  {
   "cell_type": "code",
   "execution_count": 83,
   "id": "fc18ef4f",
   "metadata": {},
   "outputs": [
    {
     "data": {
      "text/html": [
       "<div>\n",
       "<style scoped>\n",
       "    .dataframe tbody tr th:only-of-type {\n",
       "        vertical-align: middle;\n",
       "    }\n",
       "\n",
       "    .dataframe tbody tr th {\n",
       "        vertical-align: top;\n",
       "    }\n",
       "\n",
       "    .dataframe thead th {\n",
       "        text-align: right;\n",
       "    }\n",
       "</style>\n",
       "<table border=\"1\" class=\"dataframe\">\n",
       "  <thead>\n",
       "    <tr style=\"text-align: right;\">\n",
       "      <th></th>\n",
       "      <th>Outlook</th>\n",
       "      <th>Temperature</th>\n",
       "      <th>Humidity</th>\n",
       "      <th>Wind</th>\n",
       "    </tr>\n",
       "  </thead>\n",
       "  <tbody>\n",
       "    <tr>\n",
       "      <th>4</th>\n",
       "      <td>2</td>\n",
       "      <td>0</td>\n",
       "      <td>1</td>\n",
       "      <td>0</td>\n",
       "    </tr>\n",
       "    <tr>\n",
       "      <th>1</th>\n",
       "      <td>1</td>\n",
       "      <td>1</td>\n",
       "      <td>0</td>\n",
       "      <td>1</td>\n",
       "    </tr>\n",
       "    <tr>\n",
       "      <th>12</th>\n",
       "      <td>0</td>\n",
       "      <td>1</td>\n",
       "      <td>1</td>\n",
       "      <td>0</td>\n",
       "    </tr>\n",
       "    <tr>\n",
       "      <th>0</th>\n",
       "      <td>1</td>\n",
       "      <td>1</td>\n",
       "      <td>0</td>\n",
       "      <td>0</td>\n",
       "    </tr>\n",
       "    <tr>\n",
       "      <th>13</th>\n",
       "      <td>2</td>\n",
       "      <td>2</td>\n",
       "      <td>0</td>\n",
       "      <td>1</td>\n",
       "    </tr>\n",
       "    <tr>\n",
       "      <th>9</th>\n",
       "      <td>2</td>\n",
       "      <td>2</td>\n",
       "      <td>1</td>\n",
       "      <td>0</td>\n",
       "    </tr>\n",
       "    <tr>\n",
       "      <th>8</th>\n",
       "      <td>1</td>\n",
       "      <td>0</td>\n",
       "      <td>1</td>\n",
       "      <td>0</td>\n",
       "    </tr>\n",
       "    <tr>\n",
       "      <th>11</th>\n",
       "      <td>0</td>\n",
       "      <td>2</td>\n",
       "      <td>0</td>\n",
       "      <td>1</td>\n",
       "    </tr>\n",
       "    <tr>\n",
       "      <th>5</th>\n",
       "      <td>2</td>\n",
       "      <td>0</td>\n",
       "      <td>1</td>\n",
       "      <td>1</td>\n",
       "    </tr>\n",
       "  </tbody>\n",
       "</table>\n",
       "</div>"
      ],
      "text/plain": [
       "    Outlook  Temperature  Humidity  Wind\n",
       "4         2            0         1     0\n",
       "1         1            1         0     1\n",
       "12        0            1         1     0\n",
       "0         1            1         0     0\n",
       "13        2            2         0     1\n",
       "9         2            2         1     0\n",
       "8         1            0         1     0\n",
       "11        0            2         0     1\n",
       "5         2            0         1     1"
      ]
     },
     "execution_count": 83,
     "metadata": {},
     "output_type": "execute_result"
    }
   ],
   "source": [
    "(X_train)"
   ]
  },
  {
   "cell_type": "code",
   "execution_count": 84,
   "id": "455b9308",
   "metadata": {
    "scrolled": true
   },
   "outputs": [
    {
     "data": {
      "text/plain": [
       "4     Yes\n",
       "1      No\n",
       "12    Yes\n",
       "0      No\n",
       "13     No\n",
       "9     Yes\n",
       "8     Yes\n",
       "11    Yes\n",
       "5      No\n",
       "Name: Play Golf, dtype: object"
      ]
     },
     "execution_count": 84,
     "metadata": {},
     "output_type": "execute_result"
    }
   ],
   "source": [
    "y_train"
   ]
  },
  {
   "cell_type": "code",
   "execution_count": 85,
   "id": "5ec71fc3",
   "metadata": {},
   "outputs": [
    {
     "data": {
      "text/html": [
       "<div>\n",
       "<style scoped>\n",
       "    .dataframe tbody tr th:only-of-type {\n",
       "        vertical-align: middle;\n",
       "    }\n",
       "\n",
       "    .dataframe tbody tr th {\n",
       "        vertical-align: top;\n",
       "    }\n",
       "\n",
       "    .dataframe thead th {\n",
       "        text-align: right;\n",
       "    }\n",
       "</style>\n",
       "<table border=\"1\" class=\"dataframe\">\n",
       "  <thead>\n",
       "    <tr style=\"text-align: right;\">\n",
       "      <th></th>\n",
       "      <th>Outlook</th>\n",
       "      <th>Temperature</th>\n",
       "      <th>Humidity</th>\n",
       "      <th>Wind</th>\n",
       "    </tr>\n",
       "  </thead>\n",
       "  <tbody>\n",
       "    <tr>\n",
       "      <th>3</th>\n",
       "      <td>2</td>\n",
       "      <td>2</td>\n",
       "      <td>0</td>\n",
       "      <td>0</td>\n",
       "    </tr>\n",
       "    <tr>\n",
       "      <th>7</th>\n",
       "      <td>1</td>\n",
       "      <td>2</td>\n",
       "      <td>0</td>\n",
       "      <td>0</td>\n",
       "    </tr>\n",
       "    <tr>\n",
       "      <th>6</th>\n",
       "      <td>0</td>\n",
       "      <td>0</td>\n",
       "      <td>1</td>\n",
       "      <td>1</td>\n",
       "    </tr>\n",
       "    <tr>\n",
       "      <th>2</th>\n",
       "      <td>0</td>\n",
       "      <td>1</td>\n",
       "      <td>0</td>\n",
       "      <td>0</td>\n",
       "    </tr>\n",
       "    <tr>\n",
       "      <th>10</th>\n",
       "      <td>1</td>\n",
       "      <td>2</td>\n",
       "      <td>1</td>\n",
       "      <td>1</td>\n",
       "    </tr>\n",
       "  </tbody>\n",
       "</table>\n",
       "</div>"
      ],
      "text/plain": [
       "    Outlook  Temperature  Humidity  Wind\n",
       "3         2            2         0     0\n",
       "7         1            2         0     0\n",
       "6         0            0         1     1\n",
       "2         0            1         0     0\n",
       "10        1            2         1     1"
      ]
     },
     "execution_count": 85,
     "metadata": {},
     "output_type": "execute_result"
    }
   ],
   "source": [
    "X_test"
   ]
  },
  {
   "cell_type": "code",
   "execution_count": 86,
   "id": "e69c1882",
   "metadata": {},
   "outputs": [
    {
     "data": {
      "text/plain": [
       "3     Yes\n",
       "7      No\n",
       "6     Yes\n",
       "2     Yes\n",
       "10    Yes\n",
       "Name: Play Golf, dtype: object"
      ]
     },
     "execution_count": 86,
     "metadata": {},
     "output_type": "execute_result"
    }
   ],
   "source": [
    "y_test"
   ]
  },
  {
   "cell_type": "code",
   "execution_count": 87,
   "id": "403826dd",
   "metadata": {},
   "outputs": [],
   "source": [
    "# Create Decision Tree classifer object\n",
    "clf = DecisionTreeClassifier()\n",
    "\n",
    "# Train Decision Tree Classifer\n",
    "clf = clf.fit(X_train,y_train)\n",
    "\n",
    "#Predict the response for test dataset\n",
    "y_pred = clf.predict(X_test)"
   ]
  },
  {
   "cell_type": "code",
   "execution_count": 88,
   "id": "f1376516",
   "metadata": {},
   "outputs": [
    {
     "data": {
      "text/plain": [
       "array(['No', 'No', 'No', 'Yes', 'No'], dtype=object)"
      ]
     },
     "execution_count": 88,
     "metadata": {},
     "output_type": "execute_result"
    }
   ],
   "source": [
    "y_pred"
   ]
  },
  {
   "cell_type": "code",
   "execution_count": 89,
   "id": "3270837b",
   "metadata": {},
   "outputs": [
    {
     "name": "stdout",
     "output_type": "stream",
     "text": [
      "Accuracy: 0.4\n"
     ]
    }
   ],
   "source": [
    "print(\"Accuracy:\",metrics.accuracy_score(y_test, y_pred))"
   ]
  },
  {
   "cell_type": "code",
   "execution_count": 90,
   "id": "be1fbea5",
   "metadata": {},
   "outputs": [
    {
     "data": {
      "image/png": "[encoded data removed]",
      "text/plain": [
       "<IPython.core.display.Image object>"
      ]
     },
     "execution_count": 90,
     "metadata": {},
     "output_type": "execute_result"
    }
   ],
   "source": [
    "import graphviz\n",
    "from sklearn.tree import export_graphviz\n",
    "from six import StringIO  \n",
    "from IPython.display import Image  \n",
    "import pydotplus\n",
    "dot_data = StringIO()\n",
    "export_graphviz(clf, out_file=dot_data,  \n",
    "                filled=True, rounded=True,\n",
    "                special_characters=True,feature_names = golf_df.columns[0:4],class_names=['0','1'])\n",
    "graph = pydotplus.graph_from_dot_data(dot_data.getvalue())  \n",
    "graph.write_png('diabetes.png')\n",
    "Image(graph.create_png())"
   ]
  },
  {
   "cell_type": "code",
   "execution_count": null,
   "id": "58691f54",
   "metadata": {},
   "outputs": [],
   "source": []
  },
  {
   "cell_type": "markdown",
   "id": "dd669c46",
   "metadata": {},
   "source": [
    "### Q.2  Take a collection of documents. Classify using simple decision tree model. Draw your inferences."
   ]
  },
  {
   "cell_type": "code",
   "execution_count": 131,
   "id": "a9620c39",
   "metadata": {},
   "outputs": [],
   "source": [
    "# I took 9 documents to do this 2nd Question"
   ]
  },
  {
   "cell_type": "code",
   "execution_count": 2,
   "id": "c451a9ed",
   "metadata": {},
   "outputs": [],
   "source": [
    "import nltk"
   ]
  },
  {
   "cell_type": "code",
   "execution_count": 3,
   "id": "b4e1fbfc",
   "metadata": {},
   "outputs": [],
   "source": [
    "from nltk.tokenize import word_tokenize"
   ]
  },
  {
   "cell_type": "code",
   "execution_count": 4,
   "id": "c76149a0",
   "metadata": {},
   "outputs": [],
   "source": [
    "from nltk.corpus import stopwords"
   ]
  },
  {
   "cell_type": "code",
   "execution_count": 5,
   "id": "e0a85589",
   "metadata": {},
   "outputs": [
    {
     "name": "stderr",
     "output_type": "stream",
     "text": [
      "[nltk_data] Downloading package stopwords to\n",
      "[nltk_data]     C:\\Users\\sahil\\AppData\\Roaming\\nltk_data...\n",
      "[nltk_data]   Unzipping corpora\\stopwords.zip.\n",
      "[nltk_data] Downloading package punkt to\n",
      "[nltk_data]     C:\\Users\\sahil\\AppData\\Roaming\\nltk_data...\n",
      "[nltk_data]   Package punkt is already up-to-date!\n"
     ]
    },
    {
     "data": {
      "text/plain": [
       "True"
      ]
     },
     "execution_count": 5,
     "metadata": {},
     "output_type": "execute_result"
    }
   ],
   "source": [
    "nltk.download('stopwords')\n",
    "\n",
    "nltk.download('punkt')"
   ]
  },
  {
   "cell_type": "code",
   "execution_count": 7,
   "id": "814cd6e2",
   "metadata": {},
   "outputs": [
    {
     "name": "stderr",
     "output_type": "stream",
     "text": [
      "[nltk_data] Downloading package wordnet to\n",
      "[nltk_data]     C:\\Users\\sahil\\AppData\\Roaming\\nltk_data...\n",
      "[nltk_data]   Package wordnet is already up-to-date!\n"
     ]
    },
    {
     "data": {
      "text/plain": [
       "True"
      ]
     },
     "execution_count": 7,
     "metadata": {},
     "output_type": "execute_result"
    }
   ],
   "source": [
    "nltk.download('wordnet')"
   ]
  },
  {
   "cell_type": "code",
   "execution_count": 8,
   "id": "d16f71af",
   "metadata": {},
   "outputs": [],
   "source": [
    "from nltk.stem import WordNetLemmatizer\n",
    " \n",
    "lemmatizer = WordNetLemmatizer()"
   ]
  },
  {
   "cell_type": "code",
   "execution_count": 9,
   "id": "f75551e5",
   "metadata": {},
   "outputs": [
    {
     "name": "stdout",
     "output_type": "stream",
     "text": [
      "Doc- 1  ->  ['Electric', 'automotive', 'maker', 'Tesla', 'Inc.', 'likely', 'introduce', 'product', 'India', 'sometime', 'summer', '2017']\n",
      "Doc- 2  ->  ['Automotive', 'major', 'Mahindra', 'likely', 'introduce', 'driverless', 'car']\n",
      "Doc- 3  ->  ['BMW', 'plan', 'introduce', 'motorcycle', 'india']\n",
      "Doc- 4  ->  ['Just', 'drive', ',', 'self-drive', 'car', 'rental', 'firm', 'us', 'smart', 'vehicle', 'technology', 'based', 'IoT']\n",
      "Doc- 5  ->  ['Automotive', 'industry', 'going', 'hire', 'thousand', '2018']\n",
      "Doc- 6  ->  ['Famous', 'cricket', 'player', 'Dhoni', 'brought', 'priced', 'car', 'Hummer', 'SUV']\n",
      "Doc- 7  ->  ['Dhoni', 'led', 'india', 'second', 'world', 'cup', 'victory']\n",
      "Doc- 8  ->  ['IoT', 'car', 'lead', 'safety', 'make', 'driverless', 'vehicle', 'revolution', 'possible']\n",
      "Doc- 9  ->  ['Sachin', 'recommended', 'Dhoni', 'indian', 'skipper', 'post']\n"
     ]
    }
   ],
   "source": [
    "dictionary_of_docs = {}\n",
    "list_of_docs = []\n",
    "for i in range(1,10):\n",
    "    fn = \"Documents/D\"+str(i)+\".txt\"\n",
    "    #print(fn)\n",
    "    f = open(fn,'r')\n",
    "    #print(f)\n",
    "    for x in f:\n",
    "        #print(x)\n",
    "        #print(word_tokenize(x))\n",
    "        tokens_without_sw = [word for word in word_tokenize(x) if not word in stopwords.words()]\n",
    "        #print(tokens_without_sw)\n",
    "        lemmas = [lemmatizer.lemmatize(lem) for lem in tokens_without_sw]\n",
    "        #print(lemmas)\n",
    "        #print(\"\\n\")\n",
    "    dictionary_of_docs[i] = lemmas\n",
    "    list_of_docs.append(lemmas)\n",
    "#print(dictionary_of_docs)\n",
    "for i in dictionary_of_docs:\n",
    "    print(\"Doc-\",i,\" -> \",dictionary_of_docs[i])"
   ]
  },
  {
   "cell_type": "code",
   "execution_count": 11,
   "id": "bddebca7",
   "metadata": {},
   "outputs": [
    {
     "name": "stdout",
     "output_type": "stream",
     "text": [
      "['Electric', 'automotive', 'maker', 'Tesla', 'Inc.', 'likely', 'introduce', 'product', 'India', 'sometime', 'summer', '2017']\n",
      "['Automotive', 'major', 'Mahindra', 'likely', 'introduce', 'driverless', 'car']\n",
      "['BMW', 'plan', 'introduce', 'motorcycle', 'india']\n",
      "['Just', 'drive', ',', 'self-drive', 'car', 'rental', 'firm', 'us', 'smart', 'vehicle', 'technology', 'based', 'IoT']\n",
      "['Automotive', 'industry', 'going', 'hire', 'thousand', '2018']\n",
      "['Famous', 'cricket', 'player', 'Dhoni', 'brought', 'priced', 'car', 'Hummer', 'SUV']\n",
      "['Dhoni', 'led', 'india', 'second', 'world', 'cup', 'victory']\n",
      "['IoT', 'car', 'lead', 'safety', 'make', 'driverless', 'vehicle', 'revolution', 'possible']\n",
      "['Sachin', 'recommended', 'Dhoni', 'indian', 'skipper', 'post']\n"
     ]
    }
   ],
   "source": [
    "for i in list_of_docs:\n",
    "    print(i)"
   ]
  },
  {
   "cell_type": "code",
   "execution_count": 12,
   "id": "ce92bc51",
   "metadata": {},
   "outputs": [
    {
     "name": "stdout",
     "output_type": "stream",
     "text": [
      "['Electric', 'automotive', 'maker', 'Tesla', 'Inc.', 'likely', 'introduce', 'product', 'India', 'sometime', 'summer', '2017', 'Automotive', 'major', 'Mahindra', 'likely', 'introduce', 'driverless', 'car', 'BMW', 'plan', 'introduce', 'motorcycle', 'india', 'Just', 'drive', ',', 'self-drive', 'car', 'rental', 'firm', 'us', 'smart', 'vehicle', 'technology', 'based', 'IoT', 'Automotive', 'industry', 'going', 'hire', 'thousand', '2018', 'Famous', 'cricket', 'player', 'Dhoni', 'brought', 'priced', 'car', 'Hummer', 'SUV', 'Dhoni', 'led', 'india', 'second', 'world', 'cup', 'victory', 'IoT', 'car', 'lead', 'safety', 'make', 'driverless', 'vehicle', 'revolution', 'possible', 'Sachin', 'recommended', 'Dhoni', 'indian', 'skipper', 'post']\n",
      "74\n",
      "['Electric automotive maker Tesla Inc. likely introduce product India sometime summer 2017 ', 'Automotive major Mahindra likely introduce driverless car ', 'BMW plan introduce motorcycle india ', 'Just drive , self-drive car rental firm us smart vehicle technology based IoT ', 'Automotive industry going hire thousand 2018 ', 'Famous cricket player Dhoni brought priced car Hummer SUV ', 'Dhoni led india second world cup victory ', 'IoT car lead safety make driverless vehicle revolution possible ', 'Sachin recommended Dhoni indian skipper post ']\n"
     ]
    }
   ],
   "source": [
    "all_words = []\n",
    "data = []\n",
    "for i in (list_of_docs):\n",
    "    all_words.extend(i)\n",
    "    stn = \"\"\n",
    "    for j in i:\n",
    "        stn = stn + j + \" \"\n",
    "    data.append(stn)\n",
    "print(all_words)\n",
    "print(len(all_words))\n",
    "print(data)"
   ]
  },
  {
   "cell_type": "code",
   "execution_count": 13,
   "id": "82f11384",
   "metadata": {},
   "outputs": [],
   "source": [
    "from sklearn.feature_extraction.text import CountVectorizer"
   ]
  },
  {
   "cell_type": "code",
   "execution_count": 14,
   "id": "3013cb6c",
   "metadata": {},
   "outputs": [],
   "source": [
    "vec = CountVectorizer()"
   ]
  },
  {
   "cell_type": "code",
   "execution_count": 15,
   "id": "919e2439",
   "metadata": {},
   "outputs": [],
   "source": [
    "matrix_X = vec.fit(data)"
   ]
  },
  {
   "cell_type": "code",
   "execution_count": 16,
   "id": "81dbe6c3",
   "metadata": {},
   "outputs": [
    {
     "data": {
      "text/plain": [
       "CountVectorizer()"
      ]
     },
     "execution_count": 16,
     "metadata": {},
     "output_type": "execute_result"
    }
   ],
   "source": [
    "matrix_X"
   ]
  },
  {
   "cell_type": "code",
   "execution_count": 91,
   "id": "19d8a7f7",
   "metadata": {},
   "outputs": [
    {
     "name": "stdout",
     "output_type": "stream",
     "text": [
      "Vocabulary:  {'electric': 12, 'automotive': 2, 'maker': 31, 'tesla': 52, 'inc': 18, 'likely': 27, 'introduce': 22, 'product': 38, 'india': 19, 'sometime': 48, 'summer': 49, '2017': 0, 'major': 29, 'mahindra': 28, 'driverless': 11, 'car': 6, 'bmw': 4, 'plan': 33, 'motorcycle': 32, 'just': 24, 'drive': 10, 'self': 45, 'rental': 40, 'firm': 14, 'us': 54, 'smart': 47, 'vehicle': 55, 'technology': 51, 'based': 3, 'iot': 23, 'industry': 21, 'going': 15, 'hire': 16, 'thousand': 53, '2018': 1, 'famous': 13, 'cricket': 7, 'player': 34, 'dhoni': 9, 'brought': 5, 'priced': 37, 'hummer': 17, 'suv': 50, 'led': 26, 'second': 44, 'world': 57, 'cup': 8, 'victory': 56, 'lead': 25, 'safety': 43, 'make': 30, 'revolution': 41, 'possible': 35, 'sachin': 42, 'recommended': 39, 'indian': 20, 'skipper': 46, 'post': 36}\n",
      "Encoded Document is:\n",
      "[[1 0 1 0 0 0 0 0 0 0 0 0 1 0 0 0 0 0 1 1 0 0 1 0 0 0 0 1 0 0 0 1 0 0 0 0\n",
      "  0 0 1 0 0 0 0 0 0 0 0 0 1 1 0 0 1 0 0 0 0 0]\n",
      " [0 0 1 0 0 0 1 0 0 0 0 1 0 0 0 0 0 0 0 0 0 0 1 0 0 0 0 1 1 1 0 0 0 0 0 0\n",
      "  0 0 0 0 0 0 0 0 0 0 0 0 0 0 0 0 0 0 0 0 0 0]\n",
      " [0 0 0 0 1 0 0 0 0 0 0 0 0 0 0 0 0 0 0 1 0 0 1 0 0 0 0 0 0 0 0 0 1 1 0 0\n",
      "  0 0 0 0 0 0 0 0 0 0 0 0 0 0 0 0 0 0 0 0 0 0]\n",
      " [0 0 0 1 0 0 1 0 0 0 2 0 0 0 1 0 0 0 0 0 0 0 0 1 1 0 0 0 0 0 0 0 0 0 0 0\n",
      "  0 0 0 0 1 0 0 0 0 1 0 1 0 0 0 1 0 0 1 1 0 0]\n",
      " [0 1 1 0 0 0 0 0 0 0 0 0 0 0 0 1 1 0 0 0 0 1 0 0 0 0 0 0 0 0 0 0 0 0 0 0\n",
      "  0 0 0 0 0 0 0 0 0 0 0 0 0 0 0 0 0 1 0 0 0 0]\n",
      " [0 0 0 0 0 1 1 1 0 1 0 0 0 1 0 0 0 1 0 0 0 0 0 0 0 0 0 0 0 0 0 0 0 0 1 0\n",
      "  0 1 0 0 0 0 0 0 0 0 0 0 0 0 1 0 0 0 0 0 0 0]\n",
      " [0 0 0 0 0 0 0 0 1 1 0 0 0 0 0 0 0 0 0 1 0 0 0 0 0 0 1 0 0 0 0 0 0 0 0 0\n",
      "  0 0 0 0 0 0 0 0 1 0 0 0 0 0 0 0 0 0 0 0 1 1]\n",
      " [0 0 0 0 0 0 1 0 0 0 0 1 0 0 0 0 0 0 0 0 0 0 0 1 0 1 0 0 0 0 1 0 0 0 0 1\n",
      "  0 0 0 0 0 1 0 1 0 0 0 0 0 0 0 0 0 0 0 1 0 0]\n",
      " [0 0 0 0 0 0 0 0 0 1 0 0 0 0 0 0 0 0 0 0 1 0 0 0 0 0 0 0 0 0 0 0 0 0 0 0\n",
      "  1 0 0 1 0 0 1 0 0 0 1 0 0 0 0 0 0 0 0 0 0 0]]\n"
     ]
    }
   ],
   "source": [
    "# Printing the identified Unique words along with their indices\n",
    "print(\"Vocabulary: \", vec.vocabulary_)\n",
    "  \n",
    "# Encode the Document\n",
    "vector = vec.transform(data)\n",
    "\n",
    "#print(vector)\n",
    "\n",
    "# Summarizing the Encoded Texts\n",
    "print(\"Encoded Document is:\")\n",
    "print(vector.toarray())\n",
    "\n",
    "unique_words = []\n",
    "for i in vec.vocabulary_:\n",
    "    unique_words.append(i)"
   ]
  },
  {
   "cell_type": "code",
   "execution_count": 92,
   "id": "1eb4c524",
   "metadata": {},
   "outputs": [],
   "source": [
    "vector_df = {}\n",
    "for i in range(len(list_of_docs)):\n",
    "    vector_df[\"Doc-\"+str(i+1)] = vector.toarray()[i].tolist()\n",
    "vector_df\n",
    "vector_df = pd.DataFrame.from_dict(vector_df, orient ='index')"
   ]
  },
  {
   "cell_type": "code",
   "execution_count": 93,
   "id": "e1eb621c",
   "metadata": {},
   "outputs": [
    {
     "data": {
      "text/html": [
       "<div>\n",
       "<style scoped>\n",
       "    .dataframe tbody tr th:only-of-type {\n",
       "        vertical-align: middle;\n",
       "    }\n",
       "\n",
       "    .dataframe tbody tr th {\n",
       "        vertical-align: top;\n",
       "    }\n",
       "\n",
       "    .dataframe thead th {\n",
       "        text-align: right;\n",
       "    }\n",
       "</style>\n",
       "<table border=\"1\" class=\"dataframe\">\n",
       "  <thead>\n",
       "    <tr style=\"text-align: right;\">\n",
       "      <th></th>\n",
       "      <th>electric</th>\n",
       "      <th>automotive</th>\n",
       "      <th>maker</th>\n",
       "      <th>tesla</th>\n",
       "      <th>inc</th>\n",
       "      <th>likely</th>\n",
       "      <th>introduce</th>\n",
       "      <th>product</th>\n",
       "      <th>india</th>\n",
       "      <th>sometime</th>\n",
       "      <th>...</th>\n",
       "      <th>lead</th>\n",
       "      <th>safety</th>\n",
       "      <th>make</th>\n",
       "      <th>revolution</th>\n",
       "      <th>possible</th>\n",
       "      <th>sachin</th>\n",
       "      <th>recommended</th>\n",
       "      <th>indian</th>\n",
       "      <th>skipper</th>\n",
       "      <th>post</th>\n",
       "    </tr>\n",
       "  </thead>\n",
       "  <tbody>\n",
       "    <tr>\n",
       "      <th>Doc-1</th>\n",
       "      <td>1</td>\n",
       "      <td>0</td>\n",
       "      <td>1</td>\n",
       "      <td>0</td>\n",
       "      <td>0</td>\n",
       "      <td>0</td>\n",
       "      <td>0</td>\n",
       "      <td>0</td>\n",
       "      <td>0</td>\n",
       "      <td>0</td>\n",
       "      <td>...</td>\n",
       "      <td>1</td>\n",
       "      <td>1</td>\n",
       "      <td>0</td>\n",
       "      <td>0</td>\n",
       "      <td>1</td>\n",
       "      <td>0</td>\n",
       "      <td>0</td>\n",
       "      <td>0</td>\n",
       "      <td>0</td>\n",
       "      <td>0</td>\n",
       "    </tr>\n",
       "    <tr>\n",
       "      <th>Doc-2</th>\n",
       "      <td>0</td>\n",
       "      <td>0</td>\n",
       "      <td>1</td>\n",
       "      <td>0</td>\n",
       "      <td>0</td>\n",
       "      <td>0</td>\n",
       "      <td>1</td>\n",
       "      <td>0</td>\n",
       "      <td>0</td>\n",
       "      <td>0</td>\n",
       "      <td>...</td>\n",
       "      <td>0</td>\n",
       "      <td>0</td>\n",
       "      <td>0</td>\n",
       "      <td>0</td>\n",
       "      <td>0</td>\n",
       "      <td>0</td>\n",
       "      <td>0</td>\n",
       "      <td>0</td>\n",
       "      <td>0</td>\n",
       "      <td>0</td>\n",
       "    </tr>\n",
       "    <tr>\n",
       "      <th>Doc-3</th>\n",
       "      <td>0</td>\n",
       "      <td>0</td>\n",
       "      <td>0</td>\n",
       "      <td>0</td>\n",
       "      <td>1</td>\n",
       "      <td>0</td>\n",
       "      <td>0</td>\n",
       "      <td>0</td>\n",
       "      <td>0</td>\n",
       "      <td>0</td>\n",
       "      <td>...</td>\n",
       "      <td>0</td>\n",
       "      <td>0</td>\n",
       "      <td>0</td>\n",
       "      <td>0</td>\n",
       "      <td>0</td>\n",
       "      <td>0</td>\n",
       "      <td>0</td>\n",
       "      <td>0</td>\n",
       "      <td>0</td>\n",
       "      <td>0</td>\n",
       "    </tr>\n",
       "    <tr>\n",
       "      <th>Doc-4</th>\n",
       "      <td>0</td>\n",
       "      <td>0</td>\n",
       "      <td>0</td>\n",
       "      <td>1</td>\n",
       "      <td>0</td>\n",
       "      <td>0</td>\n",
       "      <td>1</td>\n",
       "      <td>0</td>\n",
       "      <td>0</td>\n",
       "      <td>0</td>\n",
       "      <td>...</td>\n",
       "      <td>0</td>\n",
       "      <td>0</td>\n",
       "      <td>0</td>\n",
       "      <td>1</td>\n",
       "      <td>0</td>\n",
       "      <td>0</td>\n",
       "      <td>1</td>\n",
       "      <td>1</td>\n",
       "      <td>0</td>\n",
       "      <td>0</td>\n",
       "    </tr>\n",
       "    <tr>\n",
       "      <th>Doc-5</th>\n",
       "      <td>0</td>\n",
       "      <td>1</td>\n",
       "      <td>1</td>\n",
       "      <td>0</td>\n",
       "      <td>0</td>\n",
       "      <td>0</td>\n",
       "      <td>0</td>\n",
       "      <td>0</td>\n",
       "      <td>0</td>\n",
       "      <td>0</td>\n",
       "      <td>...</td>\n",
       "      <td>0</td>\n",
       "      <td>0</td>\n",
       "      <td>0</td>\n",
       "      <td>0</td>\n",
       "      <td>0</td>\n",
       "      <td>1</td>\n",
       "      <td>0</td>\n",
       "      <td>0</td>\n",
       "      <td>0</td>\n",
       "      <td>0</td>\n",
       "    </tr>\n",
       "    <tr>\n",
       "      <th>Doc-6</th>\n",
       "      <td>0</td>\n",
       "      <td>0</td>\n",
       "      <td>0</td>\n",
       "      <td>0</td>\n",
       "      <td>0</td>\n",
       "      <td>1</td>\n",
       "      <td>1</td>\n",
       "      <td>1</td>\n",
       "      <td>0</td>\n",
       "      <td>1</td>\n",
       "      <td>...</td>\n",
       "      <td>0</td>\n",
       "      <td>0</td>\n",
       "      <td>1</td>\n",
       "      <td>0</td>\n",
       "      <td>0</td>\n",
       "      <td>0</td>\n",
       "      <td>0</td>\n",
       "      <td>0</td>\n",
       "      <td>0</td>\n",
       "      <td>0</td>\n",
       "    </tr>\n",
       "    <tr>\n",
       "      <th>Doc-7</th>\n",
       "      <td>0</td>\n",
       "      <td>0</td>\n",
       "      <td>0</td>\n",
       "      <td>0</td>\n",
       "      <td>0</td>\n",
       "      <td>0</td>\n",
       "      <td>0</td>\n",
       "      <td>0</td>\n",
       "      <td>1</td>\n",
       "      <td>1</td>\n",
       "      <td>...</td>\n",
       "      <td>0</td>\n",
       "      <td>0</td>\n",
       "      <td>0</td>\n",
       "      <td>0</td>\n",
       "      <td>0</td>\n",
       "      <td>0</td>\n",
       "      <td>0</td>\n",
       "      <td>0</td>\n",
       "      <td>1</td>\n",
       "      <td>1</td>\n",
       "    </tr>\n",
       "    <tr>\n",
       "      <th>Doc-8</th>\n",
       "      <td>0</td>\n",
       "      <td>0</td>\n",
       "      <td>0</td>\n",
       "      <td>0</td>\n",
       "      <td>0</td>\n",
       "      <td>0</td>\n",
       "      <td>1</td>\n",
       "      <td>0</td>\n",
       "      <td>0</td>\n",
       "      <td>0</td>\n",
       "      <td>...</td>\n",
       "      <td>0</td>\n",
       "      <td>0</td>\n",
       "      <td>0</td>\n",
       "      <td>0</td>\n",
       "      <td>0</td>\n",
       "      <td>0</td>\n",
       "      <td>0</td>\n",
       "      <td>1</td>\n",
       "      <td>0</td>\n",
       "      <td>0</td>\n",
       "    </tr>\n",
       "    <tr>\n",
       "      <th>Doc-9</th>\n",
       "      <td>0</td>\n",
       "      <td>0</td>\n",
       "      <td>0</td>\n",
       "      <td>0</td>\n",
       "      <td>0</td>\n",
       "      <td>0</td>\n",
       "      <td>0</td>\n",
       "      <td>0</td>\n",
       "      <td>0</td>\n",
       "      <td>1</td>\n",
       "      <td>...</td>\n",
       "      <td>0</td>\n",
       "      <td>0</td>\n",
       "      <td>0</td>\n",
       "      <td>0</td>\n",
       "      <td>0</td>\n",
       "      <td>0</td>\n",
       "      <td>0</td>\n",
       "      <td>0</td>\n",
       "      <td>0</td>\n",
       "      <td>0</td>\n",
       "    </tr>\n",
       "  </tbody>\n",
       "</table>\n",
       "<p>9 rows × 58 columns</p>\n",
       "</div>"
      ],
      "text/plain": [
       "       electric  automotive  maker  tesla  inc  likely  introduce  product  \\\n",
       "Doc-1         1           0      1      0    0       0          0        0   \n",
       "Doc-2         0           0      1      0    0       0          1        0   \n",
       "Doc-3         0           0      0      0    1       0          0        0   \n",
       "Doc-4         0           0      0      1    0       0          1        0   \n",
       "Doc-5         0           1      1      0    0       0          0        0   \n",
       "Doc-6         0           0      0      0    0       1          1        1   \n",
       "Doc-7         0           0      0      0    0       0          0        0   \n",
       "Doc-8         0           0      0      0    0       0          1        0   \n",
       "Doc-9         0           0      0      0    0       0          0        0   \n",
       "\n",
       "       india  sometime  ...  lead  safety  make  revolution  possible  sachin  \\\n",
       "Doc-1      0         0  ...     1       1     0           0         1       0   \n",
       "Doc-2      0         0  ...     0       0     0           0         0       0   \n",
       "Doc-3      0         0  ...     0       0     0           0         0       0   \n",
       "Doc-4      0         0  ...     0       0     0           1         0       0   \n",
       "Doc-5      0         0  ...     0       0     0           0         0       1   \n",
       "Doc-6      0         1  ...     0       0     1           0         0       0   \n",
       "Doc-7      1         1  ...     0       0     0           0         0       0   \n",
       "Doc-8      0         0  ...     0       0     0           0         0       0   \n",
       "Doc-9      0         1  ...     0       0     0           0         0       0   \n",
       "\n",
       "       recommended  indian  skipper  post  \n",
       "Doc-1            0       0        0     0  \n",
       "Doc-2            0       0        0     0  \n",
       "Doc-3            0       0        0     0  \n",
       "Doc-4            1       1        0     0  \n",
       "Doc-5            0       0        0     0  \n",
       "Doc-6            0       0        0     0  \n",
       "Doc-7            0       0        1     1  \n",
       "Doc-8            0       1        0     0  \n",
       "Doc-9            0       0        0     0  \n",
       "\n",
       "[9 rows x 58 columns]"
      ]
     },
     "execution_count": 93,
     "metadata": {},
     "output_type": "execute_result"
    }
   ],
   "source": [
    "for i in range(len(unique_words)):\n",
    "    vector_df.rename(columns = {i:unique_words[i]}, inplace = True)\n",
    "vector_df"
   ]
  },
  {
   "cell_type": "code",
   "execution_count": 98,
   "id": "06960a76",
   "metadata": {},
   "outputs": [
    {
     "data": {
      "text/plain": [
       "Index(['electric', 'automotive', 'maker', 'tesla', 'inc', 'likely',\n",
       "       'introduce', 'product', 'india', 'sometime', 'summer', '2017', 'major',\n",
       "       'mahindra', 'driverless', 'car', 'bmw', 'plan', 'motorcycle', 'just',\n",
       "       'drive', 'self', 'rental', 'firm', 'us', 'smart', 'vehicle',\n",
       "       'technology', 'based', 'iot', 'industry', 'going', 'hire', 'thousand',\n",
       "       '2018', 'famous', 'cricket', 'player', 'dhoni', 'brought', 'priced',\n",
       "       'hummer', 'suv', 'led', 'second', 'world', 'cup', 'victory', 'lead',\n",
       "       'safety', 'make', 'revolution', 'possible', 'sachin', 'recommended',\n",
       "       'indian', 'skipper', 'post'],\n",
       "      dtype='object')"
      ]
     },
     "execution_count": 98,
     "metadata": {},
     "output_type": "execute_result"
    }
   ],
   "source": [
    "vector_df.columns"
   ]
  },
  {
   "cell_type": "code",
   "execution_count": 99,
   "id": "7aec3e3c",
   "metadata": {},
   "outputs": [],
   "source": [
    "vector_df = vector_df[['electric', 'automotive', 'maker', 'tesla', 'inc', 'likely', 'product', 'india', 'sometime', 'summer', '2017', 'major',\n",
    "       'mahindra', 'driverless', 'car', 'bmw', 'plan', 'motorcycle', 'just',\n",
    "       'drive', 'self', 'rental', 'firm', 'us', 'smart', 'vehicle',\n",
    "       'technology', 'based', 'iot', 'industry', 'going', 'hire', 'thousand',\n",
    "       '2018', 'famous', 'cricket', 'player', 'dhoni', 'brought', 'priced',\n",
    "       'hummer', 'suv', 'led', 'second', 'world', 'cup', 'victory', 'lead',\n",
    "       'safety', 'make', 'revolution', 'possible', 'sachin', 'recommended',\n",
    "       'indian', 'skipper', 'post',\n",
    "       'introduce']]"
   ]
  },
  {
   "cell_type": "code",
   "execution_count": 100,
   "id": "71cecae7",
   "metadata": {},
   "outputs": [
    {
     "data": {
      "text/html": [
       "<div>\n",
       "<style scoped>\n",
       "    .dataframe tbody tr th:only-of-type {\n",
       "        vertical-align: middle;\n",
       "    }\n",
       "\n",
       "    .dataframe tbody tr th {\n",
       "        vertical-align: top;\n",
       "    }\n",
       "\n",
       "    .dataframe thead th {\n",
       "        text-align: right;\n",
       "    }\n",
       "</style>\n",
       "<table border=\"1\" class=\"dataframe\">\n",
       "  <thead>\n",
       "    <tr style=\"text-align: right;\">\n",
       "      <th></th>\n",
       "      <th>electric</th>\n",
       "      <th>automotive</th>\n",
       "      <th>maker</th>\n",
       "      <th>tesla</th>\n",
       "      <th>inc</th>\n",
       "      <th>likely</th>\n",
       "      <th>product</th>\n",
       "      <th>india</th>\n",
       "      <th>sometime</th>\n",
       "      <th>summer</th>\n",
       "      <th>...</th>\n",
       "      <th>safety</th>\n",
       "      <th>make</th>\n",
       "      <th>revolution</th>\n",
       "      <th>possible</th>\n",
       "      <th>sachin</th>\n",
       "      <th>recommended</th>\n",
       "      <th>indian</th>\n",
       "      <th>skipper</th>\n",
       "      <th>post</th>\n",
       "      <th>introduce</th>\n",
       "    </tr>\n",
       "  </thead>\n",
       "  <tbody>\n",
       "    <tr>\n",
       "      <th>Doc-1</th>\n",
       "      <td>1</td>\n",
       "      <td>0</td>\n",
       "      <td>1</td>\n",
       "      <td>0</td>\n",
       "      <td>0</td>\n",
       "      <td>0</td>\n",
       "      <td>0</td>\n",
       "      <td>0</td>\n",
       "      <td>0</td>\n",
       "      <td>0</td>\n",
       "      <td>...</td>\n",
       "      <td>1</td>\n",
       "      <td>0</td>\n",
       "      <td>0</td>\n",
       "      <td>1</td>\n",
       "      <td>0</td>\n",
       "      <td>0</td>\n",
       "      <td>0</td>\n",
       "      <td>0</td>\n",
       "      <td>0</td>\n",
       "      <td>0</td>\n",
       "    </tr>\n",
       "    <tr>\n",
       "      <th>Doc-2</th>\n",
       "      <td>0</td>\n",
       "      <td>0</td>\n",
       "      <td>1</td>\n",
       "      <td>0</td>\n",
       "      <td>0</td>\n",
       "      <td>0</td>\n",
       "      <td>0</td>\n",
       "      <td>0</td>\n",
       "      <td>0</td>\n",
       "      <td>0</td>\n",
       "      <td>...</td>\n",
       "      <td>0</td>\n",
       "      <td>0</td>\n",
       "      <td>0</td>\n",
       "      <td>0</td>\n",
       "      <td>0</td>\n",
       "      <td>0</td>\n",
       "      <td>0</td>\n",
       "      <td>0</td>\n",
       "      <td>0</td>\n",
       "      <td>1</td>\n",
       "    </tr>\n",
       "    <tr>\n",
       "      <th>Doc-3</th>\n",
       "      <td>0</td>\n",
       "      <td>0</td>\n",
       "      <td>0</td>\n",
       "      <td>0</td>\n",
       "      <td>1</td>\n",
       "      <td>0</td>\n",
       "      <td>0</td>\n",
       "      <td>0</td>\n",
       "      <td>0</td>\n",
       "      <td>0</td>\n",
       "      <td>...</td>\n",
       "      <td>0</td>\n",
       "      <td>0</td>\n",
       "      <td>0</td>\n",
       "      <td>0</td>\n",
       "      <td>0</td>\n",
       "      <td>0</td>\n",
       "      <td>0</td>\n",
       "      <td>0</td>\n",
       "      <td>0</td>\n",
       "      <td>0</td>\n",
       "    </tr>\n",
       "    <tr>\n",
       "      <th>Doc-4</th>\n",
       "      <td>0</td>\n",
       "      <td>0</td>\n",
       "      <td>0</td>\n",
       "      <td>1</td>\n",
       "      <td>0</td>\n",
       "      <td>0</td>\n",
       "      <td>0</td>\n",
       "      <td>0</td>\n",
       "      <td>0</td>\n",
       "      <td>2</td>\n",
       "      <td>...</td>\n",
       "      <td>0</td>\n",
       "      <td>0</td>\n",
       "      <td>1</td>\n",
       "      <td>0</td>\n",
       "      <td>0</td>\n",
       "      <td>1</td>\n",
       "      <td>1</td>\n",
       "      <td>0</td>\n",
       "      <td>0</td>\n",
       "      <td>1</td>\n",
       "    </tr>\n",
       "    <tr>\n",
       "      <th>Doc-5</th>\n",
       "      <td>0</td>\n",
       "      <td>1</td>\n",
       "      <td>1</td>\n",
       "      <td>0</td>\n",
       "      <td>0</td>\n",
       "      <td>0</td>\n",
       "      <td>0</td>\n",
       "      <td>0</td>\n",
       "      <td>0</td>\n",
       "      <td>0</td>\n",
       "      <td>...</td>\n",
       "      <td>0</td>\n",
       "      <td>0</td>\n",
       "      <td>0</td>\n",
       "      <td>0</td>\n",
       "      <td>1</td>\n",
       "      <td>0</td>\n",
       "      <td>0</td>\n",
       "      <td>0</td>\n",
       "      <td>0</td>\n",
       "      <td>0</td>\n",
       "    </tr>\n",
       "    <tr>\n",
       "      <th>Doc-6</th>\n",
       "      <td>0</td>\n",
       "      <td>0</td>\n",
       "      <td>0</td>\n",
       "      <td>0</td>\n",
       "      <td>0</td>\n",
       "      <td>1</td>\n",
       "      <td>1</td>\n",
       "      <td>0</td>\n",
       "      <td>1</td>\n",
       "      <td>0</td>\n",
       "      <td>...</td>\n",
       "      <td>0</td>\n",
       "      <td>1</td>\n",
       "      <td>0</td>\n",
       "      <td>0</td>\n",
       "      <td>0</td>\n",
       "      <td>0</td>\n",
       "      <td>0</td>\n",
       "      <td>0</td>\n",
       "      <td>0</td>\n",
       "      <td>1</td>\n",
       "    </tr>\n",
       "    <tr>\n",
       "      <th>Doc-7</th>\n",
       "      <td>0</td>\n",
       "      <td>0</td>\n",
       "      <td>0</td>\n",
       "      <td>0</td>\n",
       "      <td>0</td>\n",
       "      <td>0</td>\n",
       "      <td>0</td>\n",
       "      <td>1</td>\n",
       "      <td>1</td>\n",
       "      <td>0</td>\n",
       "      <td>...</td>\n",
       "      <td>0</td>\n",
       "      <td>0</td>\n",
       "      <td>0</td>\n",
       "      <td>0</td>\n",
       "      <td>0</td>\n",
       "      <td>0</td>\n",
       "      <td>0</td>\n",
       "      <td>1</td>\n",
       "      <td>1</td>\n",
       "      <td>0</td>\n",
       "    </tr>\n",
       "    <tr>\n",
       "      <th>Doc-8</th>\n",
       "      <td>0</td>\n",
       "      <td>0</td>\n",
       "      <td>0</td>\n",
       "      <td>0</td>\n",
       "      <td>0</td>\n",
       "      <td>0</td>\n",
       "      <td>0</td>\n",
       "      <td>0</td>\n",
       "      <td>0</td>\n",
       "      <td>0</td>\n",
       "      <td>...</td>\n",
       "      <td>0</td>\n",
       "      <td>0</td>\n",
       "      <td>0</td>\n",
       "      <td>0</td>\n",
       "      <td>0</td>\n",
       "      <td>0</td>\n",
       "      <td>1</td>\n",
       "      <td>0</td>\n",
       "      <td>0</td>\n",
       "      <td>1</td>\n",
       "    </tr>\n",
       "    <tr>\n",
       "      <th>Doc-9</th>\n",
       "      <td>0</td>\n",
       "      <td>0</td>\n",
       "      <td>0</td>\n",
       "      <td>0</td>\n",
       "      <td>0</td>\n",
       "      <td>0</td>\n",
       "      <td>0</td>\n",
       "      <td>0</td>\n",
       "      <td>1</td>\n",
       "      <td>0</td>\n",
       "      <td>...</td>\n",
       "      <td>0</td>\n",
       "      <td>0</td>\n",
       "      <td>0</td>\n",
       "      <td>0</td>\n",
       "      <td>0</td>\n",
       "      <td>0</td>\n",
       "      <td>0</td>\n",
       "      <td>0</td>\n",
       "      <td>0</td>\n",
       "      <td>0</td>\n",
       "    </tr>\n",
       "  </tbody>\n",
       "</table>\n",
       "<p>9 rows × 58 columns</p>\n",
       "</div>"
      ],
      "text/plain": [
       "       electric  automotive  maker  tesla  inc  likely  product  india  \\\n",
       "Doc-1         1           0      1      0    0       0        0      0   \n",
       "Doc-2         0           0      1      0    0       0        0      0   \n",
       "Doc-3         0           0      0      0    1       0        0      0   \n",
       "Doc-4         0           0      0      1    0       0        0      0   \n",
       "Doc-5         0           1      1      0    0       0        0      0   \n",
       "Doc-6         0           0      0      0    0       1        1      0   \n",
       "Doc-7         0           0      0      0    0       0        0      1   \n",
       "Doc-8         0           0      0      0    0       0        0      0   \n",
       "Doc-9         0           0      0      0    0       0        0      0   \n",
       "\n",
       "       sometime  summer  ...  safety  make  revolution  possible  sachin  \\\n",
       "Doc-1         0       0  ...       1     0           0         1       0   \n",
       "Doc-2         0       0  ...       0     0           0         0       0   \n",
       "Doc-3         0       0  ...       0     0           0         0       0   \n",
       "Doc-4         0       2  ...       0     0           1         0       0   \n",
       "Doc-5         0       0  ...       0     0           0         0       1   \n",
       "Doc-6         1       0  ...       0     1           0         0       0   \n",
       "Doc-7         1       0  ...       0     0           0         0       0   \n",
       "Doc-8         0       0  ...       0     0           0         0       0   \n",
       "Doc-9         1       0  ...       0     0           0         0       0   \n",
       "\n",
       "       recommended  indian  skipper  post  introduce  \n",
       "Doc-1            0       0        0     0          0  \n",
       "Doc-2            0       0        0     0          1  \n",
       "Doc-3            0       0        0     0          0  \n",
       "Doc-4            1       1        0     0          1  \n",
       "Doc-5            0       0        0     0          0  \n",
       "Doc-6            0       0        0     0          1  \n",
       "Doc-7            0       0        1     1          0  \n",
       "Doc-8            0       1        0     0          1  \n",
       "Doc-9            0       0        0     0          0  \n",
       "\n",
       "[9 rows x 58 columns]"
      ]
     },
     "execution_count": 100,
     "metadata": {},
     "output_type": "execute_result"
    }
   ],
   "source": [
    "vector_df"
   ]
  },
  {
   "cell_type": "code",
   "execution_count": 94,
   "id": "5df35526",
   "metadata": {},
   "outputs": [],
   "source": [
    "from sklearn import tree"
   ]
  },
  {
   "cell_type": "code",
   "execution_count": 120,
   "id": "bef4f19e",
   "metadata": {},
   "outputs": [],
   "source": [
    "# Split dataset into training set and test set\n",
    "X_train, X_test, y_train, y_test = train_test_split(vector_df.iloc[:,0:57], vector_df.iloc[:,57], test_size=0.35, random_state=1) # 70% training and 30% test"
   ]
  },
  {
   "cell_type": "code",
   "execution_count": 121,
   "id": "87ca9f5c",
   "metadata": {},
   "outputs": [
    {
     "data": {
      "text/html": [
       "<div>\n",
       "<style scoped>\n",
       "    .dataframe tbody tr th:only-of-type {\n",
       "        vertical-align: middle;\n",
       "    }\n",
       "\n",
       "    .dataframe tbody tr th {\n",
       "        vertical-align: top;\n",
       "    }\n",
       "\n",
       "    .dataframe thead th {\n",
       "        text-align: right;\n",
       "    }\n",
       "</style>\n",
       "<table border=\"1\" class=\"dataframe\">\n",
       "  <thead>\n",
       "    <tr style=\"text-align: right;\">\n",
       "      <th></th>\n",
       "      <th>electric</th>\n",
       "      <th>automotive</th>\n",
       "      <th>maker</th>\n",
       "      <th>tesla</th>\n",
       "      <th>inc</th>\n",
       "      <th>likely</th>\n",
       "      <th>product</th>\n",
       "      <th>india</th>\n",
       "      <th>sometime</th>\n",
       "      <th>summer</th>\n",
       "      <th>...</th>\n",
       "      <th>lead</th>\n",
       "      <th>safety</th>\n",
       "      <th>make</th>\n",
       "      <th>revolution</th>\n",
       "      <th>possible</th>\n",
       "      <th>sachin</th>\n",
       "      <th>recommended</th>\n",
       "      <th>indian</th>\n",
       "      <th>skipper</th>\n",
       "      <th>post</th>\n",
       "    </tr>\n",
       "  </thead>\n",
       "  <tbody>\n",
       "    <tr>\n",
       "      <th>Doc-2</th>\n",
       "      <td>0</td>\n",
       "      <td>0</td>\n",
       "      <td>1</td>\n",
       "      <td>0</td>\n",
       "      <td>0</td>\n",
       "      <td>0</td>\n",
       "      <td>0</td>\n",
       "      <td>0</td>\n",
       "      <td>0</td>\n",
       "      <td>0</td>\n",
       "      <td>...</td>\n",
       "      <td>0</td>\n",
       "      <td>0</td>\n",
       "      <td>0</td>\n",
       "      <td>0</td>\n",
       "      <td>0</td>\n",
       "      <td>0</td>\n",
       "      <td>0</td>\n",
       "      <td>0</td>\n",
       "      <td>0</td>\n",
       "      <td>0</td>\n",
       "    </tr>\n",
       "    <tr>\n",
       "      <th>Doc-1</th>\n",
       "      <td>1</td>\n",
       "      <td>0</td>\n",
       "      <td>1</td>\n",
       "      <td>0</td>\n",
       "      <td>0</td>\n",
       "      <td>0</td>\n",
       "      <td>0</td>\n",
       "      <td>0</td>\n",
       "      <td>0</td>\n",
       "      <td>0</td>\n",
       "      <td>...</td>\n",
       "      <td>1</td>\n",
       "      <td>1</td>\n",
       "      <td>0</td>\n",
       "      <td>0</td>\n",
       "      <td>1</td>\n",
       "      <td>0</td>\n",
       "      <td>0</td>\n",
       "      <td>0</td>\n",
       "      <td>0</td>\n",
       "      <td>0</td>\n",
       "    </tr>\n",
       "    <tr>\n",
       "      <th>Doc-5</th>\n",
       "      <td>0</td>\n",
       "      <td>1</td>\n",
       "      <td>1</td>\n",
       "      <td>0</td>\n",
       "      <td>0</td>\n",
       "      <td>0</td>\n",
       "      <td>0</td>\n",
       "      <td>0</td>\n",
       "      <td>0</td>\n",
       "      <td>0</td>\n",
       "      <td>...</td>\n",
       "      <td>0</td>\n",
       "      <td>0</td>\n",
       "      <td>0</td>\n",
       "      <td>0</td>\n",
       "      <td>0</td>\n",
       "      <td>1</td>\n",
       "      <td>0</td>\n",
       "      <td>0</td>\n",
       "      <td>0</td>\n",
       "      <td>0</td>\n",
       "    </tr>\n",
       "    <tr>\n",
       "      <th>Doc-4</th>\n",
       "      <td>0</td>\n",
       "      <td>0</td>\n",
       "      <td>0</td>\n",
       "      <td>1</td>\n",
       "      <td>0</td>\n",
       "      <td>0</td>\n",
       "      <td>0</td>\n",
       "      <td>0</td>\n",
       "      <td>0</td>\n",
       "      <td>2</td>\n",
       "      <td>...</td>\n",
       "      <td>0</td>\n",
       "      <td>0</td>\n",
       "      <td>0</td>\n",
       "      <td>1</td>\n",
       "      <td>0</td>\n",
       "      <td>0</td>\n",
       "      <td>1</td>\n",
       "      <td>1</td>\n",
       "      <td>0</td>\n",
       "      <td>0</td>\n",
       "    </tr>\n",
       "    <tr>\n",
       "      <th>Doc-6</th>\n",
       "      <td>0</td>\n",
       "      <td>0</td>\n",
       "      <td>0</td>\n",
       "      <td>0</td>\n",
       "      <td>0</td>\n",
       "      <td>1</td>\n",
       "      <td>1</td>\n",
       "      <td>0</td>\n",
       "      <td>1</td>\n",
       "      <td>0</td>\n",
       "      <td>...</td>\n",
       "      <td>0</td>\n",
       "      <td>0</td>\n",
       "      <td>1</td>\n",
       "      <td>0</td>\n",
       "      <td>0</td>\n",
       "      <td>0</td>\n",
       "      <td>0</td>\n",
       "      <td>0</td>\n",
       "      <td>0</td>\n",
       "      <td>0</td>\n",
       "    </tr>\n",
       "  </tbody>\n",
       "</table>\n",
       "<p>5 rows × 57 columns</p>\n",
       "</div>"
      ],
      "text/plain": [
       "       electric  automotive  maker  tesla  inc  likely  product  india  \\\n",
       "Doc-2         0           0      1      0    0       0        0      0   \n",
       "Doc-1         1           0      1      0    0       0        0      0   \n",
       "Doc-5         0           1      1      0    0       0        0      0   \n",
       "Doc-4         0           0      0      1    0       0        0      0   \n",
       "Doc-6         0           0      0      0    0       1        1      0   \n",
       "\n",
       "       sometime  summer  ...  lead  safety  make  revolution  possible  \\\n",
       "Doc-2         0       0  ...     0       0     0           0         0   \n",
       "Doc-1         0       0  ...     1       1     0           0         1   \n",
       "Doc-5         0       0  ...     0       0     0           0         0   \n",
       "Doc-4         0       2  ...     0       0     0           1         0   \n",
       "Doc-6         1       0  ...     0       0     1           0         0   \n",
       "\n",
       "       sachin  recommended  indian  skipper  post  \n",
       "Doc-2       0            0       0        0     0  \n",
       "Doc-1       0            0       0        0     0  \n",
       "Doc-5       1            0       0        0     0  \n",
       "Doc-4       0            1       1        0     0  \n",
       "Doc-6       0            0       0        0     0  \n",
       "\n",
       "[5 rows x 57 columns]"
      ]
     },
     "execution_count": 121,
     "metadata": {},
     "output_type": "execute_result"
    }
   ],
   "source": [
    "X_train"
   ]
  },
  {
   "cell_type": "code",
   "execution_count": 122,
   "id": "51074f57",
   "metadata": {},
   "outputs": [
    {
     "data": {
      "text/plain": [
       "Doc-2    1\n",
       "Doc-1    0\n",
       "Doc-5    0\n",
       "Doc-4    1\n",
       "Doc-6    1\n",
       "Name: introduce, dtype: int64"
      ]
     },
     "execution_count": 122,
     "metadata": {},
     "output_type": "execute_result"
    }
   ],
   "source": [
    "y_train"
   ]
  },
  {
   "cell_type": "code",
   "execution_count": 123,
   "id": "f3dcff79",
   "metadata": {},
   "outputs": [
    {
     "data": {
      "text/html": [
       "<div>\n",
       "<style scoped>\n",
       "    .dataframe tbody tr th:only-of-type {\n",
       "        vertical-align: middle;\n",
       "    }\n",
       "\n",
       "    .dataframe tbody tr th {\n",
       "        vertical-align: top;\n",
       "    }\n",
       "\n",
       "    .dataframe thead th {\n",
       "        text-align: right;\n",
       "    }\n",
       "</style>\n",
       "<table border=\"1\" class=\"dataframe\">\n",
       "  <thead>\n",
       "    <tr style=\"text-align: right;\">\n",
       "      <th></th>\n",
       "      <th>electric</th>\n",
       "      <th>automotive</th>\n",
       "      <th>maker</th>\n",
       "      <th>tesla</th>\n",
       "      <th>inc</th>\n",
       "      <th>likely</th>\n",
       "      <th>product</th>\n",
       "      <th>india</th>\n",
       "      <th>sometime</th>\n",
       "      <th>summer</th>\n",
       "      <th>...</th>\n",
       "      <th>lead</th>\n",
       "      <th>safety</th>\n",
       "      <th>make</th>\n",
       "      <th>revolution</th>\n",
       "      <th>possible</th>\n",
       "      <th>sachin</th>\n",
       "      <th>recommended</th>\n",
       "      <th>indian</th>\n",
       "      <th>skipper</th>\n",
       "      <th>post</th>\n",
       "    </tr>\n",
       "  </thead>\n",
       "  <tbody>\n",
       "    <tr>\n",
       "      <th>Doc-9</th>\n",
       "      <td>0</td>\n",
       "      <td>0</td>\n",
       "      <td>0</td>\n",
       "      <td>0</td>\n",
       "      <td>0</td>\n",
       "      <td>0</td>\n",
       "      <td>0</td>\n",
       "      <td>0</td>\n",
       "      <td>1</td>\n",
       "      <td>0</td>\n",
       "      <td>...</td>\n",
       "      <td>0</td>\n",
       "      <td>0</td>\n",
       "      <td>0</td>\n",
       "      <td>0</td>\n",
       "      <td>0</td>\n",
       "      <td>0</td>\n",
       "      <td>0</td>\n",
       "      <td>0</td>\n",
       "      <td>0</td>\n",
       "      <td>0</td>\n",
       "    </tr>\n",
       "    <tr>\n",
       "      <th>Doc-3</th>\n",
       "      <td>0</td>\n",
       "      <td>0</td>\n",
       "      <td>0</td>\n",
       "      <td>0</td>\n",
       "      <td>1</td>\n",
       "      <td>0</td>\n",
       "      <td>0</td>\n",
       "      <td>0</td>\n",
       "      <td>0</td>\n",
       "      <td>0</td>\n",
       "      <td>...</td>\n",
       "      <td>0</td>\n",
       "      <td>0</td>\n",
       "      <td>0</td>\n",
       "      <td>0</td>\n",
       "      <td>0</td>\n",
       "      <td>0</td>\n",
       "      <td>0</td>\n",
       "      <td>0</td>\n",
       "      <td>0</td>\n",
       "      <td>0</td>\n",
       "    </tr>\n",
       "    <tr>\n",
       "      <th>Doc-7</th>\n",
       "      <td>0</td>\n",
       "      <td>0</td>\n",
       "      <td>0</td>\n",
       "      <td>0</td>\n",
       "      <td>0</td>\n",
       "      <td>0</td>\n",
       "      <td>0</td>\n",
       "      <td>1</td>\n",
       "      <td>1</td>\n",
       "      <td>0</td>\n",
       "      <td>...</td>\n",
       "      <td>0</td>\n",
       "      <td>0</td>\n",
       "      <td>0</td>\n",
       "      <td>0</td>\n",
       "      <td>0</td>\n",
       "      <td>0</td>\n",
       "      <td>0</td>\n",
       "      <td>0</td>\n",
       "      <td>1</td>\n",
       "      <td>1</td>\n",
       "    </tr>\n",
       "    <tr>\n",
       "      <th>Doc-8</th>\n",
       "      <td>0</td>\n",
       "      <td>0</td>\n",
       "      <td>0</td>\n",
       "      <td>0</td>\n",
       "      <td>0</td>\n",
       "      <td>0</td>\n",
       "      <td>0</td>\n",
       "      <td>0</td>\n",
       "      <td>0</td>\n",
       "      <td>0</td>\n",
       "      <td>...</td>\n",
       "      <td>0</td>\n",
       "      <td>0</td>\n",
       "      <td>0</td>\n",
       "      <td>0</td>\n",
       "      <td>0</td>\n",
       "      <td>0</td>\n",
       "      <td>0</td>\n",
       "      <td>1</td>\n",
       "      <td>0</td>\n",
       "      <td>0</td>\n",
       "    </tr>\n",
       "  </tbody>\n",
       "</table>\n",
       "<p>4 rows × 57 columns</p>\n",
       "</div>"
      ],
      "text/plain": [
       "       electric  automotive  maker  tesla  inc  likely  product  india  \\\n",
       "Doc-9         0           0      0      0    0       0        0      0   \n",
       "Doc-3         0           0      0      0    1       0        0      0   \n",
       "Doc-7         0           0      0      0    0       0        0      1   \n",
       "Doc-8         0           0      0      0    0       0        0      0   \n",
       "\n",
       "       sometime  summer  ...  lead  safety  make  revolution  possible  \\\n",
       "Doc-9         1       0  ...     0       0     0           0         0   \n",
       "Doc-3         0       0  ...     0       0     0           0         0   \n",
       "Doc-7         1       0  ...     0       0     0           0         0   \n",
       "Doc-8         0       0  ...     0       0     0           0         0   \n",
       "\n",
       "       sachin  recommended  indian  skipper  post  \n",
       "Doc-9       0            0       0        0     0  \n",
       "Doc-3       0            0       0        0     0  \n",
       "Doc-7       0            0       0        1     1  \n",
       "Doc-8       0            0       1        0     0  \n",
       "\n",
       "[4 rows x 57 columns]"
      ]
     },
     "execution_count": 123,
     "metadata": {},
     "output_type": "execute_result"
    }
   ],
   "source": [
    "X_test"
   ]
  },
  {
   "cell_type": "code",
   "execution_count": 124,
   "id": "03554d41",
   "metadata": {},
   "outputs": [
    {
     "data": {
      "text/plain": [
       "Doc-9    0\n",
       "Doc-3    0\n",
       "Doc-7    0\n",
       "Doc-8    1\n",
       "Name: introduce, dtype: int64"
      ]
     },
     "execution_count": 124,
     "metadata": {},
     "output_type": "execute_result"
    }
   ],
   "source": [
    "y_test"
   ]
  },
  {
   "cell_type": "code",
   "execution_count": 125,
   "id": "b246ec6e",
   "metadata": {},
   "outputs": [],
   "source": [
    "# Create Decision Tree classifer object\n",
    "clf = DecisionTreeClassifier()\n",
    "\n",
    "# Train Decision Tree Classifer\n",
    "clf = clf.fit(X_train,y_train)\n",
    "\n",
    "#Predict the response for test dataset\n",
    "y_pred = clf.predict(X_test)"
   ]
  },
  {
   "cell_type": "code",
   "execution_count": 126,
   "id": "8ddb274d",
   "metadata": {},
   "outputs": [
    {
     "data": {
      "text/plain": [
       "array([1, 1, 1, 1], dtype=int64)"
      ]
     },
     "execution_count": 126,
     "metadata": {},
     "output_type": "execute_result"
    }
   ],
   "source": [
    "y_pred"
   ]
  },
  {
   "cell_type": "code",
   "execution_count": 127,
   "id": "4313b977",
   "metadata": {},
   "outputs": [
    {
     "name": "stdout",
     "output_type": "stream",
     "text": [
      "Accuracy: 0.25\n"
     ]
    }
   ],
   "source": [
    "print(\"Accuracy:\",metrics.accuracy_score(y_test, y_pred))"
   ]
  },
  {
   "cell_type": "code",
   "execution_count": 129,
   "id": "da0828be",
   "metadata": {},
   "outputs": [
    {
     "data": {
      "image/png": "[encoded data removed]",
      "text/plain": [
       "<IPython.core.display.Image object>"
      ]
     },
     "execution_count": 129,
     "metadata": {},
     "output_type": "execute_result"
    }
   ],
   "source": [
    "import graphviz\n",
    "from sklearn.tree import export_graphviz\n",
    "from six import StringIO  \n",
    "from IPython.display import Image  \n",
    "import pydotplus\n",
    "dot_data = StringIO()\n",
    "export_graphviz(clf, out_file=dot_data,  \n",
    "                filled=True, rounded=True,\n",
    "                special_characters=True,feature_names = vector_df.columns[0:57],class_names=['0','1'])\n",
    "graph = pydotplus.graph_from_dot_data(dot_data.getvalue())  \n",
    "graph.write_png('diabetes.png')\n",
    "Image(graph.create_png())"
   ]
  },
  {
   "cell_type": "code",
   "execution_count": null,
   "id": "d2a767d1",
   "metadata": {},
   "outputs": [],
   "source": []
  }
 ],
 "metadata": {
  "kernelspec": {
   "display_name": "Python 3",
   "language": "python",
   "name": "python3"
  },
  "language_info": {
   "codemirror_mode": {
    "name": "ipython",
    "version": 3
   },
   "file_extension": ".py",
   "mimetype": "text/x-python",
   "name": "python",
   "nbconvert_exporter": "python",
   "pygments_lexer": "ipython3",
   "version": "3.8.8"
  }
 },
 "nbformat": 4,
 "nbformat_minor": 5
}
