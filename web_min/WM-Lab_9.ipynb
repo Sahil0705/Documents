{
 "cells": [
  {
   "cell_type": "markdown",
   "id": "32facfe8",
   "metadata": {},
   "source": [
    "## Web Mining, Lab - 9 : HITS Algorithm, Sahil Sachin Donde - 19BCE1353"
   ]
  },
  {
   "cell_type": "code",
   "execution_count": null,
   "id": "0c7d157a",
   "metadata": {},
   "outputs": [],
   "source": []
  },
  {
   "cell_type": "code",
   "execution_count": 99,
   "id": "24adf85b",
   "metadata": {},
   "outputs": [],
   "source": [
    "# Q.1 Write a python program that takes the outlink data of a subsection of the web and that computes the Normalized Hub and authority score.  The program should take the following parameters :\n",
    "\n",
    "# a. Number of sites in the sub-section of the web\n",
    "# b. Outlink data of the sites\n",
    "\n",
    "# For this Q, I took the graph (the graph which we took in the class for explanation) from the user as uers input and \n",
    "# found out the Authority and Hub values for each and every node, till the values of previous iterations"
   ]
  },
  {
   "cell_type": "code",
   "execution_count": 76,
   "id": "02dda8a3",
   "metadata": {},
   "outputs": [
    {
     "name": "stdout",
     "output_type": "stream",
     "text": [
      "Enter the total no edges in the graph: 7\n",
      "\n",
      "Enter the nodes for edge- 0\n",
      "Enter the source node: A\n",
      "Enter the destination node: B\n",
      "\n",
      "Enter the nodes for edge- 1\n",
      "Enter the source node: A\n",
      "Enter the destination node: C\n",
      "\n",
      "Enter the nodes for edge- 2\n",
      "Enter the source node: A\n",
      "Enter the destination node: D\n",
      "\n",
      "Enter the nodes for edge- 3\n",
      "Enter the source node: B\n",
      "Enter the destination node: A\n",
      "\n",
      "Enter the nodes for edge- 4\n",
      "Enter the source node: B\n",
      "Enter the destination node: C\n",
      "\n",
      "Enter the nodes for edge- 5\n",
      "Enter the source node: B\n",
      "Enter the destination node: D\n",
      "\n",
      "Enter the nodes for edge- 6\n",
      "Enter the source node: C\n",
      "Enter the destination node: D\n",
      "\n",
      "[('A', 'B'), ('A', 'C'), ('A', 'D'), ('B', 'A'), ('B', 'C'), ('B', 'D'), ('C', 'D')]\n"
     ]
    }
   ],
   "source": [
    "\n",
    "from collections import defaultdict\n",
    "\n",
    "graph = defaultdict(list)\n",
    "def addEdge(graph,u,v):\n",
    "    graph[u].append(v)\n",
    "\n",
    "def generate_edges(graph):\n",
    "    edges = []\n",
    "\n",
    "    for node in graph:\n",
    "        for neighbour in graph[node]:\n",
    "            edges.append((node, neighbour))\n",
    "    return edges\n",
    "\n",
    "vertices = []\n",
    "\n",
    "n = int(input(\"Enter the total no edges in the graph: \"))\n",
    "print()\n",
    "for i in range(0,n):\n",
    "    print(\"Enter the nodes for edge-\",i)\n",
    "    u = input(\"Enter the source node: \")\n",
    "    v = input(\"Enter the destination node: \")\n",
    "    addEdge(graph,u,v)\n",
    "    if(u not in vertices):\n",
    "        vertices.append(u)\n",
    "    if(v not in vertices):\n",
    "        vertices.append(v)\n",
    "    print()\n",
    "\n",
    "dir_graph = generate_edges(graph)\n",
    "print(dir_graph)\n",
    "vertices.sort()"
   ]
  },
  {
   "cell_type": "code",
   "execution_count": 77,
   "id": "c343dcfa",
   "metadata": {},
   "outputs": [
    {
     "data": {
      "text/plain": [
       "['A', 'B', 'C']"
      ]
     },
     "execution_count": 77,
     "metadata": {},
     "output_type": "execute_result"
    }
   ],
   "source": [
    "def inlinks(u):\n",
    "    l = []\n",
    "    for v in dir_graph:\n",
    "        if(v[1]==u):\n",
    "            l.append(v[0])\n",
    "    return(l)\n",
    "inlinks('D')"
   ]
  },
  {
   "cell_type": "code",
   "execution_count": 78,
   "id": "07ce9db7",
   "metadata": {},
   "outputs": [
    {
     "data": {
      "text/plain": [
       "['B', 'C', 'D']"
      ]
     },
     "execution_count": 78,
     "metadata": {},
     "output_type": "execute_result"
    }
   ],
   "source": [
    "def outlinks(u):\n",
    "    l = []\n",
    "    for v in dir_graph:\n",
    "        if(v[0]==u):\n",
    "            l.append(v[1])\n",
    "    return(l)\n",
    "outlinks('A')"
   ]
  },
  {
   "cell_type": "code",
   "execution_count": 79,
   "id": "af42baba",
   "metadata": {},
   "outputs": [],
   "source": [
    "A = {}\n",
    "H = {}\n",
    "for i in vertices:\n",
    "    H[i] = 1"
   ]
  },
  {
   "cell_type": "code",
   "execution_count": 80,
   "id": "f9c75e2e",
   "metadata": {},
   "outputs": [],
   "source": [
    "prev_A = {}\n",
    "prev_H = {}\n",
    "c=0\n",
    "l=0"
   ]
  },
  {
   "cell_type": "code",
   "execution_count": 81,
   "id": "296fa19c",
   "metadata": {},
   "outputs": [
    {
     "name": "stdout",
     "output_type": "stream",
     "text": [
      "Iteration :  1\n",
      "Authority Values ->  {'A': 0.143, 'B': 0.143, 'C': 0.286, 'D': 0.429}\n",
      "Hub Values ->  {'A': 0.4, 'B': 0.4, 'C': 0.2, 'D': 0.0}\n",
      "\n",
      "Iteration :  2\n",
      "Authority Values ->  {'A': 0.154, 'B': 0.154, 'C': 0.308, 'D': 0.385}\n",
      "Hub Values ->  {'A': 0.407, 'B': 0.407, 'C': 0.185, 'D': 0.0}\n",
      "\n",
      "Iteration :  3\n",
      "Authority Values ->  {'A': 0.155, 'B': 0.155, 'C': 0.31, 'D': 0.38}\n",
      "Hub Values ->  {'A': 0.408, 'B': 0.408, 'C': 0.184, 'D': 0.0}\n",
      "\n",
      "Iteration :  4\n",
      "Authority Values ->  {'A': 0.155, 'B': 0.155, 'C': 0.31, 'D': 0.38}\n",
      "Hub Values ->  {'A': 0.408, 'B': 0.408, 'C': 0.184, 'D': 0.0}\n",
      "\n"
     ]
    }
   ],
   "source": [
    "while(c!=1):\n",
    "    for i in A:\n",
    "        prev_A[i] = A[i]\n",
    "    for i in H:\n",
    "        prev_H[i] = H[i]\n",
    "    print(\"Iteration : \",l+1)\n",
    "    for i in vertices:\n",
    "        in_link = inlinks(i)\n",
    "        temp_A = 0\n",
    "        for j in in_link:\n",
    "            temp_A = temp_A + H[j]\n",
    "        A[i] = temp_A\n",
    "    s = sum(A.values())\n",
    "    for k in A:\n",
    "        A[k] = round((A[k]/s),3)\n",
    "    print(\"Authority Values -> \",A)\n",
    "    for i in vertices:\n",
    "        out_link = outlinks(i)\n",
    "        temp_H = 0\n",
    "        for j in out_link:\n",
    "            temp_H = temp_H + A[j]\n",
    "        H[i] = temp_H\n",
    "    s = sum(H.values())\n",
    "    for k in H:\n",
    "        H[k] = round((H[k]/s),3)\n",
    "    print(\"Hub Values -> \",H)\n",
    "    print()\n",
    "    if(prev_A==A and prev_H==H):\n",
    "        c = 1\n",
    "    l = l+1"
   ]
  },
  {
   "cell_type": "code",
   "execution_count": 101,
   "id": "f933d0d8",
   "metadata": {},
   "outputs": [
    {
     "name": "stdout",
     "output_type": "stream",
     "text": [
      "Normalized Authority Normalized and Hub values of every site or node in the graph for the Final Iteration is: -\n"
     ]
    }
   ],
   "source": [
    "print(\"Normalized Authority Normalized and Hub values of every site or node in the graph for the Final Iteration is: -\")"
   ]
  },
  {
   "cell_type": "code",
   "execution_count": 83,
   "id": "187b9260",
   "metadata": {},
   "outputs": [],
   "source": [
    "import pandas as pd"
   ]
  },
  {
   "cell_type": "code",
   "execution_count": 84,
   "id": "f5769f34",
   "metadata": {},
   "outputs": [
    {
     "data": {
      "text/plain": [
       "{'A': (0.155, 0.408),\n",
       " 'B': (0.155, 0.408),\n",
       " 'C': (0.31, 0.184),\n",
       " 'D': (0.38, 0.0)}"
      ]
     },
     "execution_count": 84,
     "metadata": {},
     "output_type": "execute_result"
    }
   ],
   "source": [
    "Authority_Hub = {}\n",
    "for i in vertices:\n",
    "    Authority_Hub[i]=(A[i],H[i])\n",
    "Authority_Hub"
   ]
  },
  {
   "cell_type": "code",
   "execution_count": 85,
   "id": "52ecfdfc",
   "metadata": {},
   "outputs": [],
   "source": [
    "Authority_Hub_df = pd.DataFrame(Authority_Hub,index=['Authority Values', 'Hub Values'])"
   ]
  },
  {
   "cell_type": "code",
   "execution_count": 86,
   "id": "ed156fd9",
   "metadata": {},
   "outputs": [
    {
     "data": {
      "text/html": [
       "<div>\n",
       "<style scoped>\n",
       "    .dataframe tbody tr th:only-of-type {\n",
       "        vertical-align: middle;\n",
       "    }\n",
       "\n",
       "    .dataframe tbody tr th {\n",
       "        vertical-align: top;\n",
       "    }\n",
       "\n",
       "    .dataframe thead th {\n",
       "        text-align: right;\n",
       "    }\n",
       "</style>\n",
       "<table border=\"1\" class=\"dataframe\">\n",
       "  <thead>\n",
       "    <tr style=\"text-align: right;\">\n",
       "      <th></th>\n",
       "      <th>A</th>\n",
       "      <th>B</th>\n",
       "      <th>C</th>\n",
       "      <th>D</th>\n",
       "    </tr>\n",
       "  </thead>\n",
       "  <tbody>\n",
       "    <tr>\n",
       "      <th>Authority Values</th>\n",
       "      <td>0.155</td>\n",
       "      <td>0.155</td>\n",
       "      <td>0.310</td>\n",
       "      <td>0.38</td>\n",
       "    </tr>\n",
       "    <tr>\n",
       "      <th>Hub Values</th>\n",
       "      <td>0.408</td>\n",
       "      <td>0.408</td>\n",
       "      <td>0.184</td>\n",
       "      <td>0.00</td>\n",
       "    </tr>\n",
       "  </tbody>\n",
       "</table>\n",
       "</div>"
      ],
      "text/plain": [
       "                      A      B      C     D\n",
       "Authority Values  0.155  0.155  0.310  0.38\n",
       "Hub Values        0.408  0.408  0.184  0.00"
      ]
     },
     "execution_count": 86,
     "metadata": {},
     "output_type": "execute_result"
    }
   ],
   "source": [
    "Authority_Hub_df \n",
    "#here columns corresponds to the Website / Node in Web Graph and rows corresponds \n",
    "# to the Normalized Authority and Normalized Hub values\n",
    "#Cell values are the Authority and Hub values of the respective Website ( for final iteration - when values become constant)"
   ]
  },
  {
   "cell_type": "code",
   "execution_count": null,
   "id": "c780080a",
   "metadata": {},
   "outputs": [],
   "source": []
  },
  {
   "cell_type": "code",
   "execution_count": null,
   "id": "c69be1a4",
   "metadata": {},
   "outputs": [],
   "source": []
  },
  {
   "cell_type": "code",
   "execution_count": null,
   "id": "e712f9aa",
   "metadata": {},
   "outputs": [],
   "source": [
    "# Q.2. Test your program using the following linkage data.  Assume each site consists of only one text page.\n",
    "\n",
    "# a.\tSite A(outlinks to B,C,D)\n",
    "# b.\tSite B(outlinks to A,C,D)\n",
    "# c.\tSite C(outlinks to A,D)\n",
    "# d.\tSite D(outlinks to C,D,E)\n",
    "# e.\tSite E(outlinks to B,C,D)\n",
    "# f.\tSite F(outlinks to A)\n",
    "\n",
    "# Note: while computing Hub score and authority score, ignore “self – loops”.\n",
    "\n",
    "# Printout a table containing the following fields:\n",
    "# Site name, Normalized Hub score and Normalized authority score\n"
   ]
  },
  {
   "cell_type": "code",
   "execution_count": 87,
   "id": "804c6c64",
   "metadata": {},
   "outputs": [
    {
     "name": "stdout",
     "output_type": "stream",
     "text": [
      "Enter the total no edges in the graph: 15\n",
      "\n",
      "Enter the nodes for edge- 0\n",
      "Enter the source node: A\n",
      "Enter the destination node: B\n",
      "\n",
      "Enter the nodes for edge- 1\n",
      "Enter the source node: A\n",
      "Enter the destination node: C\n",
      "\n",
      "Enter the nodes for edge- 2\n",
      "Enter the source node: A\n",
      "Enter the destination node: D\n",
      "\n",
      "Enter the nodes for edge- 3\n",
      "Enter the source node: B\n",
      "Enter the destination node: A\n",
      "\n",
      "Enter the nodes for edge- 4\n",
      "Enter the source node: B\n",
      "Enter the destination node: C\n",
      "\n",
      "Enter the nodes for edge- 5\n",
      "Enter the source node: B\n",
      "Enter the destination node: D\n",
      "\n",
      "Enter the nodes for edge- 6\n",
      "Enter the source node: C\n",
      "Enter the destination node: A\n",
      "\n",
      "Enter the nodes for edge- 7\n",
      "Enter the source node: C\n",
      "Enter the destination node: D\n",
      "\n",
      "Enter the nodes for edge- 8\n",
      "Enter the source node: D\n",
      "Enter the destination node: C\n",
      "\n",
      "Enter the nodes for edge- 9\n",
      "Enter the source node: D\n",
      "Enter the destination node: D\n",
      "\n",
      "Enter the nodes for edge- 10\n",
      "Enter the source node: D\n",
      "Enter the destination node: E\n",
      "\n",
      "Enter the nodes for edge- 11\n",
      "Enter the source node: E\n",
      "Enter the destination node: B\n",
      "\n",
      "Enter the nodes for edge- 12\n",
      "Enter the source node: E\n",
      "Enter the destination node: C\n",
      "\n",
      "Enter the nodes for edge- 13\n",
      "Enter the source node: E\n",
      "Enter the destination node: D\n",
      "\n",
      "Enter the nodes for edge- 14\n",
      "Enter the source node: F\n",
      "Enter the destination node: A\n",
      "\n",
      "[('A', 'B'), ('A', 'C'), ('A', 'D'), ('B', 'A'), ('B', 'C'), ('B', 'D'), ('C', 'A'), ('C', 'D'), ('D', 'C'), ('D', 'D'), ('D', 'E'), ('E', 'B'), ('E', 'C'), ('E', 'D'), ('F', 'A')]\n"
     ]
    }
   ],
   "source": [
    "\n",
    "from collections import defaultdict\n",
    "\n",
    "graph = defaultdict(list)\n",
    "def addEdge(graph,u,v):\n",
    "    graph[u].append(v)\n",
    "\n",
    "def generate_edges(graph):\n",
    "    edges = []\n",
    "\n",
    "    for node in graph:\n",
    "        for neighbour in graph[node]:\n",
    "            edges.append((node, neighbour))\n",
    "    return edges\n",
    "\n",
    "vertices = []\n",
    "\n",
    "n = int(input(\"Enter the total no edges in the graph: \"))\n",
    "print()\n",
    "for i in range(0,n):\n",
    "    print(\"Enter the nodes for edge-\",i)\n",
    "    u = input(\"Enter the source node: \")\n",
    "    v = input(\"Enter the destination node: \")\n",
    "    addEdge(graph,u,v)\n",
    "    if(u not in vertices):\n",
    "        vertices.append(u)\n",
    "    if(v not in vertices):\n",
    "        vertices.append(v)\n",
    "    print()\n",
    "\n",
    "dir_graph = generate_edges(graph)\n",
    "print(dir_graph)\n",
    "vertices.sort()"
   ]
  },
  {
   "cell_type": "code",
   "execution_count": 88,
   "id": "3610829b",
   "metadata": {},
   "outputs": [
    {
     "data": {
      "text/plain": [
       "['A', 'B', 'C', 'E']"
      ]
     },
     "execution_count": 88,
     "metadata": {},
     "output_type": "execute_result"
    }
   ],
   "source": [
    "def inlinks(u):\n",
    "    l = []\n",
    "    for v in dir_graph:\n",
    "        if(v[1]==u and v[0]!=u):\n",
    "            l.append(v[0])\n",
    "    return(l)\n",
    "inlinks('D')"
   ]
  },
  {
   "cell_type": "code",
   "execution_count": 89,
   "id": "11af9de6",
   "metadata": {},
   "outputs": [
    {
     "data": {
      "text/plain": [
       "['B', 'C', 'D']"
      ]
     },
     "execution_count": 89,
     "metadata": {},
     "output_type": "execute_result"
    }
   ],
   "source": [
    "def outlinks(u):\n",
    "    l = []\n",
    "    for v in dir_graph:\n",
    "        if(v[0]==u and v[1]!=u):\n",
    "            l.append(v[1])\n",
    "    return(l)\n",
    "outlinks('A')"
   ]
  },
  {
   "cell_type": "code",
   "execution_count": 90,
   "id": "bbb981ce",
   "metadata": {},
   "outputs": [],
   "source": [
    "A = {}\n",
    "H = {}\n",
    "for i in vertices:\n",
    "    H[i] = 1"
   ]
  },
  {
   "cell_type": "code",
   "execution_count": 91,
   "id": "e9de952c",
   "metadata": {},
   "outputs": [],
   "source": [
    "prev_A = {}\n",
    "prev_H = {}\n",
    "c=0\n",
    "l=0"
   ]
  },
  {
   "cell_type": "code",
   "execution_count": 92,
   "id": "be522131",
   "metadata": {},
   "outputs": [
    {
     "name": "stdout",
     "output_type": "stream",
     "text": [
      "Iteration :  1\n",
      "Authority Values ->  {'A': 0.214, 'B': 0.143, 'C': 0.286, 'D': 0.286, 'E': 0.071, 'F': 0.0}\n",
      "Hub Values ->  {'A': 0.218, 'B': 0.239, 'C': 0.152, 'D': 0.109, 'E': 0.218, 'F': 0.065}\n",
      "\n",
      "Iteration :  2\n",
      "Authority Values ->  {'A': 0.175, 'B': 0.167, 'C': 0.3, 'D': 0.317, 'E': 0.042, 'F': 0.0}\n",
      "Hub Values ->  {'A': 0.233, 'B': 0.235, 'C': 0.146, 'D': 0.102, 'E': 0.233, 'F': 0.052}\n",
      "\n",
      "Iteration :  3\n",
      "Authority Values ->  {'A': 0.163, 'B': 0.176, 'C': 0.303, 'D': 0.32, 'E': 0.038, 'F': 0.0}\n",
      "Hub Values ->  {'A': 0.237, 'B': 0.233, 'C': 0.143, 'D': 0.101, 'E': 0.237, 'F': 0.048}\n",
      "\n",
      "Iteration :  4\n",
      "Authority Values ->  {'A': 0.16, 'B': 0.178, 'C': 0.304, 'D': 0.32, 'E': 0.038, 'F': 0.0}\n",
      "Hub Values ->  {'A': 0.238, 'B': 0.233, 'C': 0.142, 'D': 0.101, 'E': 0.238, 'F': 0.047}\n",
      "\n",
      "Iteration :  5\n",
      "Authority Values ->  {'A': 0.159, 'B': 0.179, 'C': 0.305, 'D': 0.32, 'E': 0.038, 'F': 0.0}\n",
      "Hub Values ->  {'A': 0.238, 'B': 0.232, 'C': 0.142, 'D': 0.102, 'E': 0.238, 'F': 0.047}\n",
      "\n",
      "Iteration :  6\n",
      "Authority Values ->  {'A': 0.158, 'B': 0.179, 'C': 0.305, 'D': 0.32, 'E': 0.038, 'F': 0.0}\n",
      "Hub Values ->  {'A': 0.239, 'B': 0.232, 'C': 0.142, 'D': 0.102, 'E': 0.239, 'F': 0.047}\n",
      "\n",
      "Iteration :  7\n",
      "Authority Values ->  {'A': 0.158, 'B': 0.179, 'C': 0.305, 'D': 0.32, 'E': 0.038, 'F': 0.0}\n",
      "Hub Values ->  {'A': 0.239, 'B': 0.232, 'C': 0.142, 'D': 0.102, 'E': 0.239, 'F': 0.047}\n",
      "\n"
     ]
    }
   ],
   "source": [
    "while(c!=1):\n",
    "    for i in A:\n",
    "        prev_A[i] = A[i]\n",
    "    for i in H:\n",
    "        prev_H[i] = H[i]\n",
    "    print(\"Iteration : \",l+1)\n",
    "    for i in vertices:\n",
    "        in_link = inlinks(i)\n",
    "        temp_A = 0\n",
    "        for j in in_link:\n",
    "            temp_A = temp_A + H[j]\n",
    "        A[i] = temp_A\n",
    "    s = sum(A.values())\n",
    "    for k in A:\n",
    "        A[k] = round((A[k]/s),3)\n",
    "    print(\"Authority Values -> \",A)\n",
    "    for i in vertices:\n",
    "        out_link = outlinks(i)\n",
    "        temp_H = 0\n",
    "        for j in out_link:\n",
    "            temp_H = temp_H + A[j]\n",
    "        H[i] = temp_H\n",
    "    s = sum(H.values())\n",
    "    for k in H:\n",
    "        H[k] = round((H[k]/s),3)\n",
    "    print(\"Hub Values -> \",H)\n",
    "    print()\n",
    "    if(prev_A==A and prev_H==H):\n",
    "        c = 1\n",
    "    l = l+1"
   ]
  },
  {
   "cell_type": "code",
   "execution_count": 100,
   "id": "6fd77095",
   "metadata": {},
   "outputs": [
    {
     "name": "stdout",
     "output_type": "stream",
     "text": [
      "Normalized Authority and Normalized Hub values of every site or node in the graph for the Final Iteration is: -\n"
     ]
    }
   ],
   "source": [
    "print(\"Normalized Authority and Normalized Hub values of every site or node in the graph for the Final Iteration is: -\")"
   ]
  },
  {
   "cell_type": "code",
   "execution_count": 94,
   "id": "d01e151a",
   "metadata": {},
   "outputs": [],
   "source": [
    "import pandas as pd"
   ]
  },
  {
   "cell_type": "code",
   "execution_count": 95,
   "id": "a5002ff0",
   "metadata": {},
   "outputs": [
    {
     "data": {
      "text/plain": [
       "{'A': (0.158, 0.239),\n",
       " 'B': (0.179, 0.232),\n",
       " 'C': (0.305, 0.142),\n",
       " 'D': (0.32, 0.102),\n",
       " 'E': (0.038, 0.239),\n",
       " 'F': (0.0, 0.047)}"
      ]
     },
     "execution_count": 95,
     "metadata": {},
     "output_type": "execute_result"
    }
   ],
   "source": [
    "Authority_Hub = {}\n",
    "for i in vertices:\n",
    "    Authority_Hub[i]=(A[i],H[i])\n",
    "Authority_Hub"
   ]
  },
  {
   "cell_type": "code",
   "execution_count": 96,
   "id": "22add186",
   "metadata": {},
   "outputs": [],
   "source": [
    "Authority_Hub_df = pd.DataFrame(Authority_Hub,index=['Authority Values', 'Hub Values'])"
   ]
  },
  {
   "cell_type": "code",
   "execution_count": 97,
   "id": "5bf6621b",
   "metadata": {},
   "outputs": [
    {
     "data": {
      "text/html": [
       "<div>\n",
       "<style scoped>\n",
       "    .dataframe tbody tr th:only-of-type {\n",
       "        vertical-align: middle;\n",
       "    }\n",
       "\n",
       "    .dataframe tbody tr th {\n",
       "        vertical-align: top;\n",
       "    }\n",
       "\n",
       "    .dataframe thead th {\n",
       "        text-align: right;\n",
       "    }\n",
       "</style>\n",
       "<table border=\"1\" class=\"dataframe\">\n",
       "  <thead>\n",
       "    <tr style=\"text-align: right;\">\n",
       "      <th></th>\n",
       "      <th>A</th>\n",
       "      <th>B</th>\n",
       "      <th>C</th>\n",
       "      <th>D</th>\n",
       "      <th>E</th>\n",
       "      <th>F</th>\n",
       "    </tr>\n",
       "  </thead>\n",
       "  <tbody>\n",
       "    <tr>\n",
       "      <th>Authority Values</th>\n",
       "      <td>0.158</td>\n",
       "      <td>0.179</td>\n",
       "      <td>0.305</td>\n",
       "      <td>0.320</td>\n",
       "      <td>0.038</td>\n",
       "      <td>0.000</td>\n",
       "    </tr>\n",
       "    <tr>\n",
       "      <th>Hub Values</th>\n",
       "      <td>0.239</td>\n",
       "      <td>0.232</td>\n",
       "      <td>0.142</td>\n",
       "      <td>0.102</td>\n",
       "      <td>0.239</td>\n",
       "      <td>0.047</td>\n",
       "    </tr>\n",
       "  </tbody>\n",
       "</table>\n",
       "</div>"
      ],
      "text/plain": [
       "                      A      B      C      D      E      F\n",
       "Authority Values  0.158  0.179  0.305  0.320  0.038  0.000\n",
       "Hub Values        0.239  0.232  0.142  0.102  0.239  0.047"
      ]
     },
     "execution_count": 97,
     "metadata": {},
     "output_type": "execute_result"
    }
   ],
   "source": [
    "Authority_Hub_df \n",
    "# here columns corresponds to the Website / Node in Web Graph and rows corresponds \n",
    "# to the Normalized Authority and Normalized Hub values\n",
    "# Cell values are the Authority and Hub values of the respective Website"
   ]
  },
  {
   "cell_type": "code",
   "execution_count": null,
   "id": "c146a688",
   "metadata": {},
   "outputs": [],
   "source": []
  }
 ],
 "metadata": {
  "kernelspec": {
   "display_name": "Python 3",
   "language": "python",
   "name": "python3"
  },
  "language_info": {
   "codemirror_mode": {
    "name": "ipython",
    "version": 3
   },
   "file_extension": ".py",
   "mimetype": "text/x-python",
   "name": "python",
   "nbconvert_exporter": "python",
   "pygments_lexer": "ipython3",
   "version": "3.8.8"
  }
 },
 "nbformat": 4,
 "nbformat_minor": 5
}
