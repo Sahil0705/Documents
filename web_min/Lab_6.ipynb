{
 "cells": [
  {
   "cell_type": "markdown",
   "id": "017c4e96",
   "metadata": {},
   "source": [
    "# Web Mining Lab 6 - 19BCE1353 Sahil Sachin Donde"
   ]
  },
  {
   "cell_type": "code",
   "execution_count": null,
   "id": "fe5b085b",
   "metadata": {},
   "outputs": [],
   "source": [
    "\n",
    "# Take any text corpora, apply necessary preprocessing and perform the k-means clustering on the corpora.\n",
    "\n",
    "\n",
    "# Note: Observe the clustering performance by doing different initializations of centroids.\n"
   ]
  },
  {
   "cell_type": "code",
   "execution_count": null,
   "id": "a0264160",
   "metadata": {},
   "outputs": [],
   "source": []
  },
  {
   "cell_type": "code",
   "execution_count": 31,
   "id": "38ec808c",
   "metadata": {},
   "outputs": [
    {
     "name": "stderr",
     "output_type": "stream",
     "text": [
      "[nltk_data] Downloading package stopwords to\n",
      "[nltk_data]     C:\\Users\\sahil\\AppData\\Roaming\\nltk_data...\n",
      "[nltk_data]   Package stopwords is already up-to-date!\n",
      "[nltk_data] Downloading package punkt to\n",
      "[nltk_data]     C:\\Users\\sahil\\AppData\\Roaming\\nltk_data...\n",
      "[nltk_data]   Package punkt is already up-to-date!\n"
     ]
    },
    {
     "data": {
      "text/plain": [
       "True"
      ]
     },
     "execution_count": 31,
     "metadata": {},
     "output_type": "execute_result"
    }
   ],
   "source": [
    "import nltk"
   ]
  },
  {
   "cell_type": "code",
   "execution_count": 53,
   "id": "e1bc2aa6",
   "metadata": {},
   "outputs": [],
   "source": [
    "from nltk.tokenize import word_tokenize"
   ]
  },
  {
   "cell_type": "code",
   "execution_count": 54,
   "id": "48d6ff39",
   "metadata": {},
   "outputs": [],
   "source": [
    "from nltk.corpus import stopwords"
   ]
  },
  {
   "cell_type": "code",
   "execution_count": 55,
   "id": "5ba1ffd2",
   "metadata": {},
   "outputs": [
    {
     "name": "stderr",
     "output_type": "stream",
     "text": [
      "[nltk_data] Downloading package stopwords to\n",
      "[nltk_data]     C:\\Users\\sahil\\AppData\\Roaming\\nltk_data...\n",
      "[nltk_data]   Package stopwords is already up-to-date!\n",
      "[nltk_data] Downloading package punkt to\n",
      "[nltk_data]     C:\\Users\\sahil\\AppData\\Roaming\\nltk_data...\n",
      "[nltk_data]   Package punkt is already up-to-date!\n"
     ]
    },
    {
     "data": {
      "text/plain": [
       "True"
      ]
     },
     "execution_count": 55,
     "metadata": {},
     "output_type": "execute_result"
    }
   ],
   "source": [
    "nltk.download('stopwords')\n",
    "\n",
    "nltk.download('punkt')"
   ]
  },
  {
   "cell_type": "code",
   "execution_count": 71,
   "id": "72ad1c8f",
   "metadata": {},
   "outputs": [
    {
     "name": "stderr",
     "output_type": "stream",
     "text": [
      "[nltk_data] Downloading package wordnet to\n",
      "[nltk_data]     C:\\Users\\sahil\\AppData\\Roaming\\nltk_data...\n",
      "[nltk_data]   Unzipping corpora\\wordnet.zip.\n"
     ]
    },
    {
     "data": {
      "text/plain": [
       "True"
      ]
     },
     "execution_count": 71,
     "metadata": {},
     "output_type": "execute_result"
    }
   ],
   "source": [
    "nltk.download('wordnet')"
   ]
  },
  {
   "cell_type": "code",
   "execution_count": 190,
   "id": "0fbca1b8",
   "metadata": {
    "scrolled": false
   },
   "outputs": [
    {
     "name": "stdout",
     "output_type": "stream",
     "text": [
      "{0: ['Image', 'CRPD', 'member', 'svg', 'thumb', 'right', 'px', 'Signatories', 'Convention', 'Rights', 'Persons', 'Disabilities', 'The', 'Convention', 'Rights', 'Persons', 'Disabilities', 'international', 'agreement', 'protect', 'right', 'Liberty', 'freedom', 'people', 'Disability', 'disability', 'The', 'Convention', 'based', 'international', 'human', 'right', 'law', 'international', 'human', 'right', 'law', 'created', 'Universal', 'Declaration', 'Human', 'Rights', 'Ratification', 'ratified', 'The', 'Convention', 'adopted', 'United', 'Nations', 'General', 'Assembly', 'December', 'effect', 'since', 'May', 'Up', 'December', 'country', 'ratified', 'Convention', 'As', 'December', 'European', 'Union', 'collectively', 'ratified', 'Convention', 'Part', 'Convention', 'includes', 'meeting', 'make', 'sure', 'Convention', 'followed', 'People', 'disability', 'part', 'meeting'], 1: ['A', 'Prime', 'minister', 'manages', 'politics', 'country', 'With', 'country', 'king', 'queen', 'may', 'day', 'day', 'charge', 'taking', 'order', 'president', 'France', 'Countries', 'Prime', 'Minister'], 2: ['For', 'edition', 'user', 'Pmlineditor', 'Pmlineditor', 'interviewed', 'user', 'Nifky', 'Nifky', 'Okay', 'first', 'tell', 'Hi', 'I', 'Nifky', 'I', 'Australia', 'I', 'joined', 'Wikipedia', 'October', 'regularly', 'seen', 'onwiki', 'IRC', 'I', 'edit', 'Wikia', 'Nifky', 'When', 'first', 'discover', 'Wikipedia', 'I', 'discovered', 'Wikipedia', 'year', 'ago', 'actually', 'school', 'I', 'tried', 'create', 'account', 'page', 'ever', 'load', 'English', 'Wikipedia', 'I', 'edited', 'IP', 'bit', 'year', 'ago', 'I', 'discovered', 'edit', 'create', 'account', 'first', 'time', 'editor', 'What', 'got', 'involved', 'editing', 'Wikipedia', 'What', 'thing', 'involved', 'Don', 'really', 'know', 'actually', 'apart', 'fact', 'interesting', 'article', 'I', 'like', 'know', 'wiki', 'I', 'usually', 'involved', 'WikiGnoming', 'DYK', 'PVGA', 'PGA', 'I', 'feel', 'like', 'What', 'best', 'worst', 'thing', 'Wikipedia', 'What', 'think', 'need', 'changing', 'make', 'better', 'One', 'best', 'thing', 'Wikipedia', 'edit', 'It', 'would', 'bit', 'hard', 'resist', 'correcting', 'typo', 'page', 'would', 'even', 'worse', 'I', 'even', 'edit', 'start', 'P', 'One', 'thing', 'I', 'find', 'bad', 'Wikipedia', 'people', 'clearly', 'helping', 'example', 'edit', 'war', 'drama', 'certain', 'page', 'I', 'sure', 'thing', 'change', 'make', 'project', 'better', 'I', 'would', 'appreciate', 'people', 'pinpoint', 'others', 'something', 'another', 'person', 'agree', 'I', 'find', 'bit', 'annoying', 'Agreed', 'Finally', 'ever', 'thought', 'running', 'adminship', 'Yeah', 'I', 'I', 'really', 'committed', 'first', 'month', 'editing', 'simple', 'editcount', 'fairly', 'low', 'compared', 'others', 'joined', 'later', 'Nevertheless', 'time', 'I', 'feel', 'I', 'ready', 'assist', 'project', 'I', 'run', 'adminship', 'I', 'sure', 'make', 'good', 'admin', 'Thanks', 'interview', 'Nifky', 'Join', 'u', 'next', 'time', 'another', 'interview', 'user', 'Pmlineditor', 'February', 'UTC'], 3: ['This', 'category', 'property', 'National', 'Trust', 'England', 'Wales', 'Northern', 'Ireland', 'Scotland', 'included', 'separate', 'National', 'Trust'], 4: ['Interstate', 'Interstate', 'Highway', 'state', 'Texas', 'United', 'States', 'It', 'go', 'Galveston', 'Texas', 'Galveston', 'north', 'Dallas', 'Texas', 'Dallas', 'The', 'route', 'long'], 5: ['Jayceon', 'Terrell', 'Taylor', 'better', 'known', 'stage', 'Game', 'formally', 'The', 'Game', 'Americans', 'American', 'rapper', 'He', 'became', 'famous', 'success', 'debut', 'album', 'The', 'Documentary', 'two', 'Grammy', 'nomination', 'Since', 'considered', 'driving', 'force', 'bringing', 'back', 'West', 'Coast', 'hip', 'hop', 'scene', 'mainstream', 'competing', 'many', 'East', 'Coast', 'hip', 'hop', 'East', 'Coast', 'counterpart'], 6: ['The', 'triangular', 'trade', 'refers', 'trade', 'across', 'Atlantic', 'Ocean', 'three', 'port', 'region', 'Triangular', 'trade', 'usually', 'develops', 'region', 'export', 'ing', 'resource', 'needed', 'region', 'main', 'import', 'Instead', 'resource', 'exported', 'third', 'region', 'The', 'Trade', 'route', 'route', 'involved', 'historically', 'shaped', 'Trade', 'wind', 'wind', 'Ocean', 'current', 'current', 'age', 'sailing', 'ship', 'The', 'best', 'known', 'triangular', 'trading', 'system', 'Atlantic', 'slave', 'trade', 'lasted', 'late', 'th', 'early', 'th', 'century', 'During', 'time', 'Europe', 'country', 'Britain', 'Spain', 'France', 'Colony', 'colony', 'Americas', 'Africa', 'The', 'ship', 'carrying', 'slave', 'crop', 'Manufacturing', 'manufactured', 'good', 'West', 'Africa', 'Caribbean', 'American', 'colony', 'colonial', 'power', 'Europe', 'The', 'use', 'African', 'slave', 'trade', 'African', 'slave', 'important', 'growing', 'colonial', 'cash', 'crop', 'exported', 'Europe', 'European', 'good', 'turn', 'used', 'buy', 'African', 'slave', 'brought', 'west', 'Africa', 'Americas', 'Forced', 'labour', 'work', 'crop', 'The', 'middle', 'passage', 'triangular', 'trade', 'refers', 'transportation', 'slave', 'america', 'The', 'Atlantic', 'economy', 'tied', 'idea', 'mercantilism', 'thought', 'good', 'idea', 'European', 'country', 'lot', 'colony', 'traded', 'Goods', 'traded', 'Atlantic', 'economy', 'rum', 'slave', 'sugar', 'tobacco', 'gold', 'spice', 'fish', 'lumber', 'manufactured', 'good'], 7: ['Football', 'player', 'infobox', 'Giancarlo', 'Antognoni', 'former', 'Italy', 'Italian', 'Association', 'football', 'football', 'player', 'He', 'played', 'Italy', 'national', 'football', 'team', 'Italy', 'national', 'team'], 8: ['Vetus', 'Latina', 'given', 'collection', 'Bible', 'Biblical', 'text', 'translated', 'Latin', 'language', 'Latin', 'Vulgate', 'became', 'standard', 'version', 'used', 'Latin', 'speaking', 'world', 'The', 'text', 'written', 'Late', 'Latin', 'Old', 'Latin', 'Many', 'text', 'passage', 'known', 'Church', 'father', 'Augustine', 'Hippo', 'cited', 'Since', 'Council', 'Trent', 'held', 'th', 'century', 'Vulgate', 'official', 'Bible', 'translation', 'Roman', 'Catholic', 'Church', 'Some', 'Vetus', 'Latin', 'text', 'survives', 'Liturgy', 'however', 'The', 'Old', 'Latin', 'text', 'mean', 'Glory', 'belongs', 'God', 'among', 'high', 'peace', 'belongs', 'good', 'earth', 'The', 'Vulgate', 'text', 'mean', 'Glory', 'belongs', 'God', 'among', 'high', 'peace', 'among', 'good', 'earth', 'Probably', 'best', 'known', 'difference', 'Old', 'Latin', 'Vulgate', 'Pater', 'Noster', 'phrase', 'Vetus', 'Latina', 'quotidianum', 'panem', 'daily', 'bread', 'becomes', 'supersubstantialem', 'panem', 'Epiousios', 'supersubstantial', 'bread', 'Vulgate'], 9: ['Fame', 'song', 'David', 'Bowie', 'It', 'written', 'David', 'Bowie', 'John', 'Lennon', 'The', 'Beatles', 'The', 'song', 'combined', 'funk', 'rock', 'roll', 'rock', 'music', 'The', 'song', 'released', 'August', 'It', 'Bowie', 'Young', 'Americans', 'Young', 'Americans', 'album', 'The', 'song', 'reached', 'number', 'position', 'United', 'States', 'US', 'Billboard', 'Top', 'September']}\n",
      "[['Image', 'CRPD', 'member', 'svg', 'thumb', 'right', 'px', 'Signatories', 'Convention', 'Rights', 'Persons', 'Disabilities', 'The', 'Convention', 'Rights', 'Persons', 'Disabilities', 'international', 'agreement', 'protect', 'right', 'Liberty', 'freedom', 'people', 'Disability', 'disability', 'The', 'Convention', 'based', 'international', 'human', 'right', 'law', 'international', 'human', 'right', 'law', 'created', 'Universal', 'Declaration', 'Human', 'Rights', 'Ratification', 'ratified', 'The', 'Convention', 'adopted', 'United', 'Nations', 'General', 'Assembly', 'December', 'effect', 'since', 'May', 'Up', 'December', 'country', 'ratified', 'Convention', 'As', 'December', 'European', 'Union', 'collectively', 'ratified', 'Convention', 'Part', 'Convention', 'includes', 'meeting', 'make', 'sure', 'Convention', 'followed', 'People', 'disability', 'part', 'meeting'], ['A', 'Prime', 'minister', 'manages', 'politics', 'country', 'With', 'country', 'king', 'queen', 'may', 'day', 'day', 'charge', 'taking', 'order', 'president', 'France', 'Countries', 'Prime', 'Minister'], ['For', 'edition', 'user', 'Pmlineditor', 'Pmlineditor', 'interviewed', 'user', 'Nifky', 'Nifky', 'Okay', 'first', 'tell', 'Hi', 'I', 'Nifky', 'I', 'Australia', 'I', 'joined', 'Wikipedia', 'October', 'regularly', 'seen', 'onwiki', 'IRC', 'I', 'edit', 'Wikia', 'Nifky', 'When', 'first', 'discover', 'Wikipedia', 'I', 'discovered', 'Wikipedia', 'year', 'ago', 'actually', 'school', 'I', 'tried', 'create', 'account', 'page', 'ever', 'load', 'English', 'Wikipedia', 'I', 'edited', 'IP', 'bit', 'year', 'ago', 'I', 'discovered', 'edit', 'create', 'account', 'first', 'time', 'editor', 'What', 'got', 'involved', 'editing', 'Wikipedia', 'What', 'thing', 'involved', 'Don', 'really', 'know', 'actually', 'apart', 'fact', 'interesting', 'article', 'I', 'like', 'know', 'wiki', 'I', 'usually', 'involved', 'WikiGnoming', 'DYK', 'PVGA', 'PGA', 'I', 'feel', 'like', 'What', 'best', 'worst', 'thing', 'Wikipedia', 'What', 'think', 'need', 'changing', 'make', 'better', 'One', 'best', 'thing', 'Wikipedia', 'edit', 'It', 'would', 'bit', 'hard', 'resist', 'correcting', 'typo', 'page', 'would', 'even', 'worse', 'I', 'even', 'edit', 'start', 'P', 'One', 'thing', 'I', 'find', 'bad', 'Wikipedia', 'people', 'clearly', 'helping', 'example', 'edit', 'war', 'drama', 'certain', 'page', 'I', 'sure', 'thing', 'change', 'make', 'project', 'better', 'I', 'would', 'appreciate', 'people', 'pinpoint', 'others', 'something', 'another', 'person', 'agree', 'I', 'find', 'bit', 'annoying', 'Agreed', 'Finally', 'ever', 'thought', 'running', 'adminship', 'Yeah', 'I', 'I', 'really', 'committed', 'first', 'month', 'editing', 'simple', 'editcount', 'fairly', 'low', 'compared', 'others', 'joined', 'later', 'Nevertheless', 'time', 'I', 'feel', 'I', 'ready', 'assist', 'project', 'I', 'run', 'adminship', 'I', 'sure', 'make', 'good', 'admin', 'Thanks', 'interview', 'Nifky', 'Join', 'u', 'next', 'time', 'another', 'interview', 'user', 'Pmlineditor', 'February', 'UTC'], ['This', 'category', 'property', 'National', 'Trust', 'England', 'Wales', 'Northern', 'Ireland', 'Scotland', 'included', 'separate', 'National', 'Trust'], ['Interstate', 'Interstate', 'Highway', 'state', 'Texas', 'United', 'States', 'It', 'go', 'Galveston', 'Texas', 'Galveston', 'north', 'Dallas', 'Texas', 'Dallas', 'The', 'route', 'long'], ['Jayceon', 'Terrell', 'Taylor', 'better', 'known', 'stage', 'Game', 'formally', 'The', 'Game', 'Americans', 'American', 'rapper', 'He', 'became', 'famous', 'success', 'debut', 'album', 'The', 'Documentary', 'two', 'Grammy', 'nomination', 'Since', 'considered', 'driving', 'force', 'bringing', 'back', 'West', 'Coast', 'hip', 'hop', 'scene', 'mainstream', 'competing', 'many', 'East', 'Coast', 'hip', 'hop', 'East', 'Coast', 'counterpart'], ['The', 'triangular', 'trade', 'refers', 'trade', 'across', 'Atlantic', 'Ocean', 'three', 'port', 'region', 'Triangular', 'trade', 'usually', 'develops', 'region', 'export', 'ing', 'resource', 'needed', 'region', 'main', 'import', 'Instead', 'resource', 'exported', 'third', 'region', 'The', 'Trade', 'route', 'route', 'involved', 'historically', 'shaped', 'Trade', 'wind', 'wind', 'Ocean', 'current', 'current', 'age', 'sailing', 'ship', 'The', 'best', 'known', 'triangular', 'trading', 'system', 'Atlantic', 'slave', 'trade', 'lasted', 'late', 'th', 'early', 'th', 'century', 'During', 'time', 'Europe', 'country', 'Britain', 'Spain', 'France', 'Colony', 'colony', 'Americas', 'Africa', 'The', 'ship', 'carrying', 'slave', 'crop', 'Manufacturing', 'manufactured', 'good', 'West', 'Africa', 'Caribbean', 'American', 'colony', 'colonial', 'power', 'Europe', 'The', 'use', 'African', 'slave', 'trade', 'African', 'slave', 'important', 'growing', 'colonial', 'cash', 'crop', 'exported', 'Europe', 'European', 'good', 'turn', 'used', 'buy', 'African', 'slave', 'brought', 'west', 'Africa', 'Americas', 'Forced', 'labour', 'work', 'crop', 'The', 'middle', 'passage', 'triangular', 'trade', 'refers', 'transportation', 'slave', 'america', 'The', 'Atlantic', 'economy', 'tied', 'idea', 'mercantilism', 'thought', 'good', 'idea', 'European', 'country', 'lot', 'colony', 'traded', 'Goods', 'traded', 'Atlantic', 'economy', 'rum', 'slave', 'sugar', 'tobacco', 'gold', 'spice', 'fish', 'lumber', 'manufactured', 'good'], ['Football', 'player', 'infobox', 'Giancarlo', 'Antognoni', 'former', 'Italy', 'Italian', 'Association', 'football', 'football', 'player', 'He', 'played', 'Italy', 'national', 'football', 'team', 'Italy', 'national', 'team'], ['Vetus', 'Latina', 'given', 'collection', 'Bible', 'Biblical', 'text', 'translated', 'Latin', 'language', 'Latin', 'Vulgate', 'became', 'standard', 'version', 'used', 'Latin', 'speaking', 'world', 'The', 'text', 'written', 'Late', 'Latin', 'Old', 'Latin', 'Many', 'text', 'passage', 'known', 'Church', 'father', 'Augustine', 'Hippo', 'cited', 'Since', 'Council', 'Trent', 'held', 'th', 'century', 'Vulgate', 'official', 'Bible', 'translation', 'Roman', 'Catholic', 'Church', 'Some', 'Vetus', 'Latin', 'text', 'survives', 'Liturgy', 'however', 'The', 'Old', 'Latin', 'text', 'mean', 'Glory', 'belongs', 'God', 'among', 'high', 'peace', 'belongs', 'good', 'earth', 'The', 'Vulgate', 'text', 'mean', 'Glory', 'belongs', 'God', 'among', 'high', 'peace', 'among', 'good', 'earth', 'Probably', 'best', 'known', 'difference', 'Old', 'Latin', 'Vulgate', 'Pater', 'Noster', 'phrase', 'Vetus', 'Latina', 'quotidianum', 'panem', 'daily', 'bread', 'becomes', 'supersubstantialem', 'panem', 'Epiousios', 'supersubstantial', 'bread', 'Vulgate'], ['Fame', 'song', 'David', 'Bowie', 'It', 'written', 'David', 'Bowie', 'John', 'Lennon', 'The', 'Beatles', 'The', 'song', 'combined', 'funk', 'rock', 'roll', 'rock', 'music', 'The', 'song', 'released', 'August', 'It', 'Bowie', 'Young', 'Americans', 'Young', 'Americans', 'album', 'The', 'song', 'reached', 'number', 'position', 'United', 'States', 'US', 'Billboard', 'Top', 'September']]\n"
     ]
    }
   ],
   "source": [
    "dictionary_of_docs = {}\n",
    "list_of_docs = []\n",
    "for i in range(10):\n",
    "    fn = \"corpus/\"+str(i)+\".txt\"\n",
    "    #print(fn)\n",
    "    f = open(fn,'r')\n",
    "    for x in f:\n",
    "        #print(word_tokenize(x))\n",
    "        tokens_without_sw = [word for word in word_tokenize(x) if not word in stopwords.words()]\n",
    "        #print(tokens_without_sw)\n",
    "        lemmas = [lemmatizer.lemmatize(lem) for lem in tokens_without_sw]\n",
    "        #print(lemmas)\n",
    "        #print(\"\\n\")\n",
    "    dictionary_of_docs[i] = lemmas\n",
    "    list_of_docs.append(lemmas)\n",
    "print(dictionary_of_docs)\n",
    "print(list_of_docs)"
   ]
  },
  {
   "cell_type": "code",
   "execution_count": 191,
   "id": "9d14ff57",
   "metadata": {
    "scrolled": false
   },
   "outputs": [
    {
     "name": "stdout",
     "output_type": "stream",
     "text": [
      "['Image', 'CRPD', 'member', 'svg', 'thumb', 'right', 'px', 'Signatories', 'Convention', 'Rights', 'Persons', 'Disabilities', 'The', 'Convention', 'Rights', 'Persons', 'Disabilities', 'international', 'agreement', 'protect', 'right', 'Liberty', 'freedom', 'people', 'Disability', 'disability', 'The', 'Convention', 'based', 'international', 'human', 'right', 'law', 'international', 'human', 'right', 'law', 'created', 'Universal', 'Declaration', 'Human', 'Rights', 'Ratification', 'ratified', 'The', 'Convention', 'adopted', 'United', 'Nations', 'General', 'Assembly', 'December', 'effect', 'since', 'May', 'Up', 'December', 'country', 'ratified', 'Convention', 'As', 'December', 'European', 'Union', 'collectively', 'ratified', 'Convention', 'Part', 'Convention', 'includes', 'meeting', 'make', 'sure', 'Convention', 'followed', 'People', 'disability', 'part', 'meeting', 'A', 'Prime', 'minister', 'manages', 'politics', 'country', 'With', 'country', 'king', 'queen', 'may', 'day', 'day', 'charge', 'taking', 'order', 'president', 'France', 'Countries', 'Prime', 'Minister', 'For', 'edition', 'user', 'Pmlineditor', 'Pmlineditor', 'interviewed', 'user', 'Nifky', 'Nifky', 'Okay', 'first', 'tell', 'Hi', 'I', 'Nifky', 'I', 'Australia', 'I', 'joined', 'Wikipedia', 'October', 'regularly', 'seen', 'onwiki', 'IRC', 'I', 'edit', 'Wikia', 'Nifky', 'When', 'first', 'discover', 'Wikipedia', 'I', 'discovered', 'Wikipedia', 'year', 'ago', 'actually', 'school', 'I', 'tried', 'create', 'account', 'page', 'ever', 'load', 'English', 'Wikipedia', 'I', 'edited', 'IP', 'bit', 'year', 'ago', 'I', 'discovered', 'edit', 'create', 'account', 'first', 'time', 'editor', 'What', 'got', 'involved', 'editing', 'Wikipedia', 'What', 'thing', 'involved', 'Don', 'really', 'know', 'actually', 'apart', 'fact', 'interesting', 'article', 'I', 'like', 'know', 'wiki', 'I', 'usually', 'involved', 'WikiGnoming', 'DYK', 'PVGA', 'PGA', 'I', 'feel', 'like', 'What', 'best', 'worst', 'thing', 'Wikipedia', 'What', 'think', 'need', 'changing', 'make', 'better', 'One', 'best', 'thing', 'Wikipedia', 'edit', 'It', 'would', 'bit', 'hard', 'resist', 'correcting', 'typo', 'page', 'would', 'even', 'worse', 'I', 'even', 'edit', 'start', 'P', 'One', 'thing', 'I', 'find', 'bad', 'Wikipedia', 'people', 'clearly', 'helping', 'example', 'edit', 'war', 'drama', 'certain', 'page', 'I', 'sure', 'thing', 'change', 'make', 'project', 'better', 'I', 'would', 'appreciate', 'people', 'pinpoint', 'others', 'something', 'another', 'person', 'agree', 'I', 'find', 'bit', 'annoying', 'Agreed', 'Finally', 'ever', 'thought', 'running', 'adminship', 'Yeah', 'I', 'I', 'really', 'committed', 'first', 'month', 'editing', 'simple', 'editcount', 'fairly', 'low', 'compared', 'others', 'joined', 'later', 'Nevertheless', 'time', 'I', 'feel', 'I', 'ready', 'assist', 'project', 'I', 'run', 'adminship', 'I', 'sure', 'make', 'good', 'admin', 'Thanks', 'interview', 'Nifky', 'Join', 'u', 'next', 'time', 'another', 'interview', 'user', 'Pmlineditor', 'February', 'UTC', 'This', 'category', 'property', 'National', 'Trust', 'England', 'Wales', 'Northern', 'Ireland', 'Scotland', 'included', 'separate', 'National', 'Trust', 'Interstate', 'Interstate', 'Highway', 'state', 'Texas', 'United', 'States', 'It', 'go', 'Galveston', 'Texas', 'Galveston', 'north', 'Dallas', 'Texas', 'Dallas', 'The', 'route', 'long', 'Jayceon', 'Terrell', 'Taylor', 'better', 'known', 'stage', 'Game', 'formally', 'The', 'Game', 'Americans', 'American', 'rapper', 'He', 'became', 'famous', 'success', 'debut', 'album', 'The', 'Documentary', 'two', 'Grammy', 'nomination', 'Since', 'considered', 'driving', 'force', 'bringing', 'back', 'West', 'Coast', 'hip', 'hop', 'scene', 'mainstream', 'competing', 'many', 'East', 'Coast', 'hip', 'hop', 'East', 'Coast', 'counterpart', 'The', 'triangular', 'trade', 'refers', 'trade', 'across', 'Atlantic', 'Ocean', 'three', 'port', 'region', 'Triangular', 'trade', 'usually', 'develops', 'region', 'export', 'ing', 'resource', 'needed', 'region', 'main', 'import', 'Instead', 'resource', 'exported', 'third', 'region', 'The', 'Trade', 'route', 'route', 'involved', 'historically', 'shaped', 'Trade', 'wind', 'wind', 'Ocean', 'current', 'current', 'age', 'sailing', 'ship', 'The', 'best', 'known', 'triangular', 'trading', 'system', 'Atlantic', 'slave', 'trade', 'lasted', 'late', 'th', 'early', 'th', 'century', 'During', 'time', 'Europe', 'country', 'Britain', 'Spain', 'France', 'Colony', 'colony', 'Americas', 'Africa', 'The', 'ship', 'carrying', 'slave', 'crop', 'Manufacturing', 'manufactured', 'good', 'West', 'Africa', 'Caribbean', 'American', 'colony', 'colonial', 'power', 'Europe', 'The', 'use', 'African', 'slave', 'trade', 'African', 'slave', 'important', 'growing', 'colonial', 'cash', 'crop', 'exported', 'Europe', 'European', 'good', 'turn', 'used', 'buy', 'African', 'slave', 'brought', 'west', 'Africa', 'Americas', 'Forced', 'labour', 'work', 'crop', 'The', 'middle', 'passage', 'triangular', 'trade', 'refers', 'transportation', 'slave', 'america', 'The', 'Atlantic', 'economy', 'tied', 'idea', 'mercantilism', 'thought', 'good', 'idea', 'European', 'country', 'lot', 'colony', 'traded', 'Goods', 'traded', 'Atlantic', 'economy', 'rum', 'slave', 'sugar', 'tobacco', 'gold', 'spice', 'fish', 'lumber', 'manufactured', 'good', 'Football', 'player', 'infobox', 'Giancarlo', 'Antognoni', 'former', 'Italy', 'Italian', 'Association', 'football', 'football', 'player', 'He', 'played', 'Italy', 'national', 'football', 'team', 'Italy', 'national', 'team', 'Vetus', 'Latina', 'given', 'collection', 'Bible', 'Biblical', 'text', 'translated', 'Latin', 'language', 'Latin', 'Vulgate', 'became', 'standard', 'version', 'used', 'Latin', 'speaking', 'world', 'The', 'text', 'written', 'Late', 'Latin', 'Old', 'Latin', 'Many', 'text', 'passage', 'known', 'Church', 'father', 'Augustine', 'Hippo', 'cited', 'Since', 'Council', 'Trent', 'held', 'th', 'century', 'Vulgate', 'official', 'Bible', 'translation', 'Roman', 'Catholic', 'Church', 'Some', 'Vetus', 'Latin', 'text', 'survives', 'Liturgy', 'however', 'The', 'Old', 'Latin', 'text', 'mean', 'Glory', 'belongs', 'God', 'among', 'high', 'peace', 'belongs', 'good', 'earth', 'The', 'Vulgate', 'text', 'mean', 'Glory', 'belongs', 'God', 'among', 'high', 'peace', 'among', 'good', 'earth', 'Probably', 'best', 'known', 'difference', 'Old', 'Latin', 'Vulgate', 'Pater', 'Noster', 'phrase', 'Vetus', 'Latina', 'quotidianum', 'panem', 'daily', 'bread', 'becomes', 'supersubstantialem', 'panem', 'Epiousios', 'supersubstantial', 'bread', 'Vulgate', 'Fame', 'song', 'David', 'Bowie', 'It', 'written', 'David', 'Bowie', 'John', 'Lennon', 'The', 'Beatles', 'The', 'song', 'combined', 'funk', 'rock', 'roll', 'rock', 'music', 'The', 'song', 'released', 'August', 'It', 'Bowie', 'Young', 'Americans', 'Young', 'Americans', 'album', 'The', 'song', 'reached', 'number', 'position', 'United', 'States', 'US', 'Billboard', 'Top', 'September']\n",
      "710\n"
     ]
    }
   ],
   "source": [
    "all_words = []\n",
    "for i in (list_of_docs):\n",
    "    all_words.extend(i)\n",
    "print(all_words)\n",
    "print(len(all_words))"
   ]
  },
  {
   "cell_type": "code",
   "execution_count": 192,
   "id": "114592f0",
   "metadata": {},
   "outputs": [],
   "source": [
    "from sklearn.feature_extraction.text import TfidfVectorizer\n",
    "from sklearn.cluster import KMeans\n",
    "import numpy as np\n",
    "import pandas as pd\n",
    "import csv"
   ]
  },
  {
   "cell_type": "code",
   "execution_count": 193,
   "id": "6061e44a",
   "metadata": {},
   "outputs": [],
   "source": [
    "tfidfvect = TfidfVectorizer(stop_words='english')"
   ]
  },
  {
   "cell_type": "code",
   "execution_count": 194,
   "id": "7cab039c",
   "metadata": {},
   "outputs": [],
   "source": [
    "X = tfidfvect.fit_transform(all_words)"
   ]
  },
  {
   "cell_type": "code",
   "execution_count": 195,
   "id": "31ae4aac",
   "metadata": {
    "scrolled": true
   },
   "outputs": [
    {
     "data": {
      "text/plain": [
       "<710x364 sparse matrix of type '<class 'numpy.float64'>'\n",
       "\twith 599 stored elements in Compressed Sparse Row format>"
      ]
     },
     "execution_count": 195,
     "metadata": {},
     "output_type": "execute_result"
    }
   ],
   "source": [
    "X"
   ]
  },
  {
   "cell_type": "code",
   "execution_count": 201,
   "id": "fe3adcff",
   "metadata": {},
   "outputs": [
    {
     "name": "stdout",
     "output_type": "stream",
     "text": [
      "[0.00289436 0.00289436 0.00144718 0.00289436 0.00144718 0.00434153\n",
      " 0.00434153 0.00144718 0.00289436 0.00144718 0.00144718 0.00144718\n",
      " 0.00289436 0.00144718 0.00289436 0.00434153 0.00289436 0.00144718\n",
      " 0.00144718 0.00144718 0.00144718 0.00144718 0.00144718 0.00144718\n",
      " 0.00144718 0.00578871 0.00144718 0.00144718 0.00144718 0.00144718\n",
      " 0.00144718 0.00144718 0.00434153 0.00578871 0.00434153 0.00289436\n",
      " 0.00144718 0.00144718 0.00434153 0.00434153 0.00289436 0.00144718\n",
      " 0.00144718 0.00144718 0.00144718 0.00144718 0.00144718 0.00144718\n",
      " 0.00144718 0.00144718 0.00289436 0.00144718 0.00144718 0.00144718\n",
      " 0.00144718 0.00289436 0.00144718 0.00144718 0.00434153 0.00144718\n",
      " 0.00144718 0.00289436 0.00578871 0.00144718 0.00144718 0.00144718\n",
      " 0.00144718 0.00144718 0.01157742 0.00144718 0.00144718 0.00144718\n",
      " 0.00144718 0.00723589 0.00289436 0.00144718 0.00434153 0.00144718\n",
      " 0.00289436 0.00144718 0.00289436 0.00289436 0.00289436 0.00144718\n",
      " 0.00434153 0.00144718 0.00144718 0.00144718 0.00289436 0.00434153\n",
      " 0.00144718 0.00289436 0.00144718 0.00144718 0.00144718 0.00144718\n",
      " 0.00144718 0.00144718 0.00289436 0.00289436 0.00289436 0.00723589\n",
      " 0.00144718 0.00144718 0.00289436 0.00144718 0.00144718 0.00144718\n",
      " 0.00144718 0.00144718 0.00144718 0.00434153 0.00434153 0.00144718\n",
      " 0.00144718 0.00289436 0.00144718 0.00144718 0.00144718 0.00144718\n",
      " 0.00144718 0.00144718 0.00289436 0.00144718 0.00144718 0.00144718\n",
      " 0.00578871 0.00144718 0.00144718 0.00144718 0.00289436 0.00144718\n",
      " 0.00144718 0.00289436 0.00289436 0.00144718 0.00144718 0.00144718\n",
      " 0.00289436 0.00289436 0.00144718 0.01013025 0.00144718 0.00144718\n",
      " 0.00144718 0.00144718 0.00144718 0.00144718 0.00144718 0.00144718\n",
      " 0.00289436 0.00144718 0.00289436 0.00144718 0.00144718 0.00289436\n",
      " 0.00434153 0.00289436 0.00144718 0.00144718 0.00144718 0.00144718\n",
      " 0.00144718 0.00144718 0.00144718 0.00144718 0.00144718 0.00434153\n",
      " 0.00289436 0.00289436 0.00144718 0.00578871 0.00144718 0.00144718\n",
      " 0.00144718 0.00144718 0.00434153 0.00144718 0.00144718 0.00144718\n",
      " 0.00289436 0.00144718 0.00289436 0.00578871 0.00144718 0.00144718\n",
      " 0.00144718 0.00289436 0.00144718 0.01157742 0.00289436 0.00289436\n",
      " 0.00144718 0.00144718 0.00289436 0.00144718 0.00144718 0.00144718\n",
      " 0.00144718 0.00144718 0.00144718 0.00144718 0.00144718 0.00578871\n",
      " 0.00144718 0.00289436 0.00144718 0.00289436 0.         0.00144718\n",
      " 0.00144718 0.00144718 0.00289436 0.00144718 0.00144718 0.00578871\n",
      " 0.00144718 0.00144718 0.00144718 0.00723589 0.00144718 0.00144718\n",
      " 0.00144718 0.00144718 0.00144718 0.00289436 0.00144718 0.00144718\n",
      " 0.00144718 0.00434153 0.00144718 0.00144718 0.00434153 0.00289436\n",
      " 0.00289436 0.00144718 0.00289436 0.00578871 0.00144718 0.00289436\n",
      " 0.00144718 0.00144718 0.00144718 0.00144718 0.00289436 0.00434153\n",
      " 0.00144718 0.00144718 0.00144718 0.00144718 0.00144718 0.00289436\n",
      " 0.00144718 0.00289436 0.00144718 0.00144718 0.00144718 0.00144718\n",
      " 0.00144718 0.00144718 0.00144718 0.00144718 0.00434153 0.\n",
      " 0.00144718 0.00289436 0.00289436 0.00578871 0.00144718 0.00144718\n",
      " 0.00144718 0.00289436 0.00578871 0.00434153 0.00289436 0.00144718\n",
      " 0.00144718 0.00434153 0.00144718 0.00144718 0.00144718 0.00144718\n",
      " 0.00144718 0.00144718 0.00144718 0.00144718 0.00144718 0.00144718\n",
      " 0.00144718 0.00289436 0.00144718 0.00144718 0.01013025 0.00578871\n",
      " 0.00144718 0.00144718 0.00144718 0.00144718 0.00144718 0.00144718\n",
      " 0.00144718 0.00289436 0.00144718 0.00144718 0.00144718 0.00144718\n",
      " 0.00434153 0.00144718 0.00144718 0.00144718 0.00144718 0.00289436\n",
      " 0.00144718 0.00144718 0.00434153 0.00868307 0.00434153 0.00144718\n",
      " 0.00723589 0.00144718 0.00289436 0.00144718 0.00144718 0.00578871\n",
      " 0.00144718 0.         0.00289436 0.00144718 0.00144718 0.00144718\n",
      " 0.00144718 0.00144718 0.00578871 0.00144718 0.00289436 0.00144718\n",
      " 0.00144718 0.00144718 0.00434153 0.00144718 0.00144718 0.00289436\n",
      " 0.00434153 0.00289436 0.00144718 0.00144718 0.00434153 0.00723589\n",
      " 0.00144718 0.00144718 0.00434153 0.00144718 0.00144718 0.00144718\n",
      " 0.         0.00289436 0.00144718 0.00144718 0.00144718 0.00144718\n",
      " 0.00289436 0.00144718 0.00289436 0.00289436]\n",
      "5\n",
      "364\n"
     ]
    }
   ],
   "source": [
    "num = 5\n",
    "kmeans = KMeans(n_clusters = num, init = 'k-means++', max_iter = 500, n_init = 1)\n",
    "kmeans.fit(X)\n",
    "print(kmeans.cluster_centers_[2]) #This will print cluster centroids as tf-idf vectors\n",
    "print(len(kmeans.cluster_centers_))\n",
    "print(len(kmeans.cluster_centers_[2]))"
   ]
  },
  {
   "cell_type": "code",
   "execution_count": 235,
   "id": "d93945fd",
   "metadata": {},
   "outputs": [
    {
     "name": "stdout",
     "output_type": "stream",
     "text": [
      "[2]\n"
     ]
    }
   ],
   "source": [
    "X = tfidfvect.transform([\"related position team\"])\n",
    "predicted = kmeans.predict(X)\n",
    "print(predicted)"
   ]
  },
  {
   "cell_type": "code",
   "execution_count": null,
   "id": "0facff69",
   "metadata": {},
   "outputs": [],
   "source": []
  },
  {
   "cell_type": "code",
   "execution_count": null,
   "id": "433ae0bc",
   "metadata": {},
   "outputs": [],
   "source": []
  },
  {
   "cell_type": "code",
   "execution_count": 205,
   "id": "088c05f7",
   "metadata": {},
   "outputs": [],
   "source": [
    "from sklearn.feature_extraction.text import TfidfVectorizer\n",
    "from sklearn.cluster import KMeans\n",
    "import numpy as np\n",
    "import pandas as pd\n",
    "import csv"
   ]
  },
  {
   "cell_type": "code",
   "execution_count": 240,
   "id": "02a848f4",
   "metadata": {
    "scrolled": true
   },
   "outputs": [
    {
     "data": {
      "text/plain": [
       "TfidfVectorizer(stop_words='english')"
      ]
     },
     "execution_count": 240,
     "metadata": {},
     "output_type": "execute_result"
    }
   ],
   "source": [
    "tfidfvect = TfidfVectorizer(stop_words='english')\n",
    "tfidfvect"
   ]
  },
  {
   "cell_type": "code",
   "execution_count": 241,
   "id": "bee72c4b",
   "metadata": {},
   "outputs": [],
   "source": [
    "X = tfidfvect.fit_transform(all_words)"
   ]
  },
  {
   "cell_type": "code",
   "execution_count": 242,
   "id": "3ae02c9c",
   "metadata": {
    "scrolled": true
   },
   "outputs": [
    {
     "data": {
      "text/plain": [
       "<710x364 sparse matrix of type '<class 'numpy.float64'>'\n",
       "\twith 599 stored elements in Compressed Sparse Row format>"
      ]
     },
     "execution_count": 242,
     "metadata": {},
     "output_type": "execute_result"
    }
   ],
   "source": [
    "X"
   ]
  },
  {
   "cell_type": "code",
   "execution_count": null,
   "id": "c4497ac6",
   "metadata": {},
   "outputs": [],
   "source": []
  },
  {
   "cell_type": "code",
   "execution_count": 231,
   "id": "a730b27a",
   "metadata": {},
   "outputs": [
    {
     "name": "stdout",
     "output_type": "stream",
     "text": [
      "[0. 0. 0. 0. 0. 0. 0. 0. 0. 0. 0. 0. 0. 0. 0. 0. 0. 0. 0. 0. 0. 0. 0. 0.\n",
      " 0. 0. 0. 0. 0. 0. 0. 0. 0. 0. 0. 0. 0. 0. 0. 0. 0. 0. 0. 0. 0. 0. 0. 0.\n",
      " 0. 0. 0. 0. 0. 0. 0. 0. 0. 0. 0. 0. 0. 0. 0. 0. 0. 0. 0. 0. 0. 0. 0. 0.\n",
      " 0. 0. 0. 0. 0. 0. 0. 0. 0. 0. 0. 0. 0. 0. 0. 0. 0. 0. 0. 0. 0. 0. 0. 0.\n",
      " 0. 0. 0. 0. 0. 0. 0. 0. 0. 0. 0. 0. 0. 0. 0. 0. 0. 0. 0. 0. 0. 0. 0. 0.\n",
      " 0. 0. 0. 0. 0. 0. 0. 0. 0. 0. 0. 0. 0. 0. 0. 0. 0. 0. 0. 0. 0. 0. 0. 0.\n",
      " 0. 0. 0. 0. 0. 0. 0. 0. 0. 0. 0. 0. 0. 0. 0. 0. 0. 0. 0. 0. 0. 0. 0. 0.\n",
      " 0. 0. 0. 0. 0. 0. 0. 0. 0. 0. 0. 0. 0. 0. 0. 1. 0. 0. 0. 0. 0. 0. 0. 0.\n",
      " 0. 0. 0. 0. 0. 0. 0. 0. 0. 0. 0. 0. 0. 0. 0. 0. 0. 0. 0. 0. 0. 0. 0. 0.\n",
      " 0. 0. 0. 0. 0. 0. 0. 0. 0. 0. 0. 0. 0. 0. 0. 0. 0. 0. 0. 0. 0. 0. 0. 0.\n",
      " 0. 0. 0. 0. 0. 0. 0. 0. 0. 0. 0. 0. 0. 0. 0. 0. 0. 0. 0. 0. 0. 0. 0. 0.\n",
      " 0. 0. 0. 0. 0. 0. 0. 0. 0. 0. 0. 0. 0. 0. 0. 0. 0. 0. 0. 0. 0. 0. 0. 0.\n",
      " 0. 0. 0. 0. 0. 0. 0. 0. 0. 0. 0. 0. 0. 0. 0. 0. 0. 0. 0. 0. 0. 0. 0. 0.\n",
      " 0. 0. 0. 0. 0. 0. 0. 0. 0. 0. 0. 0. 0. 0. 0. 0. 0. 0. 0. 0. 0. 0. 0. 0.\n",
      " 0. 0. 0. 0. 0. 0. 0. 0. 0. 0. 0. 0. 0. 0. 0. 0. 0. 0. 0. 0. 0. 0. 0. 0.\n",
      " 0. 0. 0. 0.]\n",
      "[[0.         0.         0.         ... 0.         0.         0.        ]\n",
      " [0.         0.         0.         ... 0.         0.         0.        ]\n",
      " [0.00288184 0.00288184 0.00144092 ... 0.00144092 0.00288184 0.00288184]\n",
      " [0.         0.         0.         ... 0.         0.         0.        ]\n",
      " [0.         0.         0.         ... 0.         0.         0.        ]]\n",
      "5\n",
      "364\n"
     ]
    }
   ],
   "source": [
    "num = 5\n",
    "kmeans = KMeans(n_clusters = num, init = 'k-means++', max_iter = 500, n_init = 1)\n",
    "kmeans.fit(X)\n",
    "print(kmeans.cluster_centers_[0])\n",
    "print(kmeans.cluster_centers_)\n",
    "print(len(kmeans.cluster_centers_))\n",
    "print(len(kmeans.cluster_centers_[0]))"
   ]
  },
  {
   "cell_type": "code",
   "execution_count": 234,
   "id": "4f79372a",
   "metadata": {},
   "outputs": [
    {
     "name": "stdout",
     "output_type": "stream",
     "text": [
      "[2]\n"
     ]
    }
   ],
   "source": [
    "X = tfidfvect.transform([\"related position team\"])\n",
    "predicted = kmeans.predict(X)\n",
    "print(predicted)"
   ]
  },
  {
   "cell_type": "code",
   "execution_count": null,
   "id": "a213772b",
   "metadata": {},
   "outputs": [],
   "source": []
  },
  {
   "cell_type": "code",
   "execution_count": 255,
   "id": "8b0450b2",
   "metadata": {},
   "outputs": [
    {
     "name": "stdout",
     "output_type": "stream",
     "text": [
      "[0.00286944 0.00286944 0.00143472 0.00286944 0.00143472 0.00430416\n",
      " 0.00430416 0.00143472 0.00286944 0.00143472 0.00143472 0.00143472\n",
      " 0.00286944 0.00143472 0.00286944 0.00430416 0.00286944 0.00143472\n",
      " 0.00143472 0.         0.00143472 0.00143472 0.00143472 0.00143472\n",
      " 0.00143472 0.00573888 0.00143472 0.00143472 0.00143472 0.00143472\n",
      " 0.00143472 0.00143472 0.00430416 0.00573888 0.00430416 0.00286944\n",
      " 0.00143472 0.00143472 0.00430416 0.00430416 0.00286944 0.00143472\n",
      " 0.00143472 0.00143472 0.00143472 0.00143472 0.00143472 0.00143472\n",
      " 0.00143472 0.00143472 0.00286944 0.00143472 0.00143472 0.00143472\n",
      " 0.00143472 0.00286944 0.00143472 0.00143472 0.00430416 0.00143472\n",
      " 0.00143472 0.00286944 0.00573888 0.00143472 0.00143472 0.00143472\n",
      " 0.00143472 0.00143472 0.01147776 0.00143472 0.00143472 0.00143472\n",
      " 0.00143472 0.0071736  0.00286944 0.00143472 0.00430416 0.00143472\n",
      " 0.00286944 0.00143472 0.00286944 0.00286944 0.00286944 0.00143472\n",
      " 0.00430416 0.00143472 0.00143472 0.00143472 0.00286944 0.00430416\n",
      " 0.00143472 0.00286944 0.00143472 0.00143472 0.00143472 0.00143472\n",
      " 0.00143472 0.00143472 0.00286944 0.00286944 0.00286944 0.0071736\n",
      " 0.00143472 0.00143472 0.00286944 0.00143472 0.00143472 0.00143472\n",
      " 0.00143472 0.00143472 0.00143472 0.00430416 0.00430416 0.00143472\n",
      " 0.00143472 0.00286944 0.00143472 0.00143472 0.00143472 0.00143472\n",
      " 0.00143472 0.00143472 0.00286944 0.00143472 0.00143472 0.00143472\n",
      " 0.00573888 0.00143472 0.00143472 0.00143472 0.00286944 0.00143472\n",
      " 0.00143472 0.00286944 0.00286944 0.00143472 0.00143472 0.00143472\n",
      " 0.00286944 0.00286944 0.00143472 0.01004304 0.00143472 0.00143472\n",
      " 0.00143472 0.00143472 0.00143472 0.00143472 0.00143472 0.00143472\n",
      " 0.00286944 0.00143472 0.00286944 0.00143472 0.00143472 0.00286944\n",
      " 0.00430416 0.00286944 0.00143472 0.00143472 0.00143472 0.00143472\n",
      " 0.00143472 0.00143472 0.00143472 0.00143472 0.00143472 0.00430416\n",
      " 0.00286944 0.00286944 0.00143472 0.00573888 0.00143472 0.00143472\n",
      " 0.00143472 0.00143472 0.00430416 0.00143472 0.00143472 0.00143472\n",
      " 0.         0.00143472 0.00286944 0.00573888 0.00143472 0.00143472\n",
      " 0.00143472 0.00286944 0.00143472 0.01147776 0.00286944 0.00286944\n",
      " 0.00143472 0.00143472 0.00286944 0.00143472 0.00143472 0.00143472\n",
      " 0.00143472 0.00143472 0.00143472 0.00143472 0.00143472 0.00573888\n",
      " 0.00143472 0.00286944 0.00143472 0.00286944 0.00286944 0.00143472\n",
      " 0.00143472 0.00143472 0.00286944 0.00143472 0.00143472 0.00573888\n",
      " 0.00143472 0.00143472 0.00143472 0.0071736  0.00143472 0.00143472\n",
      " 0.00143472 0.00143472 0.00143472 0.00286944 0.00143472 0.00143472\n",
      " 0.00143472 0.00430416 0.00143472 0.00143472 0.00430416 0.00286944\n",
      " 0.00286944 0.00143472 0.00286944 0.00573888 0.00143472 0.00286944\n",
      " 0.00143472 0.00143472 0.00143472 0.00143472 0.00286944 0.00430416\n",
      " 0.00143472 0.00143472 0.00143472 0.00143472 0.00143472 0.00286944\n",
      " 0.00143472 0.00286944 0.00143472 0.00143472 0.00143472 0.00143472\n",
      " 0.00143472 0.00143472 0.00143472 0.00143472 0.00430416 0.00143472\n",
      " 0.00143472 0.00286944 0.00286944 0.00573888 0.00143472 0.00143472\n",
      " 0.00143472 0.00286944 0.00573888 0.00430416 0.00286944 0.00143472\n",
      " 0.00143472 0.00430416 0.00143472 0.00143472 0.00143472 0.00143472\n",
      " 0.00143472 0.00143472 0.00143472 0.00143472 0.00143472 0.00143472\n",
      " 0.00143472 0.00286944 0.00143472 0.00143472 0.01004304 0.\n",
      " 0.00143472 0.00143472 0.00143472 0.00143472 0.00143472 0.00143472\n",
      " 0.00143472 0.00286944 0.00143472 0.00143472 0.00143472 0.00143472\n",
      " 0.00430416 0.00143472 0.00143472 0.00143472 0.00143472 0.00286944\n",
      " 0.00143472 0.00143472 0.00430416 0.         0.00430416 0.00143472\n",
      " 0.0071736  0.00143472 0.00286944 0.00143472 0.00143472 0.00573888\n",
      " 0.00143472 0.01147776 0.00286944 0.00143472 0.00143472 0.00143472\n",
      " 0.00143472 0.00143472 0.00573888 0.00143472 0.00286944 0.00143472\n",
      " 0.00143472 0.00143472 0.00430416 0.00143472 0.00143472 0.00286944\n",
      " 0.00430416 0.00286944 0.00143472 0.00143472 0.00430416 0.0071736\n",
      " 0.00143472 0.00143472 0.00430416 0.00143472 0.00143472 0.00143472\n",
      " 0.01147776 0.00286944 0.00143472 0.00143472 0.00143472 0.00143472\n",
      " 0.00286944 0.00143472 0.00286944 0.00286944]\n",
      "5\n"
     ]
    }
   ],
   "source": [
    "num = 5 # total 5 clusters\n",
    "kmeans = KMeans(n_clusters = num, init = 'k-means++', max_iter = 500, n_init = 1)\n",
    "kmeans.fit(X)\n",
    "print(kmeans.cluster_centers_[2]) #This will print cluster centroids as tf-idf vectors for 2nd document\n",
    "print(len(kmeans.cluster_centers_)) # This will print the total no of clusters (which is 5)"
   ]
  },
  {
   "cell_type": "code",
   "execution_count": null,
   "id": "5ba133cd",
   "metadata": {},
   "outputs": [],
   "source": []
  }
 ],
 "metadata": {
  "kernelspec": {
   "display_name": "Python 3",
   "language": "python",
   "name": "python3"
  },
  "language_info": {
   "codemirror_mode": {
    "name": "ipython",
    "version": 3
   },
   "file_extension": ".py",
   "mimetype": "text/x-python",
   "name": "python",
   "nbconvert_exporter": "python",
   "pygments_lexer": "ipython3",
   "version": "3.8.8"
  }
 },
 "nbformat": 4,
 "nbformat_minor": 5
}
